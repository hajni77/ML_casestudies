{
 "cells": [
  {
   "cell_type": "code",
   "execution_count": 61,
   "id": "ca184a76",
   "metadata": {},
   "outputs": [],
   "source": [
    "import warnings\n",
    "warnings.simplefilter(action='ignore', category=FutureWarning)\n",
    "import pandas as pd\n",
    "import numpy as np\n",
    "import matplotlib.pyplot as plt\n",
    "\n",
    "from sklearn.linear_model import LogisticRegression\n",
    "from sklearn.tree import DecisionTreeClassifier, plot_tree\n",
    "from sklearn.neighbors import KNeighborsClassifier\n",
    "\n",
    "from sklearn.metrics import accuracy_score, recall_score, precision_score, confusion_matrix\n",
    "from sklearn.metrics import roc_auc_score\n",
    "from sklearn.model_selection import train_test_split, cross_val_predict\n",
    "from sklearn.preprocessing import MinMaxScaler\n",
    "from sklearn.pipeline import Pipeline"
   ]
  },
  {
   "cell_type": "code",
   "execution_count": 2,
   "id": "344d6544",
   "metadata": {},
   "outputs": [],
   "source": [
    "pd.set_option('display.max_columns', None)"
   ]
  },
  {
   "cell_type": "code",
   "execution_count": 3,
   "id": "2cb278f6",
   "metadata": {},
   "outputs": [],
   "source": [
    "df = pd.read_csv('../_data/DataSet_Hitelbiralat_joados.csv')"
   ]
  },
  {
   "cell_type": "code",
   "execution_count": 4,
   "id": "043e42d7",
   "metadata": {},
   "outputs": [
    {
     "data": {
      "text/html": [
       "<div>\n",
       "<style scoped>\n",
       "    .dataframe tbody tr th:only-of-type {\n",
       "        vertical-align: middle;\n",
       "    }\n",
       "\n",
       "    .dataframe tbody tr th {\n",
       "        vertical-align: top;\n",
       "    }\n",
       "\n",
       "    .dataframe thead th {\n",
       "        text-align: right;\n",
       "    }\n",
       "</style>\n",
       "<table border=\"1\" class=\"dataframe\">\n",
       "  <thead>\n",
       "    <tr style=\"text-align: right;\">\n",
       "      <th></th>\n",
       "      <th>id_client</th>\n",
       "      <th>id_shop</th>\n",
       "      <th>sex</th>\n",
       "      <th>marital_status</th>\n",
       "      <th>age</th>\n",
       "      <th>quant_dependants</th>\n",
       "      <th>education</th>\n",
       "      <th>flag_residencial_phone</th>\n",
       "      <th>area_code_residencial_phone</th>\n",
       "      <th>payment_day</th>\n",
       "      <th>shop_rank</th>\n",
       "      <th>residence_type</th>\n",
       "      <th>months_in_residence</th>\n",
       "      <th>flag_mothers_name</th>\n",
       "      <th>flag_fathers_name</th>\n",
       "      <th>flag_residence_town_working_town</th>\n",
       "      <th>flag_residence_state_working_state</th>\n",
       "      <th>months_in_the_job</th>\n",
       "      <th>profession_code</th>\n",
       "      <th>mate_income</th>\n",
       "      <th>flag_residencial_address_postal_address</th>\n",
       "      <th>flag_other_card</th>\n",
       "      <th>quant_banking_accounts</th>\n",
       "      <th>personal_reference_1</th>\n",
       "      <th>personal_reference_2</th>\n",
       "      <th>flag_mobile_phone</th>\n",
       "      <th>flag_contact_phone</th>\n",
       "      <th>personal_net_income</th>\n",
       "      <th>cod_application_booth</th>\n",
       "      <th>quant_additional_cards_in_the_application</th>\n",
       "      <th>flag_card_insurance_option</th>\n",
       "      <th>target</th>\n",
       "    </tr>\n",
       "  </thead>\n",
       "  <tbody>\n",
       "    <tr>\n",
       "      <th>0</th>\n",
       "      <td>1</td>\n",
       "      <td>22</td>\n",
       "      <td>F</td>\n",
       "      <td>O</td>\n",
       "      <td>44</td>\n",
       "      <td>0</td>\n",
       "      <td>NaN</td>\n",
       "      <td>N</td>\n",
       "      <td>31</td>\n",
       "      <td>12</td>\n",
       "      <td>0</td>\n",
       "      <td>P</td>\n",
       "      <td>12</td>\n",
       "      <td>Y</td>\n",
       "      <td>Y</td>\n",
       "      <td>N</td>\n",
       "      <td>Y</td>\n",
       "      <td>48</td>\n",
       "      <td>731</td>\n",
       "      <td>0.0</td>\n",
       "      <td>Y</td>\n",
       "      <td>N</td>\n",
       "      <td>0</td>\n",
       "      <td>VERA</td>\n",
       "      <td>LUCIA</td>\n",
       "      <td>N</td>\n",
       "      <td>N</td>\n",
       "      <td>300.0</td>\n",
       "      <td>0</td>\n",
       "      <td>0</td>\n",
       "      <td>N</td>\n",
       "      <td>1</td>\n",
       "    </tr>\n",
       "    <tr>\n",
       "      <th>1</th>\n",
       "      <td>2</td>\n",
       "      <td>15</td>\n",
       "      <td>F</td>\n",
       "      <td>S</td>\n",
       "      <td>18</td>\n",
       "      <td>0</td>\n",
       "      <td>NaN</td>\n",
       "      <td>Y</td>\n",
       "      <td>31</td>\n",
       "      <td>20</td>\n",
       "      <td>0</td>\n",
       "      <td>P</td>\n",
       "      <td>216</td>\n",
       "      <td>Y</td>\n",
       "      <td>Y</td>\n",
       "      <td>Y</td>\n",
       "      <td>Y</td>\n",
       "      <td>12</td>\n",
       "      <td>853</td>\n",
       "      <td>0.0</td>\n",
       "      <td>Y</td>\n",
       "      <td>N</td>\n",
       "      <td>0</td>\n",
       "      <td>SARA</td>\n",
       "      <td>FELIPE</td>\n",
       "      <td>N</td>\n",
       "      <td>N</td>\n",
       "      <td>300.0</td>\n",
       "      <td>0</td>\n",
       "      <td>0</td>\n",
       "      <td>N</td>\n",
       "      <td>1</td>\n",
       "    </tr>\n",
       "    <tr>\n",
       "      <th>2</th>\n",
       "      <td>3</td>\n",
       "      <td>24</td>\n",
       "      <td>F</td>\n",
       "      <td>C</td>\n",
       "      <td>22</td>\n",
       "      <td>0</td>\n",
       "      <td>NaN</td>\n",
       "      <td>Y</td>\n",
       "      <td>31</td>\n",
       "      <td>8</td>\n",
       "      <td>0</td>\n",
       "      <td>P</td>\n",
       "      <td>48</td>\n",
       "      <td>Y</td>\n",
       "      <td>N</td>\n",
       "      <td>Y</td>\n",
       "      <td>Y</td>\n",
       "      <td>12</td>\n",
       "      <td>40</td>\n",
       "      <td>0.0</td>\n",
       "      <td>Y</td>\n",
       "      <td>N</td>\n",
       "      <td>0</td>\n",
       "      <td>HELENA</td>\n",
       "      <td>DOMINGOS SOGRA</td>\n",
       "      <td>N</td>\n",
       "      <td>N</td>\n",
       "      <td>229.0</td>\n",
       "      <td>0</td>\n",
       "      <td>0</td>\n",
       "      <td>N</td>\n",
       "      <td>1</td>\n",
       "    </tr>\n",
       "    <tr>\n",
       "      <th>3</th>\n",
       "      <td>4</td>\n",
       "      <td>12</td>\n",
       "      <td>F</td>\n",
       "      <td>C</td>\n",
       "      <td>47</td>\n",
       "      <td>0</td>\n",
       "      <td>NaN</td>\n",
       "      <td>N</td>\n",
       "      <td>31</td>\n",
       "      <td>25</td>\n",
       "      <td>0</td>\n",
       "      <td>P</td>\n",
       "      <td>180</td>\n",
       "      <td>Y</td>\n",
       "      <td>Y</td>\n",
       "      <td>N</td>\n",
       "      <td>Y</td>\n",
       "      <td>24</td>\n",
       "      <td>35</td>\n",
       "      <td>0.0</td>\n",
       "      <td>Y</td>\n",
       "      <td>N</td>\n",
       "      <td>0</td>\n",
       "      <td>JACI</td>\n",
       "      <td>VALERIA ALEXANDRA TRAJANO</td>\n",
       "      <td>N</td>\n",
       "      <td>N</td>\n",
       "      <td>304.0</td>\n",
       "      <td>0</td>\n",
       "      <td>0</td>\n",
       "      <td>N</td>\n",
       "      <td>1</td>\n",
       "    </tr>\n",
       "    <tr>\n",
       "      <th>4</th>\n",
       "      <td>5</td>\n",
       "      <td>16</td>\n",
       "      <td>F</td>\n",
       "      <td>S</td>\n",
       "      <td>28</td>\n",
       "      <td>0</td>\n",
       "      <td>NaN</td>\n",
       "      <td>Y</td>\n",
       "      <td>31</td>\n",
       "      <td>25</td>\n",
       "      <td>0</td>\n",
       "      <td>O</td>\n",
       "      <td>12</td>\n",
       "      <td>Y</td>\n",
       "      <td>Y</td>\n",
       "      <td>Y</td>\n",
       "      <td>Y</td>\n",
       "      <td>12</td>\n",
       "      <td>24</td>\n",
       "      <td>0.0</td>\n",
       "      <td>Y</td>\n",
       "      <td>N</td>\n",
       "      <td>0</td>\n",
       "      <td>MARCIA CRISTINA ZANELLA</td>\n",
       "      <td>SANDRO L P MARTINS</td>\n",
       "      <td>N</td>\n",
       "      <td>N</td>\n",
       "      <td>250.0</td>\n",
       "      <td>0</td>\n",
       "      <td>0</td>\n",
       "      <td>N</td>\n",
       "      <td>1</td>\n",
       "    </tr>\n",
       "  </tbody>\n",
       "</table>\n",
       "</div>"
      ],
      "text/plain": [
       "   id_client  id_shop sex marital_status  age  quant_dependants  education  \\\n",
       "0          1       22   F              O   44                 0        NaN   \n",
       "1          2       15   F              S   18                 0        NaN   \n",
       "2          3       24   F              C   22                 0        NaN   \n",
       "3          4       12   F              C   47                 0        NaN   \n",
       "4          5       16   F              S   28                 0        NaN   \n",
       "\n",
       "  flag_residencial_phone  area_code_residencial_phone  payment_day  shop_rank  \\\n",
       "0                      N                           31           12          0   \n",
       "1                      Y                           31           20          0   \n",
       "2                      Y                           31            8          0   \n",
       "3                      N                           31           25          0   \n",
       "4                      Y                           31           25          0   \n",
       "\n",
       "  residence_type  months_in_residence flag_mothers_name flag_fathers_name  \\\n",
       "0              P                   12                 Y                 Y   \n",
       "1              P                  216                 Y                 Y   \n",
       "2              P                   48                 Y                 N   \n",
       "3              P                  180                 Y                 Y   \n",
       "4              O                   12                 Y                 Y   \n",
       "\n",
       "  flag_residence_town_working_town flag_residence_state_working_state  \\\n",
       "0                                N                                  Y   \n",
       "1                                Y                                  Y   \n",
       "2                                Y                                  Y   \n",
       "3                                N                                  Y   \n",
       "4                                Y                                  Y   \n",
       "\n",
       "   months_in_the_job  profession_code  mate_income  \\\n",
       "0                 48              731          0.0   \n",
       "1                 12              853          0.0   \n",
       "2                 12               40          0.0   \n",
       "3                 24               35          0.0   \n",
       "4                 12               24          0.0   \n",
       "\n",
       "  flag_residencial_address_postal_address flag_other_card  \\\n",
       "0                                       Y               N   \n",
       "1                                       Y               N   \n",
       "2                                       Y               N   \n",
       "3                                       Y               N   \n",
       "4                                       Y               N   \n",
       "\n",
       "   quant_banking_accounts     personal_reference_1       personal_reference_2  \\\n",
       "0                       0                     VERA                      LUCIA   \n",
       "1                       0                     SARA                     FELIPE   \n",
       "2                       0                   HELENA             DOMINGOS SOGRA   \n",
       "3                       0                     JACI  VALERIA ALEXANDRA TRAJANO   \n",
       "4                       0  MARCIA CRISTINA ZANELLA         SANDRO L P MARTINS   \n",
       "\n",
       "  flag_mobile_phone flag_contact_phone  personal_net_income  \\\n",
       "0                 N                  N                300.0   \n",
       "1                 N                  N                300.0   \n",
       "2                 N                  N                229.0   \n",
       "3                 N                  N                304.0   \n",
       "4                 N                  N                250.0   \n",
       "\n",
       "   cod_application_booth  quant_additional_cards_in_the_application  \\\n",
       "0                      0                                          0   \n",
       "1                      0                                          0   \n",
       "2                      0                                          0   \n",
       "3                      0                                          0   \n",
       "4                      0                                          0   \n",
       "\n",
       "  flag_card_insurance_option  target  \n",
       "0                          N       1  \n",
       "1                          N       1  \n",
       "2                          N       1  \n",
       "3                          N       1  \n",
       "4                          N       1  "
      ]
     },
     "execution_count": 4,
     "metadata": {},
     "output_type": "execute_result"
    }
   ],
   "source": [
    "df.head()"
   ]
  },
  {
   "cell_type": "code",
   "execution_count": 52,
   "id": "41579b09",
   "metadata": {},
   "outputs": [
    {
     "data": {
      "text/plain": [
       "(50000, 32)"
      ]
     },
     "execution_count": 52,
     "metadata": {},
     "output_type": "execute_result"
    }
   ],
   "source": [
    "df.shape"
   ]
  },
  {
   "cell_type": "code",
   "execution_count": 6,
   "id": "d0e66044",
   "metadata": {},
   "outputs": [
    {
     "data": {
      "text/plain": [
       "1    40126\n",
       "0     9874\n",
       "Name: target, dtype: int64"
      ]
     },
     "execution_count": 6,
     "metadata": {},
     "output_type": "execute_result"
    }
   ],
   "source": [
    "df['target'].value_counts()"
   ]
  },
  {
   "cell_type": "code",
   "execution_count": 54,
   "id": "24333c07",
   "metadata": {},
   "outputs": [],
   "source": [
    "np.random.seed(1)\n",
    "df['pred_baseline'] = np.random.rand(df.shape[0])"
   ]
  },
  {
   "cell_type": "code",
   "execution_count": 56,
   "id": "7d29d764",
   "metadata": {},
   "outputs": [],
   "source": [
    "df['pred_baseline_int'] = df['pred_baseline'].apply(lambda x: \n",
    "                                                   1 if x >=0.5 else 0)"
   ]
  },
  {
   "cell_type": "code",
   "execution_count": 58,
   "id": "fb0237f9",
   "metadata": {},
   "outputs": [
    {
     "data": {
      "text/plain": [
       "1    25060\n",
       "0    24940\n",
       "Name: pred_baseline_int, dtype: int64"
      ]
     },
     "execution_count": 58,
     "metadata": {},
     "output_type": "execute_result"
    }
   ],
   "source": [
    "df['pred_baseline_int'].value_counts()"
   ]
  },
  {
   "cell_type": "code",
   "execution_count": 59,
   "id": "e7403682",
   "metadata": {},
   "outputs": [
    {
     "data": {
      "text/plain": [
       "0.502865972187609"
      ]
     },
     "execution_count": 59,
     "metadata": {},
     "output_type": "execute_result"
    }
   ],
   "source": [
    "recall_score(df['target'], df['pred_baseline_int'])"
   ]
  },
  {
   "cell_type": "code",
   "execution_count": 63,
   "id": "e5dad1a3",
   "metadata": {},
   "outputs": [
    {
     "data": {
      "text/plain": [
       "0.5042180782550361"
      ]
     },
     "execution_count": 63,
     "metadata": {},
     "output_type": "execute_result"
    }
   ],
   "source": [
    "roc_auc_score(df['target'], df['pred_baseline_int'])"
   ]
  },
  {
   "cell_type": "code",
   "execution_count": 65,
   "id": "8bededc2",
   "metadata": {},
   "outputs": [],
   "source": [
    "dummy_cols = ['sex', 'marital_status', 'residence_type']"
   ]
  },
  {
   "cell_type": "code",
   "execution_count": 81,
   "id": "843c67f3",
   "metadata": {},
   "outputs": [],
   "source": [
    "dummy_names = []\n",
    "for col in dummy_cols:\n",
    "    dummy_df = pd.get_dummies(df[col], prefix=col, drop_first=True)\n",
    "    dummy_names = dummy_names + dummy_df.columns.tolist()\n",
    "    df = pd.concat([df, dummy_df], axis=1)"
   ]
  },
  {
   "cell_type": "code",
   "execution_count": 84,
   "id": "d48bb9ed",
   "metadata": {},
   "outputs": [],
   "source": [
    "X_cols = ['age', 'months_in_residence', 'months_in_the_job', \n",
    " 'personal_net_income', 'mate_income']"
   ]
  },
  {
   "cell_type": "code",
   "execution_count": 85,
   "id": "69c32b00",
   "metadata": {},
   "outputs": [],
   "source": [
    "X_cols = X_cols + dummy_names"
   ]
  },
  {
   "cell_type": "code",
   "execution_count": 89,
   "id": "e9de5e5d",
   "metadata": {},
   "outputs": [],
   "source": [
    "X = df.loc[:, X_cols]\n",
    "y = df['target']"
   ]
  },
  {
   "cell_type": "code",
   "execution_count": 88,
   "id": "c6701a89",
   "metadata": {},
   "outputs": [],
   "source": [
    "model = LogisticRegression()\n",
    "\n",
    "pred_proba = cross_val_predict(model, X, y, cv=4, method='predict_proba')\n",
    "pred = cross_val_predict(model, X, y, cv=4)"
   ]
  },
  {
   "cell_type": "code",
   "execution_count": 95,
   "id": "4c9d8310",
   "metadata": {},
   "outputs": [],
   "source": [
    "df['pred_lr'] = pred"
   ]
  },
  {
   "cell_type": "code",
   "execution_count": 96,
   "id": "b480efe9",
   "metadata": {},
   "outputs": [
    {
     "data": {
      "text/plain": [
       "1    49999\n",
       "0        1\n",
       "Name: pred_lr, dtype: int64"
      ]
     },
     "execution_count": 96,
     "metadata": {},
     "output_type": "execute_result"
    }
   ],
   "source": [
    "df['pred_lr'].value_counts()"
   ]
  },
  {
   "cell_type": "code",
   "execution_count": 98,
   "id": "2b9e2a26",
   "metadata": {},
   "outputs": [
    {
     "data": {
      "text/plain": [
       "array([[    0,  9874],\n",
       "       [    1, 40125]])"
      ]
     },
     "execution_count": 98,
     "metadata": {},
     "output_type": "execute_result"
    }
   ],
   "source": [
    "confusion_matrix(df['target'], df['pred_lr'])"
   ]
  },
  {
   "cell_type": "code",
   "execution_count": 99,
   "id": "9d3e5dd2",
   "metadata": {},
   "outputs": [
    {
     "data": {
      "text/plain": [
       "0.49998753925135825"
      ]
     },
     "execution_count": 99,
     "metadata": {},
     "output_type": "execute_result"
    }
   ],
   "source": [
    "roc_auc_score(df['target'], df['pred_lr'])"
   ]
  },
  {
   "cell_type": "code",
   "execution_count": 102,
   "id": "f05ba0e7",
   "metadata": {},
   "outputs": [],
   "source": [
    "df['pred_lr_proba'] = pred_proba[:, 1]"
   ]
  },
  {
   "cell_type": "code",
   "execution_count": 104,
   "id": "0e0868bb",
   "metadata": {},
   "outputs": [
    {
     "data": {
      "text/plain": [
       "0.6208329396389625"
      ]
     },
     "execution_count": 104,
     "metadata": {},
     "output_type": "execute_result"
    }
   ],
   "source": [
    "roc_auc_score(df['target'], df['pred_lr_proba'])"
   ]
  },
  {
   "cell_type": "code",
   "execution_count": 140,
   "id": "475cb62f",
   "metadata": {},
   "outputs": [],
   "source": [
    "model = DecisionTreeClassifier(max_depth=2)"
   ]
  },
  {
   "cell_type": "code",
   "execution_count": 141,
   "id": "8242131f",
   "metadata": {},
   "outputs": [],
   "source": [
    "X_train, X_test, y_train, y_test = train_test_split(X, y, test_size=0.3,\n",
    "                                                   random_state=1)"
   ]
  },
  {
   "cell_type": "code",
   "execution_count": 142,
   "id": "49c80a2e",
   "metadata": {},
   "outputs": [
    {
     "data": {
      "text/html": [
       "<style>#sk-container-id-3 {color: black;}#sk-container-id-3 pre{padding: 0;}#sk-container-id-3 div.sk-toggleable {background-color: white;}#sk-container-id-3 label.sk-toggleable__label {cursor: pointer;display: block;width: 100%;margin-bottom: 0;padding: 0.3em;box-sizing: border-box;text-align: center;}#sk-container-id-3 label.sk-toggleable__label-arrow:before {content: \"▸\";float: left;margin-right: 0.25em;color: #696969;}#sk-container-id-3 label.sk-toggleable__label-arrow:hover:before {color: black;}#sk-container-id-3 div.sk-estimator:hover label.sk-toggleable__label-arrow:before {color: black;}#sk-container-id-3 div.sk-toggleable__content {max-height: 0;max-width: 0;overflow: hidden;text-align: left;background-color: #f0f8ff;}#sk-container-id-3 div.sk-toggleable__content pre {margin: 0.2em;color: black;border-radius: 0.25em;background-color: #f0f8ff;}#sk-container-id-3 input.sk-toggleable__control:checked~div.sk-toggleable__content {max-height: 200px;max-width: 100%;overflow: auto;}#sk-container-id-3 input.sk-toggleable__control:checked~label.sk-toggleable__label-arrow:before {content: \"▾\";}#sk-container-id-3 div.sk-estimator input.sk-toggleable__control:checked~label.sk-toggleable__label {background-color: #d4ebff;}#sk-container-id-3 div.sk-label input.sk-toggleable__control:checked~label.sk-toggleable__label {background-color: #d4ebff;}#sk-container-id-3 input.sk-hidden--visually {border: 0;clip: rect(1px 1px 1px 1px);clip: rect(1px, 1px, 1px, 1px);height: 1px;margin: -1px;overflow: hidden;padding: 0;position: absolute;width: 1px;}#sk-container-id-3 div.sk-estimator {font-family: monospace;background-color: #f0f8ff;border: 1px dotted black;border-radius: 0.25em;box-sizing: border-box;margin-bottom: 0.5em;}#sk-container-id-3 div.sk-estimator:hover {background-color: #d4ebff;}#sk-container-id-3 div.sk-parallel-item::after {content: \"\";width: 100%;border-bottom: 1px solid gray;flex-grow: 1;}#sk-container-id-3 div.sk-label:hover label.sk-toggleable__label {background-color: #d4ebff;}#sk-container-id-3 div.sk-serial::before {content: \"\";position: absolute;border-left: 1px solid gray;box-sizing: border-box;top: 0;bottom: 0;left: 50%;z-index: 0;}#sk-container-id-3 div.sk-serial {display: flex;flex-direction: column;align-items: center;background-color: white;padding-right: 0.2em;padding-left: 0.2em;position: relative;}#sk-container-id-3 div.sk-item {position: relative;z-index: 1;}#sk-container-id-3 div.sk-parallel {display: flex;align-items: stretch;justify-content: center;background-color: white;position: relative;}#sk-container-id-3 div.sk-item::before, #sk-container-id-3 div.sk-parallel-item::before {content: \"\";position: absolute;border-left: 1px solid gray;box-sizing: border-box;top: 0;bottom: 0;left: 50%;z-index: -1;}#sk-container-id-3 div.sk-parallel-item {display: flex;flex-direction: column;z-index: 1;position: relative;background-color: white;}#sk-container-id-3 div.sk-parallel-item:first-child::after {align-self: flex-end;width: 50%;}#sk-container-id-3 div.sk-parallel-item:last-child::after {align-self: flex-start;width: 50%;}#sk-container-id-3 div.sk-parallel-item:only-child::after {width: 0;}#sk-container-id-3 div.sk-dashed-wrapped {border: 1px dashed gray;margin: 0 0.4em 0.5em 0.4em;box-sizing: border-box;padding-bottom: 0.4em;background-color: white;}#sk-container-id-3 div.sk-label label {font-family: monospace;font-weight: bold;display: inline-block;line-height: 1.2em;}#sk-container-id-3 div.sk-label-container {text-align: center;}#sk-container-id-3 div.sk-container {/* jupyter's `normalize.less` sets `[hidden] { display: none; }` but bootstrap.min.css set `[hidden] { display: none !important; }` so we also need the `!important` here to be able to override the default hidden behavior on the sphinx rendered scikit-learn.org. See: https://github.com/scikit-learn/scikit-learn/issues/21755 */display: inline-block !important;position: relative;}#sk-container-id-3 div.sk-text-repr-fallback {display: none;}</style><div id=\"sk-container-id-3\" class=\"sk-top-container\"><div class=\"sk-text-repr-fallback\"><pre>DecisionTreeClassifier(max_depth=2)</pre><b>In a Jupyter environment, please rerun this cell to show the HTML representation or trust the notebook. <br />On GitHub, the HTML representation is unable to render, please try loading this page with nbviewer.org.</b></div><div class=\"sk-container\" hidden><div class=\"sk-item\"><div class=\"sk-estimator sk-toggleable\"><input class=\"sk-toggleable__control sk-hidden--visually\" id=\"sk-estimator-id-3\" type=\"checkbox\" checked><label for=\"sk-estimator-id-3\" class=\"sk-toggleable__label sk-toggleable__label-arrow\">DecisionTreeClassifier</label><div class=\"sk-toggleable__content\"><pre>DecisionTreeClassifier(max_depth=2)</pre></div></div></div></div></div>"
      ],
      "text/plain": [
       "DecisionTreeClassifier(max_depth=2)"
      ]
     },
     "execution_count": 142,
     "metadata": {},
     "output_type": "execute_result"
    }
   ],
   "source": [
    "model.fit(X_train, y_train)"
   ]
  },
  {
   "cell_type": "code",
   "execution_count": 143,
   "id": "b906dd17",
   "metadata": {},
   "outputs": [],
   "source": [
    "pred_train = model.predict(X_train)\n",
    "pred_test = model.predict(X_test)"
   ]
  },
  {
   "cell_type": "code",
   "execution_count": 144,
   "id": "8cba347a",
   "metadata": {},
   "outputs": [
    {
     "data": {
      "text/plain": [
       "0.8038857142857143"
      ]
     },
     "execution_count": 144,
     "metadata": {},
     "output_type": "execute_result"
    }
   ],
   "source": [
    "accuracy_score(y_train, pred_train)"
   ]
  },
  {
   "cell_type": "code",
   "execution_count": 145,
   "id": "620fee10",
   "metadata": {},
   "outputs": [
    {
     "data": {
      "text/plain": [
       "0.7993333333333333"
      ]
     },
     "execution_count": 145,
     "metadata": {},
     "output_type": "execute_result"
    }
   ],
   "source": [
    "accuracy_score(y_test, pred_test)"
   ]
  },
  {
   "cell_type": "code",
   "execution_count": 149,
   "id": "0aeea133",
   "metadata": {},
   "outputs": [],
   "source": [
    "import tqdm"
   ]
  },
  {
   "cell_type": "code",
   "execution_count": 150,
   "id": "764b742d",
   "metadata": {},
   "outputs": [
    {
     "name": "stderr",
     "output_type": "stream",
     "text": [
      "100%|██████████| 30/30 [00:05<00:00,  5.15it/s]\n"
     ]
    }
   ],
   "source": [
    "score_list_train = []\n",
    "score_list_test = []\n",
    "for i in tqdm.tqdm(range(1, 31)):\n",
    "    model = DecisionTreeClassifier(max_depth=i)\n",
    "    model.fit(X_train, y_train)\n",
    "    \n",
    "    pred_train = model.predict(X_train)\n",
    "    pred_test = model.predict(X_test)\n",
    "    \n",
    "    score_train = accuracy_score(y_train, pred_train)\n",
    "    score_test = accuracy_score(y_test, pred_test)\n",
    "    \n",
    "    score_list_train.append(score_train)\n",
    "    score_list_test.append(score_test)"
   ]
  },
  {
   "cell_type": "code",
   "execution_count": 156,
   "id": "b9c79beb",
   "metadata": {},
   "outputs": [
    {
     "data": {
      "text/plain": [
       "<matplotlib.legend.Legend at 0x7f40e0ecb5b0>"
      ]
     },
     "execution_count": 156,
     "metadata": {},
     "output_type": "execute_result"
    },
    {
     "data": {
      "image/png": "[encoded data removed]",
      "text/plain": [
       "<Figure size 432x288 with 1 Axes>"
      ]
     },
     "metadata": {
      "needs_background": "light"
     },
     "output_type": "display_data"
    }
   ],
   "source": [
    "plt.plot(range(1, 31), score_list_train, label='train')\n",
    "plt.plot(range(1, 31), score_list_test, label='test')\n",
    "plt.legend()"
   ]
  },
  {
   "cell_type": "code",
   "execution_count": 157,
   "id": "8eee0cc8",
   "metadata": {},
   "outputs": [],
   "source": [
    "model = KNeighborsClassifier()"
   ]
  },
  {
   "cell_type": "code",
   "execution_count": 158,
   "id": "3f43ef28",
   "metadata": {},
   "outputs": [],
   "source": [
    "scaler = MinMaxScaler()"
   ]
  },
  {
   "cell_type": "code",
   "execution_count": 162,
   "id": "11a0f363",
   "metadata": {},
   "outputs": [
    {
     "data": {
      "text/html": [
       "<style>#sk-container-id-5 {color: black;}#sk-container-id-5 pre{padding: 0;}#sk-container-id-5 div.sk-toggleable {background-color: white;}#sk-container-id-5 label.sk-toggleable__label {cursor: pointer;display: block;width: 100%;margin-bottom: 0;padding: 0.3em;box-sizing: border-box;text-align: center;}#sk-container-id-5 label.sk-toggleable__label-arrow:before {content: \"▸\";float: left;margin-right: 0.25em;color: #696969;}#sk-container-id-5 label.sk-toggleable__label-arrow:hover:before {color: black;}#sk-container-id-5 div.sk-estimator:hover label.sk-toggleable__label-arrow:before {color: black;}#sk-container-id-5 div.sk-toggleable__content {max-height: 0;max-width: 0;overflow: hidden;text-align: left;background-color: #f0f8ff;}#sk-container-id-5 div.sk-toggleable__content pre {margin: 0.2em;color: black;border-radius: 0.25em;background-color: #f0f8ff;}#sk-container-id-5 input.sk-toggleable__control:checked~div.sk-toggleable__content {max-height: 200px;max-width: 100%;overflow: auto;}#sk-container-id-5 input.sk-toggleable__control:checked~label.sk-toggleable__label-arrow:before {content: \"▾\";}#sk-container-id-5 div.sk-estimator input.sk-toggleable__control:checked~label.sk-toggleable__label {background-color: #d4ebff;}#sk-container-id-5 div.sk-label input.sk-toggleable__control:checked~label.sk-toggleable__label {background-color: #d4ebff;}#sk-container-id-5 input.sk-hidden--visually {border: 0;clip: rect(1px 1px 1px 1px);clip: rect(1px, 1px, 1px, 1px);height: 1px;margin: -1px;overflow: hidden;padding: 0;position: absolute;width: 1px;}#sk-container-id-5 div.sk-estimator {font-family: monospace;background-color: #f0f8ff;border: 1px dotted black;border-radius: 0.25em;box-sizing: border-box;margin-bottom: 0.5em;}#sk-container-id-5 div.sk-estimator:hover {background-color: #d4ebff;}#sk-container-id-5 div.sk-parallel-item::after {content: \"\";width: 100%;border-bottom: 1px solid gray;flex-grow: 1;}#sk-container-id-5 div.sk-label:hover label.sk-toggleable__label {background-color: #d4ebff;}#sk-container-id-5 div.sk-serial::before {content: \"\";position: absolute;border-left: 1px solid gray;box-sizing: border-box;top: 0;bottom: 0;left: 50%;z-index: 0;}#sk-container-id-5 div.sk-serial {display: flex;flex-direction: column;align-items: center;background-color: white;padding-right: 0.2em;padding-left: 0.2em;position: relative;}#sk-container-id-5 div.sk-item {position: relative;z-index: 1;}#sk-container-id-5 div.sk-parallel {display: flex;align-items: stretch;justify-content: center;background-color: white;position: relative;}#sk-container-id-5 div.sk-item::before, #sk-container-id-5 div.sk-parallel-item::before {content: \"\";position: absolute;border-left: 1px solid gray;box-sizing: border-box;top: 0;bottom: 0;left: 50%;z-index: -1;}#sk-container-id-5 div.sk-parallel-item {display: flex;flex-direction: column;z-index: 1;position: relative;background-color: white;}#sk-container-id-5 div.sk-parallel-item:first-child::after {align-self: flex-end;width: 50%;}#sk-container-id-5 div.sk-parallel-item:last-child::after {align-self: flex-start;width: 50%;}#sk-container-id-5 div.sk-parallel-item:only-child::after {width: 0;}#sk-container-id-5 div.sk-dashed-wrapped {border: 1px dashed gray;margin: 0 0.4em 0.5em 0.4em;box-sizing: border-box;padding-bottom: 0.4em;background-color: white;}#sk-container-id-5 div.sk-label label {font-family: monospace;font-weight: bold;display: inline-block;line-height: 1.2em;}#sk-container-id-5 div.sk-label-container {text-align: center;}#sk-container-id-5 div.sk-container {/* jupyter's `normalize.less` sets `[hidden] { display: none; }` but bootstrap.min.css set `[hidden] { display: none !important; }` so we also need the `!important` here to be able to override the default hidden behavior on the sphinx rendered scikit-learn.org. See: https://github.com/scikit-learn/scikit-learn/issues/21755 */display: inline-block !important;position: relative;}#sk-container-id-5 div.sk-text-repr-fallback {display: none;}</style><div id=\"sk-container-id-5\" class=\"sk-top-container\"><div class=\"sk-text-repr-fallback\"><pre>MinMaxScaler()</pre><b>In a Jupyter environment, please rerun this cell to show the HTML representation or trust the notebook. <br />On GitHub, the HTML representation is unable to render, please try loading this page with nbviewer.org.</b></div><div class=\"sk-container\" hidden><div class=\"sk-item\"><div class=\"sk-estimator sk-toggleable\"><input class=\"sk-toggleable__control sk-hidden--visually\" id=\"sk-estimator-id-5\" type=\"checkbox\" checked><label for=\"sk-estimator-id-5\" class=\"sk-toggleable__label sk-toggleable__label-arrow\">MinMaxScaler</label><div class=\"sk-toggleable__content\"><pre>MinMaxScaler()</pre></div></div></div></div></div>"
      ],
      "text/plain": [
       "MinMaxScaler()"
      ]
     },
     "execution_count": 162,
     "metadata": {},
     "output_type": "execute_result"
    }
   ],
   "source": [
    "scaler.fit(X_train)"
   ]
  },
  {
   "cell_type": "code",
   "execution_count": 163,
   "id": "8cbe2cd4",
   "metadata": {
    "collapsed": true
   },
   "outputs": [
    {
     "data": {
      "text/plain": [
       "array([[0.1125    , 0.1010101 , 0.03061224, ..., 0.        , 0.        ,\n",
       "        1.        ],\n",
       "       [0.1375    , 0.06060606, 0.02040816, ..., 0.        , 0.        ,\n",
       "        0.        ],\n",
       "       [0.0875    , 0.15151515, 0.01020408, ..., 1.        , 0.        ,\n",
       "        0.        ],\n",
       "       ...,\n",
       "       [0.3       , 0.16161616, 0.02040816, ..., 0.        , 0.        ,\n",
       "        1.        ],\n",
       "       [0.2625    , 0.3030303 , 0.01020408, ..., 0.        , 0.        ,\n",
       "        1.        ],\n",
       "       [0.325     , 0.08080808, 0.17346939, ..., 0.        , 0.        ,\n",
       "        1.        ]])"
      ]
     },
     "execution_count": 163,
     "metadata": {},
     "output_type": "execute_result"
    }
   ],
   "source": [
    "scaler.transform(X_train)"
   ]
  },
  {
   "cell_type": "code",
   "execution_count": 164,
   "id": "74b94637",
   "metadata": {
    "collapsed": true
   },
   "outputs": [
    {
     "data": {
      "text/plain": [
       "array([[0.1125    , 0.23232323, 0.01020408, ..., 1.        , 0.        ,\n",
       "        0.        ],\n",
       "       [0.1375    , 0.1010101 , 0.        , ..., 0.        , 0.        ,\n",
       "        1.        ],\n",
       "       [0.075     , 0.21212121, 0.01020408, ..., 0.        , 0.        ,\n",
       "        1.        ],\n",
       "       ...,\n",
       "       [0.125     , 0.04040404, 0.01020408, ..., 0.        , 0.        ,\n",
       "        0.        ],\n",
       "       [0.0625    , 0.01010101, 0.01020408, ..., 0.        , 0.        ,\n",
       "        0.        ],\n",
       "       [0.275     , 0.01010101, 0.        , ..., 0.        , 0.        ,\n",
       "        0.        ]])"
      ]
     },
     "execution_count": 164,
     "metadata": {},
     "output_type": "execute_result"
    }
   ],
   "source": [
    "scaler.transform(X_test)"
   ]
  },
  {
   "cell_type": "code",
   "execution_count": 166,
   "id": "a617c886",
   "metadata": {},
   "outputs": [],
   "source": [
    "pipeline = Pipeline([('scaler', scaler), ('model', model)])"
   ]
  },
  {
   "cell_type": "code",
   "execution_count": 167,
   "id": "1c089b00",
   "metadata": {},
   "outputs": [],
   "source": [
    "pred_proba = cross_val_predict(pipeline, X, y, cv=4, method='predict_proba')"
   ]
  },
  {
   "cell_type": "code",
   "execution_count": 170,
   "id": "fcbfde7d",
   "metadata": {},
   "outputs": [],
   "source": [
    "df['pred_knn_proba'] = pred_proba[:, 1]"
   ]
  },
  {
   "cell_type": "code",
   "execution_count": 172,
   "id": "eeed8f91",
   "metadata": {},
   "outputs": [],
   "source": [
    "df['profit'] = df['target'].apply(lambda x: \n",
    "                                 15000 if x == 1 else -100000)"
   ]
  },
  {
   "cell_type": "code",
   "execution_count": 173,
   "id": "1f175b2b",
   "metadata": {},
   "outputs": [
    {
     "data": {
      "text/plain": [
       "-385510000"
      ]
     },
     "execution_count": 173,
     "metadata": {},
     "output_type": "execute_result"
    }
   ],
   "source": [
    "df['profit'].sum()"
   ]
  },
  {
   "cell_type": "code",
   "execution_count": 191,
   "id": "db459421",
   "metadata": {},
   "outputs": [
    {
     "data": {
      "text/plain": [
       "<AxesSubplot:>"
      ]
     },
     "execution_count": 191,
     "metadata": {},
     "output_type": "execute_result"
    },
    {
     "data": {
      "image/png": "[encoded data removed]",
      "text/plain": [
       "<Figure size 432x288 with 1 Axes>"
      ]
     },
     "metadata": {
      "needs_background": "light"
     },
     "output_type": "display_data"
    }
   ],
   "source": [
    "df.sort_values('target', ascending=False)['profit']\\\n",
    ".cumsum().reset_index(drop=True).plot()\n",
    "plt.axhline(0, color='black')\n",
    "\n",
    "df.sort_values('pred_baseline', ascending=False)['profit']\\\n",
    ".cumsum().reset_index(drop=True).plot()\n",
    "\n",
    "df.sort_values('pred_lr_proba', ascending=False)['profit']\\\n",
    ".cumsum().reset_index(drop=True).plot()"
   ]
  },
  {
   "cell_type": "code",
   "execution_count": 194,
   "id": "b61a67c4",
   "metadata": {},
   "outputs": [
    {
     "data": {
      "text/plain": [
       "34500000"
      ]
     },
     "execution_count": 194,
     "metadata": {},
     "output_type": "execute_result"
    }
   ],
   "source": [
    "df.sort_values('pred_lr_proba', ascending=False)['profit']\\\n",
    ".cumsum().max()"
   ]
  },
  {
   "cell_type": "code",
   "execution_count": 195,
   "id": "3d51a376",
   "metadata": {},
   "outputs": [
    {
     "data": {
      "text/plain": [
       "601890000"
      ]
     },
     "execution_count": 195,
     "metadata": {},
     "output_type": "execute_result"
    }
   ],
   "source": [
    "df.sort_values('target', ascending=False)['profit']\\\n",
    ".cumsum().max()"
   ]
  },
  {
   "cell_type": "code",
   "execution_count": null,
   "id": "3a7018ab",
   "metadata": {},
   "outputs": [],
   "source": []
  }
 ],
 "metadata": {
  "kernelspec": {
   "display_name": "Python 3 (ipykernel)",
   "language": "python",
   "name": "python3"
  },
  "language_info": {
   "codemirror_mode": {
    "name": "ipython",
    "version": 3
   },
   "file_extension": ".py",
   "mimetype": "text/x-python",
   "name": "python",
   "nbconvert_exporter": "python",
   "pygments_lexer": "ipython3",
   "version": "3.9.7"
  }
 },
 "nbformat": 4,
 "nbformat_minor": 5
}
