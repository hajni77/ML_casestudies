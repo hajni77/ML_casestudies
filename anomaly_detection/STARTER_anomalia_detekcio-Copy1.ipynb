{
 "cells": [
  {
   "cell_type": "code",
   "execution_count": 1,
   "id": "0ca3b159",
   "metadata": {},
   "outputs": [
    {
     "name": "stderr",
     "output_type": "stream",
     "text": [
      "/opt/conda/lib/python3.9/site-packages/scipy/__init__.py:146: UserWarning: A NumPy version >=1.16.5 and <1.23.0 is required for this version of SciPy (detected version 1.24.3\n",
      "  warnings.warn(f\"A NumPy version >={np_minversion} and <{np_maxversion}\"\n"
     ]
    }
   ],
   "source": [
    "import pandas as pd\n",
    "import matplotlib.pyplot as plt\n",
    "\n",
    "from sklearn.preprocessing import StandardScaler\n",
    "from sklearn.ensemble import IsolationForest\n",
    "from sklearn.cluster import KMeans, DBSCAN\n",
    "from sklearn.neighbors import NearestNeighbors\n",
    "from sklearn.linear_model import LogisticRegression\n",
    "from sklearn.model_selection import cross_val_predict\n",
    "\n",
    "import tqdm\n",
    "\n",
    "%matplotlib inline\n",
    "\n",
    "import sherlock # eset kivizsgalo szimulator"
   ]
  },
  {
   "cell_type": "code",
   "execution_count": 2,
   "id": "88853d97",
   "metadata": {},
   "outputs": [],
   "source": [
    "df =  pd.read_csv(\"./data/Dataset_Anomaly_Init_R2.csv\") # dataset\n",
    "sec = pd.read_csv(\"./data/Dataset_Anomaly_Secret_R2.csv\") # megoldas"
   ]
  },
  {
   "cell_type": "code",
   "execution_count": 3,
   "id": "ba2fc1c6",
   "metadata": {},
   "outputs": [
    {
     "data": {
      "text/html": [
       "<div>\n",
       "<style scoped>\n",
       "    .dataframe tbody tr th:only-of-type {\n",
       "        vertical-align: middle;\n",
       "    }\n",
       "\n",
       "    .dataframe tbody tr th {\n",
       "        vertical-align: top;\n",
       "    }\n",
       "\n",
       "    .dataframe thead th {\n",
       "        text-align: right;\n",
       "    }\n",
       "</style>\n",
       "<table border=\"1\" class=\"dataframe\">\n",
       "  <thead>\n",
       "    <tr style=\"text-align: right;\">\n",
       "      <th></th>\n",
       "      <th>1</th>\n",
       "      <th>2</th>\n",
       "      <th>3</th>\n",
       "      <th>4</th>\n",
       "      <th>5</th>\n",
       "      <th>6</th>\n",
       "      <th>7</th>\n",
       "      <th>8</th>\n",
       "      <th>9</th>\n",
       "      <th>10</th>\n",
       "      <th>11</th>\n",
       "      <th>12</th>\n",
       "      <th>13</th>\n",
       "      <th>14</th>\n",
       "      <th>15</th>\n",
       "      <th>16</th>\n",
       "      <th>ID</th>\n",
       "    </tr>\n",
       "  </thead>\n",
       "  <tbody>\n",
       "    <tr>\n",
       "      <th>0</th>\n",
       "      <td>8</td>\n",
       "      <td>10</td>\n",
       "      <td>12</td>\n",
       "      <td>8</td>\n",
       "      <td>9</td>\n",
       "      <td>10</td>\n",
       "      <td>6</td>\n",
       "      <td>2</td>\n",
       "      <td>5</td>\n",
       "      <td>9</td>\n",
       "      <td>5</td>\n",
       "      <td>7</td>\n",
       "      <td>8</td>\n",
       "      <td>7</td>\n",
       "      <td>2</td>\n",
       "      <td>8</td>\n",
       "      <td>0</td>\n",
       "    </tr>\n",
       "    <tr>\n",
       "      <th>1</th>\n",
       "      <td>4</td>\n",
       "      <td>2</td>\n",
       "      <td>5</td>\n",
       "      <td>3</td>\n",
       "      <td>3</td>\n",
       "      <td>8</td>\n",
       "      <td>6</td>\n",
       "      <td>6</td>\n",
       "      <td>4</td>\n",
       "      <td>6</td>\n",
       "      <td>7</td>\n",
       "      <td>8</td>\n",
       "      <td>7</td>\n",
       "      <td>6</td>\n",
       "      <td>2</td>\n",
       "      <td>6</td>\n",
       "      <td>1</td>\n",
       "    </tr>\n",
       "    <tr>\n",
       "      <th>2</th>\n",
       "      <td>2</td>\n",
       "      <td>0</td>\n",
       "      <td>3</td>\n",
       "      <td>1</td>\n",
       "      <td>1</td>\n",
       "      <td>7</td>\n",
       "      <td>8</td>\n",
       "      <td>4</td>\n",
       "      <td>0</td>\n",
       "      <td>7</td>\n",
       "      <td>8</td>\n",
       "      <td>8</td>\n",
       "      <td>7</td>\n",
       "      <td>9</td>\n",
       "      <td>0</td>\n",
       "      <td>8</td>\n",
       "      <td>2</td>\n",
       "    </tr>\n",
       "    <tr>\n",
       "      <th>3</th>\n",
       "      <td>2</td>\n",
       "      <td>3</td>\n",
       "      <td>3</td>\n",
       "      <td>2</td>\n",
       "      <td>2</td>\n",
       "      <td>7</td>\n",
       "      <td>9</td>\n",
       "      <td>5</td>\n",
       "      <td>4</td>\n",
       "      <td>7</td>\n",
       "      <td>6</td>\n",
       "      <td>7</td>\n",
       "      <td>5</td>\n",
       "      <td>9</td>\n",
       "      <td>2</td>\n",
       "      <td>7</td>\n",
       "      <td>3</td>\n",
       "    </tr>\n",
       "    <tr>\n",
       "      <th>4</th>\n",
       "      <td>5</td>\n",
       "      <td>9</td>\n",
       "      <td>8</td>\n",
       "      <td>7</td>\n",
       "      <td>5</td>\n",
       "      <td>7</td>\n",
       "      <td>9</td>\n",
       "      <td>2</td>\n",
       "      <td>4</td>\n",
       "      <td>10</td>\n",
       "      <td>5</td>\n",
       "      <td>6</td>\n",
       "      <td>5</td>\n",
       "      <td>9</td>\n",
       "      <td>1</td>\n",
       "      <td>7</td>\n",
       "      <td>4</td>\n",
       "    </tr>\n",
       "  </tbody>\n",
       "</table>\n",
       "</div>"
      ],
      "text/plain": [
       "   1   2   3  4  5   6  7  8  9  10  11  12  13  14  15  16  ID\n",
       "0  8  10  12  8  9  10  6  2  5   9   5   7   8   7   2   8   0\n",
       "1  4   2   5  3  3   8  6  6  4   6   7   8   7   6   2   6   1\n",
       "2  2   0   3  1  1   7  8  4  0   7   8   8   7   9   0   8   2\n",
       "3  2   3   3  2  2   7  9  5  4   7   6   7   5   9   2   7   3\n",
       "4  5   9   8  7  5   7  9  2  4  10   5   6   5   9   1   7   4"
      ]
     },
     "execution_count": 3,
     "metadata": {},
     "output_type": "execute_result"
    }
   ],
   "source": [
    "df.head()"
   ]
  },
  {
   "cell_type": "code",
   "execution_count": 4,
   "id": "a5a84982",
   "metadata": {},
   "outputs": [
    {
     "data": {
      "text/plain": [
       "(2467, 17)"
      ]
     },
     "execution_count": 4,
     "metadata": {},
     "output_type": "execute_result"
    }
   ],
   "source": [
    "df.shape"
   ]
  },
  {
   "cell_type": "code",
   "execution_count": 5,
   "id": "1425b137",
   "metadata": {},
   "outputs": [],
   "source": [
    "# odaadjuk az eset kivizsgalonak a megoldasokat es meghatarozunk egy budzset, ahanyszor kerdezhetunk toluk - 111\n",
    "expert = sherlock.Sherlock(sec, 111)"
   ]
  },
  {
   "cell_type": "code",
   "execution_count": 6,
   "id": "432ff5e6",
   "metadata": {},
   "outputs": [
    {
     "name": "stdout",
     "output_type": "stream",
     "text": [
      "Adathalmaz mérete   = 2467\n",
      "Ismert esetek száma = 0 \t\tmax: 111\n"
     ]
    }
   ],
   "source": [
    "expert.stat()"
   ]
  },
  {
   "cell_type": "code",
   "execution_count": 7,
   "id": "c1ccd446",
   "metadata": {},
   "outputs": [],
   "source": [
    "from sklearn.ensemble import IsolationForest"
   ]
  },
  {
   "cell_type": "code",
   "execution_count": 8,
   "id": "122a6477",
   "metadata": {},
   "outputs": [],
   "source": [
    "isof = IsolationForest(n_estimators = 100,random_state=42)"
   ]
  },
  {
   "cell_type": "code",
   "execution_count": 9,
   "id": "39a1f1fe",
   "metadata": {},
   "outputs": [
    {
     "data": {
      "text/plain": [
       "['1', '2', '3', '4', '5', '6', '7', '8']"
      ]
     },
     "execution_count": 9,
     "metadata": {},
     "output_type": "execute_result"
    }
   ],
   "source": [
    "bemeno_valtozok = list(df.columns)[:8]\n",
    "bemeno_valtozok"
   ]
  },
  {
   "cell_type": "code",
   "execution_count": 10,
   "id": "5a751f96",
   "metadata": {},
   "outputs": [
    {
     "data": {
      "text/html": [
       "<style>#sk-container-id-1 {color: black;}#sk-container-id-1 pre{padding: 0;}#sk-container-id-1 div.sk-toggleable {background-color: white;}#sk-container-id-1 label.sk-toggleable__label {cursor: pointer;display: block;width: 100%;margin-bottom: 0;padding: 0.3em;box-sizing: border-box;text-align: center;}#sk-container-id-1 label.sk-toggleable__label-arrow:before {content: \"▸\";float: left;margin-right: 0.25em;color: #696969;}#sk-container-id-1 label.sk-toggleable__label-arrow:hover:before {color: black;}#sk-container-id-1 div.sk-estimator:hover label.sk-toggleable__label-arrow:before {color: black;}#sk-container-id-1 div.sk-toggleable__content {max-height: 0;max-width: 0;overflow: hidden;text-align: left;background-color: #f0f8ff;}#sk-container-id-1 div.sk-toggleable__content pre {margin: 0.2em;color: black;border-radius: 0.25em;background-color: #f0f8ff;}#sk-container-id-1 input.sk-toggleable__control:checked~div.sk-toggleable__content {max-height: 200px;max-width: 100%;overflow: auto;}#sk-container-id-1 input.sk-toggleable__control:checked~label.sk-toggleable__label-arrow:before {content: \"▾\";}#sk-container-id-1 div.sk-estimator input.sk-toggleable__control:checked~label.sk-toggleable__label {background-color: #d4ebff;}#sk-container-id-1 div.sk-label input.sk-toggleable__control:checked~label.sk-toggleable__label {background-color: #d4ebff;}#sk-container-id-1 input.sk-hidden--visually {border: 0;clip: rect(1px 1px 1px 1px);clip: rect(1px, 1px, 1px, 1px);height: 1px;margin: -1px;overflow: hidden;padding: 0;position: absolute;width: 1px;}#sk-container-id-1 div.sk-estimator {font-family: monospace;background-color: #f0f8ff;border: 1px dotted black;border-radius: 0.25em;box-sizing: border-box;margin-bottom: 0.5em;}#sk-container-id-1 div.sk-estimator:hover {background-color: #d4ebff;}#sk-container-id-1 div.sk-parallel-item::after {content: \"\";width: 100%;border-bottom: 1px solid gray;flex-grow: 1;}#sk-container-id-1 div.sk-label:hover label.sk-toggleable__label {background-color: #d4ebff;}#sk-container-id-1 div.sk-serial::before {content: \"\";position: absolute;border-left: 1px solid gray;box-sizing: border-box;top: 0;bottom: 0;left: 50%;z-index: 0;}#sk-container-id-1 div.sk-serial {display: flex;flex-direction: column;align-items: center;background-color: white;padding-right: 0.2em;padding-left: 0.2em;position: relative;}#sk-container-id-1 div.sk-item {position: relative;z-index: 1;}#sk-container-id-1 div.sk-parallel {display: flex;align-items: stretch;justify-content: center;background-color: white;position: relative;}#sk-container-id-1 div.sk-item::before, #sk-container-id-1 div.sk-parallel-item::before {content: \"\";position: absolute;border-left: 1px solid gray;box-sizing: border-box;top: 0;bottom: 0;left: 50%;z-index: -1;}#sk-container-id-1 div.sk-parallel-item {display: flex;flex-direction: column;z-index: 1;position: relative;background-color: white;}#sk-container-id-1 div.sk-parallel-item:first-child::after {align-self: flex-end;width: 50%;}#sk-container-id-1 div.sk-parallel-item:last-child::after {align-self: flex-start;width: 50%;}#sk-container-id-1 div.sk-parallel-item:only-child::after {width: 0;}#sk-container-id-1 div.sk-dashed-wrapped {border: 1px dashed gray;margin: 0 0.4em 0.5em 0.4em;box-sizing: border-box;padding-bottom: 0.4em;background-color: white;}#sk-container-id-1 div.sk-label label {font-family: monospace;font-weight: bold;display: inline-block;line-height: 1.2em;}#sk-container-id-1 div.sk-label-container {text-align: center;}#sk-container-id-1 div.sk-container {/* jupyter's `normalize.less` sets `[hidden] { display: none; }` but bootstrap.min.css set `[hidden] { display: none !important; }` so we also need the `!important` here to be able to override the default hidden behavior on the sphinx rendered scikit-learn.org. See: https://github.com/scikit-learn/scikit-learn/issues/21755 */display: inline-block !important;position: relative;}#sk-container-id-1 div.sk-text-repr-fallback {display: none;}</style><div id=\"sk-container-id-1\" class=\"sk-top-container\"><div class=\"sk-text-repr-fallback\"><pre>IsolationForest(random_state=42)</pre><b>In a Jupyter environment, please rerun this cell to show the HTML representation or trust the notebook. <br />On GitHub, the HTML representation is unable to render, please try loading this page with nbviewer.org.</b></div><div class=\"sk-container\" hidden><div class=\"sk-item\"><div class=\"sk-estimator sk-toggleable\"><input class=\"sk-toggleable__control sk-hidden--visually\" id=\"sk-estimator-id-1\" type=\"checkbox\" checked><label for=\"sk-estimator-id-1\" class=\"sk-toggleable__label sk-toggleable__label-arrow\">IsolationForest</label><div class=\"sk-toggleable__content\"><pre>IsolationForest(random_state=42)</pre></div></div></div></div></div>"
      ],
      "text/plain": [
       "IsolationForest(random_state=42)"
      ]
     },
     "execution_count": 10,
     "metadata": {},
     "output_type": "execute_result"
    }
   ],
   "source": [
    "isof.fit(df[bemeno_valtozok])"
   ]
  },
  {
   "cell_type": "code",
   "execution_count": 11,
   "id": "73583231",
   "metadata": {},
   "outputs": [],
   "source": [
    "df['isof_flag'] = isof.predict(df[bemeno_valtozok])"
   ]
  },
  {
   "cell_type": "code",
   "execution_count": 12,
   "id": "fa698ea0",
   "metadata": {},
   "outputs": [
    {
     "data": {
      "text/plain": [
       " 1    2034\n",
       "-1     433\n",
       "Name: isof_flag, dtype: int64"
      ]
     },
     "execution_count": 12,
     "metadata": {},
     "output_type": "execute_result"
    }
   ],
   "source": [
    "df['isof_flag'].value_counts()"
   ]
  },
  {
   "cell_type": "code",
   "execution_count": 13,
   "id": "4864716a",
   "metadata": {},
   "outputs": [],
   "source": [
    "df['isof_score'] = isof.decision_function(df[bemeno_valtozok])*-1"
   ]
  },
  {
   "cell_type": "code",
   "execution_count": 14,
   "id": "35519141",
   "metadata": {},
   "outputs": [
    {
     "data": {
      "text/plain": [
       "<AxesSubplot:>"
      ]
     },
     "execution_count": 14,
     "metadata": {},
     "output_type": "execute_result"
    },
    {
     "data": {
      "image/png": "[encoded data removed]",
      "text/plain": [
       "<Figure size 432x288 with 1 Axes>"
      ]
     },
     "metadata": {
      "needs_background": "light"
     },
     "output_type": "display_data"
    }
   ],
   "source": [
    "df['isof_score'].hist(bins=30)"
   ]
  },
  {
   "cell_type": "code",
   "execution_count": 15,
   "id": "5f33fde7",
   "metadata": {},
   "outputs": [
    {
     "data": {
      "text/plain": [
       "<matplotlib.legend.Legend at 0x7fdec67dc700>"
      ]
     },
     "execution_count": 15,
     "metadata": {},
     "output_type": "execute_result"
    },
    {
     "data": {
      "image/png": "[encoded data removed]",
      "text/plain": [
       "<Figure size 432x288 with 1 Axes>"
      ]
     },
     "metadata": {
      "needs_background": "light"
     },
     "output_type": "display_data"
    }
   ],
   "source": [
    "for i in [1,-1]:\n",
    "    cdf = df[df['isof_flag']==i]\n",
    "    cdf['isof_score'].hist(bins=30,label=str(i))\n",
    "plt.legend()"
   ]
  },
  {
   "cell_type": "code",
   "execution_count": 16,
   "id": "070c7abc",
   "metadata": {},
   "outputs": [],
   "source": [
    "def top10megnez(df,valtozo,szam=10):\n",
    "    mydf = df[df['info']=='no_info']\n",
    "    kivalasztottak = mydf.sort_values(valtozo,ascending = False).head(szam)\n",
    "    print(kivalasztottak)\n",
    "    expert.investigate(kivalasztottak['ID'])\n",
    "    df2 = expert.add_label(df,'info')\n",
    "    return df2"
   ]
  },
  {
   "cell_type": "code",
   "execution_count": 17,
   "id": "e9707891",
   "metadata": {},
   "outputs": [
    {
     "name": "stdout",
     "output_type": "stream",
     "text": [
      "       1   2   3  4  5   6   7   8  9  10  11  12  13  14  15  16    ID  \\\n",
      "2460   1   0   1  0  0   2   2   5  4   1   2   6   0   8   0   8  2460   \n",
      "2279  11  15  13  9  7  13   2   6  2  12   1   9   8   1   1   8  2279   \n",
      "976   14  15  14  8  7  10  11   7  4   4   6  10  10  13   3   6   976   \n",
      "950   15  15  15  8  8   3   9   6  6   3   2  13  10  12   2   8   950   \n",
      "1106   3  12  11  0  1   3  12  11  0   1   3  12  11   0   1   3  1106   \n",
      "1693  15  15  15  8  7   9  11   6  4   4   6  10  11  13   2   6  1693   \n",
      "629    3   4   3  6  1   0   1   5  6   0   0   7   0   8   0   8   629   \n",
      "2367  13  15  13  8  7   3   8   6  6   4   2  13   9  11   2   8  2367   \n",
      "2399   3   7   3  5  1   0   1   6  6   0   0   6   0   8   0   8  2399   \n",
      "2153  10  15  12  9  6  10   2   3  2  10   3   9   8   1   1   8  2153   \n",
      "\n",
      "      isof_flag  isof_score     info  \n",
      "2460         -1    0.190142  no_info  \n",
      "2279         -1    0.187617  no_info  \n",
      "976          -1    0.145662  no_info  \n",
      "950          -1    0.144303  no_info  \n",
      "1106         -1    0.139998  no_info  \n",
      "1693         -1    0.139751  no_info  \n",
      "629          -1    0.135378  no_info  \n",
      "2367         -1    0.133565  no_info  \n",
      "2399         -1    0.131066  no_info  \n",
      "2153         -1    0.130967  no_info  \n",
      "\tNyomozás eredménye\t2460\t->\tcsalás\n",
      "\tNyomozás eredménye\t2279\t->\tok\n",
      "\tNyomozás eredménye\t976\t->\tok\n",
      "\tNyomozás eredménye\t950\t->\tok\n",
      "\tNyomozás eredménye\t1106\t->\tcsalás\n",
      "\tNyomozás eredménye\t1693\t->\tok\n",
      "\tNyomozás eredménye\t629\t->\tcsalás\n",
      "\tNyomozás eredménye\t2367\t->\tok\n",
      "\tNyomozás eredménye\t2399\t->\tcsalás\n",
      "\tNyomozás eredménye\t2153\t->\tok\n"
     ]
    }
   ],
   "source": [
    "df['info'] = 'no_info'\n",
    "df = top10megnez(df,\"isof_score\")"
   ]
  },
  {
   "cell_type": "code",
   "execution_count": 18,
   "id": "21eec4ac",
   "metadata": {},
   "outputs": [],
   "source": [
    "kivalasztottak = df[df['info']=='no_info'].sample(20,random_state=42)"
   ]
  },
  {
   "cell_type": "code",
   "execution_count": 19,
   "id": "d174dbbf",
   "metadata": {},
   "outputs": [
    {
     "name": "stdout",
     "output_type": "stream",
     "text": [
      "\tNyomozás eredménye\t720\t->\tok\n",
      "\tNyomozás eredménye\t786\t->\tcsalás\n",
      "\tNyomozás eredménye\t1610\t->\tok\n",
      "\tNyomozás eredménye\t868\t->\tok\n",
      "\tNyomozás eredménye\t1087\t->\tok\n",
      "\tNyomozás eredménye\t650\t->\tok\n",
      "\tNyomozás eredménye\t1782\t->\tok\n",
      "\tNyomozás eredménye\t652\t->\tok\n",
      "\tNyomozás eredménye\t237\t->\tok\n",
      "\tNyomozás eredménye\t737\t->\tok\n",
      "\tNyomozás eredménye\t1293\t->\tok\n",
      "\tNyomozás eredménye\t1275\t->\tok\n",
      "\tNyomozás eredménye\t406\t->\tok\n",
      "\tNyomozás eredménye\t521\t->\tok\n",
      "\tNyomozás eredménye\t979\t->\tok\n",
      "\tNyomozás eredménye\t353\t->\tok\n",
      "\tNyomozás eredménye\t1390\t->\tok\n",
      "\tNyomozás eredménye\t1174\t->\tok\n",
      "\tNyomozás eredménye\t2283\t->\tcsalás\n",
      "\tNyomozás eredménye\t620\t->\tok\n"
     ]
    }
   ],
   "source": [
    "expert.investigate(kivalasztottak['ID'])"
   ]
  },
  {
   "cell_type": "code",
   "execution_count": 20,
   "id": "4a45320a",
   "metadata": {},
   "outputs": [],
   "source": [
    "kmeans = KMeans(n_clusters=16,random_state=42)"
   ]
  },
  {
   "cell_type": "code",
   "execution_count": 21,
   "id": "e22a4c41",
   "metadata": {},
   "outputs": [
    {
     "data": {
      "text/plain": [
       "['1', '2', '3', '4', '5', '6', '7', '8', '9']"
      ]
     },
     "execution_count": 21,
     "metadata": {},
     "output_type": "execute_result"
    }
   ],
   "source": [
    "bemeno_valtozok = list(df.columns)[:9]\n",
    "bemeno_valtozok"
   ]
  },
  {
   "cell_type": "code",
   "execution_count": 22,
   "id": "0a9332f5",
   "metadata": {},
   "outputs": [
    {
     "name": "stderr",
     "output_type": "stream",
     "text": [
      "/opt/conda/lib/python3.9/site-packages/sklearn/cluster/_kmeans.py:1412: FutureWarning: The default value of `n_init` will change from 10 to 'auto' in 1.4. Set the value of `n_init` explicitly to suppress the warning\n",
      "  super()._check_params_vs_input(X, default_n_init=10)\n"
     ]
    },
    {
     "data": {
      "text/html": [
       "<style>#sk-container-id-2 {color: black;}#sk-container-id-2 pre{padding: 0;}#sk-container-id-2 div.sk-toggleable {background-color: white;}#sk-container-id-2 label.sk-toggleable__label {cursor: pointer;display: block;width: 100%;margin-bottom: 0;padding: 0.3em;box-sizing: border-box;text-align: center;}#sk-container-id-2 label.sk-toggleable__label-arrow:before {content: \"▸\";float: left;margin-right: 0.25em;color: #696969;}#sk-container-id-2 label.sk-toggleable__label-arrow:hover:before {color: black;}#sk-container-id-2 div.sk-estimator:hover label.sk-toggleable__label-arrow:before {color: black;}#sk-container-id-2 div.sk-toggleable__content {max-height: 0;max-width: 0;overflow: hidden;text-align: left;background-color: #f0f8ff;}#sk-container-id-2 div.sk-toggleable__content pre {margin: 0.2em;color: black;border-radius: 0.25em;background-color: #f0f8ff;}#sk-container-id-2 input.sk-toggleable__control:checked~div.sk-toggleable__content {max-height: 200px;max-width: 100%;overflow: auto;}#sk-container-id-2 input.sk-toggleable__control:checked~label.sk-toggleable__label-arrow:before {content: \"▾\";}#sk-container-id-2 div.sk-estimator input.sk-toggleable__control:checked~label.sk-toggleable__label {background-color: #d4ebff;}#sk-container-id-2 div.sk-label input.sk-toggleable__control:checked~label.sk-toggleable__label {background-color: #d4ebff;}#sk-container-id-2 input.sk-hidden--visually {border: 0;clip: rect(1px 1px 1px 1px);clip: rect(1px, 1px, 1px, 1px);height: 1px;margin: -1px;overflow: hidden;padding: 0;position: absolute;width: 1px;}#sk-container-id-2 div.sk-estimator {font-family: monospace;background-color: #f0f8ff;border: 1px dotted black;border-radius: 0.25em;box-sizing: border-box;margin-bottom: 0.5em;}#sk-container-id-2 div.sk-estimator:hover {background-color: #d4ebff;}#sk-container-id-2 div.sk-parallel-item::after {content: \"\";width: 100%;border-bottom: 1px solid gray;flex-grow: 1;}#sk-container-id-2 div.sk-label:hover label.sk-toggleable__label {background-color: #d4ebff;}#sk-container-id-2 div.sk-serial::before {content: \"\";position: absolute;border-left: 1px solid gray;box-sizing: border-box;top: 0;bottom: 0;left: 50%;z-index: 0;}#sk-container-id-2 div.sk-serial {display: flex;flex-direction: column;align-items: center;background-color: white;padding-right: 0.2em;padding-left: 0.2em;position: relative;}#sk-container-id-2 div.sk-item {position: relative;z-index: 1;}#sk-container-id-2 div.sk-parallel {display: flex;align-items: stretch;justify-content: center;background-color: white;position: relative;}#sk-container-id-2 div.sk-item::before, #sk-container-id-2 div.sk-parallel-item::before {content: \"\";position: absolute;border-left: 1px solid gray;box-sizing: border-box;top: 0;bottom: 0;left: 50%;z-index: -1;}#sk-container-id-2 div.sk-parallel-item {display: flex;flex-direction: column;z-index: 1;position: relative;background-color: white;}#sk-container-id-2 div.sk-parallel-item:first-child::after {align-self: flex-end;width: 50%;}#sk-container-id-2 div.sk-parallel-item:last-child::after {align-self: flex-start;width: 50%;}#sk-container-id-2 div.sk-parallel-item:only-child::after {width: 0;}#sk-container-id-2 div.sk-dashed-wrapped {border: 1px dashed gray;margin: 0 0.4em 0.5em 0.4em;box-sizing: border-box;padding-bottom: 0.4em;background-color: white;}#sk-container-id-2 div.sk-label label {font-family: monospace;font-weight: bold;display: inline-block;line-height: 1.2em;}#sk-container-id-2 div.sk-label-container {text-align: center;}#sk-container-id-2 div.sk-container {/* jupyter's `normalize.less` sets `[hidden] { display: none; }` but bootstrap.min.css set `[hidden] { display: none !important; }` so we also need the `!important` here to be able to override the default hidden behavior on the sphinx rendered scikit-learn.org. See: https://github.com/scikit-learn/scikit-learn/issues/21755 */display: inline-block !important;position: relative;}#sk-container-id-2 div.sk-text-repr-fallback {display: none;}</style><div id=\"sk-container-id-2\" class=\"sk-top-container\"><div class=\"sk-text-repr-fallback\"><pre>KMeans(n_clusters=16, random_state=42)</pre><b>In a Jupyter environment, please rerun this cell to show the HTML representation or trust the notebook. <br />On GitHub, the HTML representation is unable to render, please try loading this page with nbviewer.org.</b></div><div class=\"sk-container\" hidden><div class=\"sk-item\"><div class=\"sk-estimator sk-toggleable\"><input class=\"sk-toggleable__control sk-hidden--visually\" id=\"sk-estimator-id-2\" type=\"checkbox\" checked><label for=\"sk-estimator-id-2\" class=\"sk-toggleable__label sk-toggleable__label-arrow\">KMeans</label><div class=\"sk-toggleable__content\"><pre>KMeans(n_clusters=16, random_state=42)</pre></div></div></div></div></div>"
      ],
      "text/plain": [
       "KMeans(n_clusters=16, random_state=42)"
      ]
     },
     "execution_count": 22,
     "metadata": {},
     "output_type": "execute_result"
    }
   ],
   "source": [
    "kmeans.fit(df[bemeno_valtozok])"
   ]
  },
  {
   "cell_type": "code",
   "execution_count": null,
   "id": "7b6cbac0",
   "metadata": {},
   "outputs": [],
   "source": [
    "kmeans.cluster_centers_[4]"
   ]
  },
  {
   "cell_type": "code",
   "execution_count": 23,
   "id": "422ce546",
   "metadata": {},
   "outputs": [],
   "source": [
    "ujak = []\n",
    "for i in range(kmeans.n_clusters):\n",
    "    nev = 'cdist_'+str(i)\n",
    "    df[nev]=0\n",
    "    ujak.append(nev)\n",
    "    "
   ]
  },
  {
   "cell_type": "code",
   "execution_count": 24,
   "id": "3c392853",
   "metadata": {},
   "outputs": [
    {
     "data": {
      "text/plain": [
       "<AxesSubplot:>"
      ]
     },
     "execution_count": 24,
     "metadata": {},
     "output_type": "execute_result"
    },
    {
     "data": {
      "image/png": "[encoded data removed]",
      "text/plain": [
       "<Figure size 432x288 with 1 Axes>"
      ]
     },
     "metadata": {
      "needs_background": "light"
     },
     "output_type": "display_data"
    }
   ],
   "source": [
    "df[ujak]=kmeans.transform(df[bemeno_valtozok])\n",
    "df['cid']=kmeans.predict(df[bemeno_valtozok])\n",
    "\n",
    "def f(x):\n",
    "    nev = 'cdist_'+str(x['cid'])\n",
    "    return x[nev]\n",
    "\n",
    "df['myc_dist']=df.apply(f,axis=1)\n",
    "df['myc_dist'].hist(bins=30)"
   ]
  },
  {
   "cell_type": "code",
   "execution_count": 25,
   "id": "2f0564a3",
   "metadata": {},
   "outputs": [
    {
     "name": "stdout",
     "output_type": "stream",
     "text": [
      "Adathalmaz mérete   = 2467\n",
      "Ismert esetek száma = 30 \t\tmax: 111\n",
      "  Ismert csalás = 6\n",
      "  Felderítési arány = 20.0%\n"
     ]
    }
   ],
   "source": [
    "expert.stat()"
   ]
  },
  {
   "cell_type": "code",
   "execution_count": 29,
   "id": "1b874aba",
   "metadata": {},
   "outputs": [],
   "source": [
    "df = expert.add_label(df,'info')"
   ]
  },
  {
   "cell_type": "code",
   "execution_count": 30,
   "id": "c037db71",
   "metadata": {},
   "outputs": [
    {
     "data": {
      "image/png": "[encoded data removed]",
      "text/plain": [
       "<Figure size 432x288 with 1 Axes>"
      ]
     },
     "metadata": {
      "needs_background": "light"
     },
     "output_type": "display_data"
    }
   ],
   "source": [
    "def score_diagram(df,vizsgalat):\n",
    "    plt.yscale('log')\n",
    "    for tipus in ['no_info','csalás','ok']:\n",
    "        cdf=df[df['info']==tipus]\n",
    "        cdf[vizsgalat].hist(bins=30,label=tipus,alpha=0.5)\n",
    "    plt.legend()\n",
    "score_diagram(df,'myc_dist')"
   ]
  },
  {
   "cell_type": "code",
   "execution_count": 31,
   "id": "89e30324",
   "metadata": {},
   "outputs": [
    {
     "name": "stdout",
     "output_type": "stream",
     "text": [
      "       1   2   3  4  5   6   7  8   9  10  ...   cdist_10   cdist_11  \\\n",
      "2033   2   3   3  4  1   0   1  5   6   0  ...  16.423991  10.977360   \n",
      "1578   2  11   3  8  2  15   4  4   5  13  ...   9.728737  10.793630   \n",
      "828    3   8   3  6  2   0   2  4   6   1  ...  13.707224   9.669666   \n",
      "1942   2   8   3  5  1   8  13  0   6   6  ...  12.870765   9.552077   \n",
      "1069   3   7   4  5  2   4   4  3  10   2  ...  11.927621   7.756286   \n",
      "908    3   4   3  6  2   3   8  6  10   7  ...  14.460961   7.749218   \n",
      "1854  10  14  11  8  5  13   1  5   3  13  ...   7.718415  14.709366   \n",
      "1522   2   9   4  7  2   7  13  0   5   7  ...  11.932124   9.447532   \n",
      "1542   3   6   4  4  2   4  14  8   1  11  ...  15.105810   9.052116   \n",
      "2129   3   9   3  6  2   3   6  6  10   7  ...  12.783139   7.646002   \n",
      "\n",
      "       cdist_12   cdist_13   cdist_14   cdist_15  cid  myc_dist       in  \\\n",
      "2033  19.259536  12.072546  14.021199  12.089241    5  9.810413  no_info   \n",
      "1578  15.447446  14.372223  11.178237  16.007519   10  9.728737  no_info   \n",
      "828   15.611061  12.242143  11.044394  14.187854   11  9.669666  no_info   \n",
      "1942  14.488247   7.823041   9.183551  12.040263   13  7.823041  no_info   \n",
      "1069  14.693158  10.640032   9.282140  13.395546   11  7.756286  no_info   \n",
      "908   15.928127   9.611203  10.205160  12.384915   11  7.749218  no_info   \n",
      "1854  10.742398  19.002549  12.458821  21.901115   10  7.718415  no_info   \n",
      "1522  12.998867   8.417212   8.098222  13.196581    0  7.677744  no_info   \n",
      "1542  14.891825   7.665962  10.381402  10.608090   13  7.665962  no_info   \n",
      "2129  13.949293  11.592033   8.818202  14.732300   11  7.646002  no_info   \n",
      "\n",
      "         info  \n",
      "2033  no_info  \n",
      "1578  no_info  \n",
      "828   no_info  \n",
      "1942  no_info  \n",
      "1069  no_info  \n",
      "908   no_info  \n",
      "1854  no_info  \n",
      "1522  no_info  \n",
      "1542  no_info  \n",
      "2129  no_info  \n",
      "\n",
      "[10 rows x 39 columns]\n",
      "\tNyomozás eredménye\t2033\t->\tcsalás\n",
      "\tNyomozás eredménye\t1578\t->\tcsalás\n",
      "\tNyomozás eredménye\t828\t->\tcsalás\n",
      "\tNyomozás eredménye\t1942\t->\tcsalás\n",
      "\tNyomozás eredménye\t1069\t->\tcsalás\n",
      "\tNyomozás eredménye\t908\t->\tcsalás\n",
      "\tNyomozás eredménye\t1854\t->\tok\n",
      "\tNyomozás eredménye\t1522\t->\tcsalás\n",
      "\tNyomozás eredménye\t1542\t->\tcsalás\n",
      "\tNyomozás eredménye\t2129\t->\tcsalás\n"
     ]
    },
    {
     "data": {
      "text/html": [
       "<div>\n",
       "<style scoped>\n",
       "    .dataframe tbody tr th:only-of-type {\n",
       "        vertical-align: middle;\n",
       "    }\n",
       "\n",
       "    .dataframe tbody tr th {\n",
       "        vertical-align: top;\n",
       "    }\n",
       "\n",
       "    .dataframe thead th {\n",
       "        text-align: right;\n",
       "    }\n",
       "</style>\n",
       "<table border=\"1\" class=\"dataframe\">\n",
       "  <thead>\n",
       "    <tr style=\"text-align: right;\">\n",
       "      <th></th>\n",
       "      <th>1</th>\n",
       "      <th>2</th>\n",
       "      <th>3</th>\n",
       "      <th>4</th>\n",
       "      <th>5</th>\n",
       "      <th>6</th>\n",
       "      <th>7</th>\n",
       "      <th>8</th>\n",
       "      <th>9</th>\n",
       "      <th>10</th>\n",
       "      <th>...</th>\n",
       "      <th>cdist_10</th>\n",
       "      <th>cdist_11</th>\n",
       "      <th>cdist_12</th>\n",
       "      <th>cdist_13</th>\n",
       "      <th>cdist_14</th>\n",
       "      <th>cdist_15</th>\n",
       "      <th>cid</th>\n",
       "      <th>myc_dist</th>\n",
       "      <th>in</th>\n",
       "      <th>info</th>\n",
       "    </tr>\n",
       "  </thead>\n",
       "  <tbody>\n",
       "    <tr>\n",
       "      <th>0</th>\n",
       "      <td>8</td>\n",
       "      <td>10</td>\n",
       "      <td>12</td>\n",
       "      <td>8</td>\n",
       "      <td>9</td>\n",
       "      <td>10</td>\n",
       "      <td>6</td>\n",
       "      <td>2</td>\n",
       "      <td>5</td>\n",
       "      <td>9</td>\n",
       "      <td>...</td>\n",
       "      <td>5.387809</td>\n",
       "      <td>11.807635</td>\n",
       "      <td>7.959792</td>\n",
       "      <td>14.940568</td>\n",
       "      <td>8.920829</td>\n",
       "      <td>19.289769</td>\n",
       "      <td>4</td>\n",
       "      <td>5.028184</td>\n",
       "      <td>no_info</td>\n",
       "      <td>no_info</td>\n",
       "    </tr>\n",
       "    <tr>\n",
       "      <th>1</th>\n",
       "      <td>4</td>\n",
       "      <td>2</td>\n",
       "      <td>5</td>\n",
       "      <td>3</td>\n",
       "      <td>3</td>\n",
       "      <td>8</td>\n",
       "      <td>6</td>\n",
       "      <td>6</td>\n",
       "      <td>4</td>\n",
       "      <td>6</td>\n",
       "      <td>...</td>\n",
       "      <td>11.282784</td>\n",
       "      <td>5.461795</td>\n",
       "      <td>15.393184</td>\n",
       "      <td>5.950307</td>\n",
       "      <td>9.602573</td>\n",
       "      <td>6.617108</td>\n",
       "      <td>5</td>\n",
       "      <td>2.534654</td>\n",
       "      <td>no_info</td>\n",
       "      <td>no_info</td>\n",
       "    </tr>\n",
       "    <tr>\n",
       "      <th>2</th>\n",
       "      <td>2</td>\n",
       "      <td>0</td>\n",
       "      <td>3</td>\n",
       "      <td>1</td>\n",
       "      <td>1</td>\n",
       "      <td>7</td>\n",
       "      <td>8</td>\n",
       "      <td>4</td>\n",
       "      <td>0</td>\n",
       "      <td>7</td>\n",
       "      <td>...</td>\n",
       "      <td>15.870459</td>\n",
       "      <td>10.279437</td>\n",
       "      <td>19.475026</td>\n",
       "      <td>6.009783</td>\n",
       "      <td>13.760466</td>\n",
       "      <td>1.089089</td>\n",
       "      <td>15</td>\n",
       "      <td>1.089089</td>\n",
       "      <td>no_info</td>\n",
       "      <td>no_info</td>\n",
       "    </tr>\n",
       "    <tr>\n",
       "      <th>3</th>\n",
       "      <td>2</td>\n",
       "      <td>3</td>\n",
       "      <td>3</td>\n",
       "      <td>2</td>\n",
       "      <td>2</td>\n",
       "      <td>7</td>\n",
       "      <td>9</td>\n",
       "      <td>5</td>\n",
       "      <td>4</td>\n",
       "      <td>7</td>\n",
       "      <td>...</td>\n",
       "      <td>13.240760</td>\n",
       "      <td>6.221569</td>\n",
       "      <td>16.412760</td>\n",
       "      <td>3.769652</td>\n",
       "      <td>10.063474</td>\n",
       "      <td>4.914240</td>\n",
       "      <td>5</td>\n",
       "      <td>2.593241</td>\n",
       "      <td>no_info</td>\n",
       "      <td>no_info</td>\n",
       "    </tr>\n",
       "    <tr>\n",
       "      <th>4</th>\n",
       "      <td>5</td>\n",
       "      <td>9</td>\n",
       "      <td>8</td>\n",
       "      <td>7</td>\n",
       "      <td>5</td>\n",
       "      <td>7</td>\n",
       "      <td>9</td>\n",
       "      <td>2</td>\n",
       "      <td>4</td>\n",
       "      <td>10</td>\n",
       "      <td>...</td>\n",
       "      <td>5.716763</td>\n",
       "      <td>6.503611</td>\n",
       "      <td>7.580259</td>\n",
       "      <td>8.433119</td>\n",
       "      <td>3.134452</td>\n",
       "      <td>13.605638</td>\n",
       "      <td>14</td>\n",
       "      <td>3.134452</td>\n",
       "      <td>no_info</td>\n",
       "      <td>no_info</td>\n",
       "    </tr>\n",
       "    <tr>\n",
       "      <th>...</th>\n",
       "      <td>...</td>\n",
       "      <td>...</td>\n",
       "      <td>...</td>\n",
       "      <td>...</td>\n",
       "      <td>...</td>\n",
       "      <td>...</td>\n",
       "      <td>...</td>\n",
       "      <td>...</td>\n",
       "      <td>...</td>\n",
       "      <td>...</td>\n",
       "      <td>...</td>\n",
       "      <td>...</td>\n",
       "      <td>...</td>\n",
       "      <td>...</td>\n",
       "      <td>...</td>\n",
       "      <td>...</td>\n",
       "      <td>...</td>\n",
       "      <td>...</td>\n",
       "      <td>...</td>\n",
       "      <td>...</td>\n",
       "      <td>...</td>\n",
       "    </tr>\n",
       "    <tr>\n",
       "      <th>2462</th>\n",
       "      <td>3</td>\n",
       "      <td>7</td>\n",
       "      <td>4</td>\n",
       "      <td>5</td>\n",
       "      <td>4</td>\n",
       "      <td>8</td>\n",
       "      <td>6</td>\n",
       "      <td>5</td>\n",
       "      <td>4</td>\n",
       "      <td>7</td>\n",
       "      <td>...</td>\n",
       "      <td>7.995064</td>\n",
       "      <td>2.487443</td>\n",
       "      <td>12.408486</td>\n",
       "      <td>6.760556</td>\n",
       "      <td>5.968221</td>\n",
       "      <td>9.489934</td>\n",
       "      <td>11</td>\n",
       "      <td>2.487443</td>\n",
       "      <td>no_info</td>\n",
       "      <td>no_info</td>\n",
       "    </tr>\n",
       "    <tr>\n",
       "      <th>2463</th>\n",
       "      <td>7</td>\n",
       "      <td>7</td>\n",
       "      <td>7</td>\n",
       "      <td>5</td>\n",
       "      <td>5</td>\n",
       "      <td>6</td>\n",
       "      <td>10</td>\n",
       "      <td>4</td>\n",
       "      <td>3</td>\n",
       "      <td>8</td>\n",
       "      <td>...</td>\n",
       "      <td>7.939048</td>\n",
       "      <td>5.765602</td>\n",
       "      <td>8.390417</td>\n",
       "      <td>6.667661</td>\n",
       "      <td>4.387239</td>\n",
       "      <td>11.735909</td>\n",
       "      <td>0</td>\n",
       "      <td>3.049905</td>\n",
       "      <td>no_info</td>\n",
       "      <td>no_info</td>\n",
       "    </tr>\n",
       "    <tr>\n",
       "      <th>2464</th>\n",
       "      <td>10</td>\n",
       "      <td>10</td>\n",
       "      <td>9</td>\n",
       "      <td>8</td>\n",
       "      <td>9</td>\n",
       "      <td>5</td>\n",
       "      <td>11</td>\n",
       "      <td>4</td>\n",
       "      <td>3</td>\n",
       "      <td>8</td>\n",
       "      <td>...</td>\n",
       "      <td>9.536119</td>\n",
       "      <td>11.337100</td>\n",
       "      <td>5.915314</td>\n",
       "      <td>13.395798</td>\n",
       "      <td>7.943981</td>\n",
       "      <td>18.439205</td>\n",
       "      <td>7</td>\n",
       "      <td>4.672462</td>\n",
       "      <td>no_info</td>\n",
       "      <td>no_info</td>\n",
       "    </tr>\n",
       "    <tr>\n",
       "      <th>2465</th>\n",
       "      <td>3</td>\n",
       "      <td>5</td>\n",
       "      <td>4</td>\n",
       "      <td>4</td>\n",
       "      <td>4</td>\n",
       "      <td>8</td>\n",
       "      <td>6</td>\n",
       "      <td>6</td>\n",
       "      <td>4</td>\n",
       "      <td>7</td>\n",
       "      <td>...</td>\n",
       "      <td>9.535686</td>\n",
       "      <td>2.927616</td>\n",
       "      <td>13.851660</td>\n",
       "      <td>6.176441</td>\n",
       "      <td>7.555210</td>\n",
       "      <td>8.021830</td>\n",
       "      <td>11</td>\n",
       "      <td>2.927616</td>\n",
       "      <td>no_info</td>\n",
       "      <td>no_info</td>\n",
       "    </tr>\n",
       "    <tr>\n",
       "      <th>2466</th>\n",
       "      <td>5</td>\n",
       "      <td>6</td>\n",
       "      <td>5</td>\n",
       "      <td>4</td>\n",
       "      <td>4</td>\n",
       "      <td>3</td>\n",
       "      <td>10</td>\n",
       "      <td>2</td>\n",
       "      <td>3</td>\n",
       "      <td>10</td>\n",
       "      <td>...</td>\n",
       "      <td>11.239116</td>\n",
       "      <td>6.957482</td>\n",
       "      <td>11.917708</td>\n",
       "      <td>4.939215</td>\n",
       "      <td>7.130050</td>\n",
       "      <td>9.962873</td>\n",
       "      <td>0</td>\n",
       "      <td>2.721413</td>\n",
       "      <td>no_info</td>\n",
       "      <td>no_info</td>\n",
       "    </tr>\n",
       "  </tbody>\n",
       "</table>\n",
       "<p>2467 rows × 39 columns</p>\n",
       "</div>"
      ],
      "text/plain": [
       "       1   2   3  4  5   6   7  8  9  10  ...   cdist_10   cdist_11  \\\n",
       "0      8  10  12  8  9  10   6  2  5   9  ...   5.387809  11.807635   \n",
       "1      4   2   5  3  3   8   6  6  4   6  ...  11.282784   5.461795   \n",
       "2      2   0   3  1  1   7   8  4  0   7  ...  15.870459  10.279437   \n",
       "3      2   3   3  2  2   7   9  5  4   7  ...  13.240760   6.221569   \n",
       "4      5   9   8  7  5   7   9  2  4  10  ...   5.716763   6.503611   \n",
       "...   ..  ..  .. .. ..  ..  .. .. ..  ..  ...        ...        ...   \n",
       "2462   3   7   4  5  4   8   6  5  4   7  ...   7.995064   2.487443   \n",
       "2463   7   7   7  5  5   6  10  4  3   8  ...   7.939048   5.765602   \n",
       "2464  10  10   9  8  9   5  11  4  3   8  ...   9.536119  11.337100   \n",
       "2465   3   5   4  4  4   8   6  6  4   7  ...   9.535686   2.927616   \n",
       "2466   5   6   5  4  4   3  10  2  3  10  ...  11.239116   6.957482   \n",
       "\n",
       "       cdist_12   cdist_13   cdist_14   cdist_15  cid  myc_dist       in  \\\n",
       "0      7.959792  14.940568   8.920829  19.289769    4  5.028184  no_info   \n",
       "1     15.393184   5.950307   9.602573   6.617108    5  2.534654  no_info   \n",
       "2     19.475026   6.009783  13.760466   1.089089   15  1.089089  no_info   \n",
       "3     16.412760   3.769652  10.063474   4.914240    5  2.593241  no_info   \n",
       "4      7.580259   8.433119   3.134452  13.605638   14  3.134452  no_info   \n",
       "...         ...        ...        ...        ...  ...       ...      ...   \n",
       "2462  12.408486   6.760556   5.968221   9.489934   11  2.487443  no_info   \n",
       "2463   8.390417   6.667661   4.387239  11.735909    0  3.049905  no_info   \n",
       "2464   5.915314  13.395798   7.943981  18.439205    7  4.672462  no_info   \n",
       "2465  13.851660   6.176441   7.555210   8.021830   11  2.927616  no_info   \n",
       "2466  11.917708   4.939215   7.130050   9.962873    0  2.721413  no_info   \n",
       "\n",
       "         info  \n",
       "0     no_info  \n",
       "1     no_info  \n",
       "2     no_info  \n",
       "3     no_info  \n",
       "4     no_info  \n",
       "...       ...  \n",
       "2462  no_info  \n",
       "2463  no_info  \n",
       "2464  no_info  \n",
       "2465  no_info  \n",
       "2466  no_info  \n",
       "\n",
       "[2467 rows x 39 columns]"
      ]
     },
     "execution_count": 31,
     "metadata": {},
     "output_type": "execute_result"
    }
   ],
   "source": [
    "top10megnez(df,'myc_dist')"
   ]
  },
  {
   "cell_type": "code",
   "execution_count": null,
   "id": "71dfee12",
   "metadata": {},
   "outputs": [],
   "source": [
    "plt.plot(df[:0],df[:1],color='viridis')"
   ]
  },
  {
   "cell_type": "code",
   "execution_count": null,
   "id": "b82e85b6",
   "metadata": {},
   "outputs": [],
   "source": [
    "! cp ../__Gaspar_Csaba/STARTER_anomalia_detekcio.ipynb ."
   ]
  },
  {
   "cell_type": "code",
   "execution_count": 32,
   "id": "3a42d4d8",
   "metadata": {},
   "outputs": [],
   "source": [
    "stat=df.groupby(\"cid\").agg({'myc_dist':'mean'})"
   ]
  },
  {
   "cell_type": "code",
   "execution_count": null,
   "id": "8f8dd988",
   "metadata": {},
   "outputs": [],
   "source": []
  },
  {
   "cell_type": "code",
   "execution_count": 33,
   "id": "d018d840",
   "metadata": {},
   "outputs": [],
   "source": [
    "from sklearn.neighbors import NearestNeighbors\n",
    "\n",
    "nn = NearestNeighbors(n_neighbors=7)\n",
    "\n"
   ]
  },
  {
   "cell_type": "code",
   "execution_count": 36,
   "id": "1effba5d",
   "metadata": {},
   "outputs": [],
   "source": [
    "bemeno_valtozok = list(df.columns)[:10]"
   ]
  },
  {
   "cell_type": "code",
   "execution_count": 37,
   "id": "d5cfa034",
   "metadata": {},
   "outputs": [
    {
     "data": {
      "text/html": [
       "<style>#sk-container-id-4 {color: black;}#sk-container-id-4 pre{padding: 0;}#sk-container-id-4 div.sk-toggleable {background-color: white;}#sk-container-id-4 label.sk-toggleable__label {cursor: pointer;display: block;width: 100%;margin-bottom: 0;padding: 0.3em;box-sizing: border-box;text-align: center;}#sk-container-id-4 label.sk-toggleable__label-arrow:before {content: \"▸\";float: left;margin-right: 0.25em;color: #696969;}#sk-container-id-4 label.sk-toggleable__label-arrow:hover:before {color: black;}#sk-container-id-4 div.sk-estimator:hover label.sk-toggleable__label-arrow:before {color: black;}#sk-container-id-4 div.sk-toggleable__content {max-height: 0;max-width: 0;overflow: hidden;text-align: left;background-color: #f0f8ff;}#sk-container-id-4 div.sk-toggleable__content pre {margin: 0.2em;color: black;border-radius: 0.25em;background-color: #f0f8ff;}#sk-container-id-4 input.sk-toggleable__control:checked~div.sk-toggleable__content {max-height: 200px;max-width: 100%;overflow: auto;}#sk-container-id-4 input.sk-toggleable__control:checked~label.sk-toggleable__label-arrow:before {content: \"▾\";}#sk-container-id-4 div.sk-estimator input.sk-toggleable__control:checked~label.sk-toggleable__label {background-color: #d4ebff;}#sk-container-id-4 div.sk-label input.sk-toggleable__control:checked~label.sk-toggleable__label {background-color: #d4ebff;}#sk-container-id-4 input.sk-hidden--visually {border: 0;clip: rect(1px 1px 1px 1px);clip: rect(1px, 1px, 1px, 1px);height: 1px;margin: -1px;overflow: hidden;padding: 0;position: absolute;width: 1px;}#sk-container-id-4 div.sk-estimator {font-family: monospace;background-color: #f0f8ff;border: 1px dotted black;border-radius: 0.25em;box-sizing: border-box;margin-bottom: 0.5em;}#sk-container-id-4 div.sk-estimator:hover {background-color: #d4ebff;}#sk-container-id-4 div.sk-parallel-item::after {content: \"\";width: 100%;border-bottom: 1px solid gray;flex-grow: 1;}#sk-container-id-4 div.sk-label:hover label.sk-toggleable__label {background-color: #d4ebff;}#sk-container-id-4 div.sk-serial::before {content: \"\";position: absolute;border-left: 1px solid gray;box-sizing: border-box;top: 0;bottom: 0;left: 50%;z-index: 0;}#sk-container-id-4 div.sk-serial {display: flex;flex-direction: column;align-items: center;background-color: white;padding-right: 0.2em;padding-left: 0.2em;position: relative;}#sk-container-id-4 div.sk-item {position: relative;z-index: 1;}#sk-container-id-4 div.sk-parallel {display: flex;align-items: stretch;justify-content: center;background-color: white;position: relative;}#sk-container-id-4 div.sk-item::before, #sk-container-id-4 div.sk-parallel-item::before {content: \"\";position: absolute;border-left: 1px solid gray;box-sizing: border-box;top: 0;bottom: 0;left: 50%;z-index: -1;}#sk-container-id-4 div.sk-parallel-item {display: flex;flex-direction: column;z-index: 1;position: relative;background-color: white;}#sk-container-id-4 div.sk-parallel-item:first-child::after {align-self: flex-end;width: 50%;}#sk-container-id-4 div.sk-parallel-item:last-child::after {align-self: flex-start;width: 50%;}#sk-container-id-4 div.sk-parallel-item:only-child::after {width: 0;}#sk-container-id-4 div.sk-dashed-wrapped {border: 1px dashed gray;margin: 0 0.4em 0.5em 0.4em;box-sizing: border-box;padding-bottom: 0.4em;background-color: white;}#sk-container-id-4 div.sk-label label {font-family: monospace;font-weight: bold;display: inline-block;line-height: 1.2em;}#sk-container-id-4 div.sk-label-container {text-align: center;}#sk-container-id-4 div.sk-container {/* jupyter's `normalize.less` sets `[hidden] { display: none; }` but bootstrap.min.css set `[hidden] { display: none !important; }` so we also need the `!important` here to be able to override the default hidden behavior on the sphinx rendered scikit-learn.org. See: https://github.com/scikit-learn/scikit-learn/issues/21755 */display: inline-block !important;position: relative;}#sk-container-id-4 div.sk-text-repr-fallback {display: none;}</style><div id=\"sk-container-id-4\" class=\"sk-top-container\"><div class=\"sk-text-repr-fallback\"><pre>NearestNeighbors(n_neighbors=7)</pre><b>In a Jupyter environment, please rerun this cell to show the HTML representation or trust the notebook. <br />On GitHub, the HTML representation is unable to render, please try loading this page with nbviewer.org.</b></div><div class=\"sk-container\" hidden><div class=\"sk-item\"><div class=\"sk-estimator sk-toggleable\"><input class=\"sk-toggleable__control sk-hidden--visually\" id=\"sk-estimator-id-4\" type=\"checkbox\" checked><label for=\"sk-estimator-id-4\" class=\"sk-toggleable__label sk-toggleable__label-arrow\">NearestNeighbors</label><div class=\"sk-toggleable__content\"><pre>NearestNeighbors(n_neighbors=7)</pre></div></div></div></div></div>"
      ],
      "text/plain": [
       "NearestNeighbors(n_neighbors=7)"
      ]
     },
     "execution_count": 37,
     "metadata": {},
     "output_type": "execute_result"
    }
   ],
   "source": [
    "nn.fit(df[bemeno_valtozok])"
   ]
  },
  {
   "cell_type": "code",
   "execution_count": 39,
   "id": "39139d10",
   "metadata": {},
   "outputs": [],
   "source": [
    "a,b = nn.kneighbors(df[bemeno_valtozok])\n",
    "df['knn_dist']=a[:,6]"
   ]
  },
  {
   "cell_type": "code",
   "execution_count": 40,
   "id": "80cdab1e",
   "metadata": {},
   "outputs": [
    {
     "ename": "KeyError",
     "evalue": "'info'",
     "output_type": "error",
     "traceback": [
      "\u001b[0;31m---------------------------------------------------------------------------\u001b[0m",
      "\u001b[0;31mKeyError\u001b[0m                                  Traceback (most recent call last)",
      "\u001b[0;32m/opt/conda/lib/python3.9/site-packages/pandas/core/indexes/base.py\u001b[0m in \u001b[0;36mget_loc\u001b[0;34m(self, key, method, tolerance)\u001b[0m\n\u001b[1;32m   3360\u001b[0m             \u001b[0;32mtry\u001b[0m\u001b[0;34m:\u001b[0m\u001b[0;34m\u001b[0m\u001b[0;34m\u001b[0m\u001b[0m\n\u001b[0;32m-> 3361\u001b[0;31m                 \u001b[0;32mreturn\u001b[0m \u001b[0mself\u001b[0m\u001b[0;34m.\u001b[0m\u001b[0m_engine\u001b[0m\u001b[0;34m.\u001b[0m\u001b[0mget_loc\u001b[0m\u001b[0;34m(\u001b[0m\u001b[0mcasted_key\u001b[0m\u001b[0;34m)\u001b[0m\u001b[0;34m\u001b[0m\u001b[0;34m\u001b[0m\u001b[0m\n\u001b[0m\u001b[1;32m   3362\u001b[0m             \u001b[0;32mexcept\u001b[0m \u001b[0mKeyError\u001b[0m \u001b[0;32mas\u001b[0m \u001b[0merr\u001b[0m\u001b[0;34m:\u001b[0m\u001b[0;34m\u001b[0m\u001b[0;34m\u001b[0m\u001b[0m\n",
      "\u001b[0;32m/opt/conda/lib/python3.9/site-packages/pandas/_libs/index.pyx\u001b[0m in \u001b[0;36mpandas._libs.index.IndexEngine.get_loc\u001b[0;34m()\u001b[0m\n",
      "\u001b[0;32m/opt/conda/lib/python3.9/site-packages/pandas/_libs/index.pyx\u001b[0m in \u001b[0;36mpandas._libs.index.IndexEngine.get_loc\u001b[0;34m()\u001b[0m\n",
      "\u001b[0;32mpandas/_libs/hashtable_class_helper.pxi\u001b[0m in \u001b[0;36mpandas._libs.hashtable.PyObjectHashTable.get_item\u001b[0;34m()\u001b[0m\n",
      "\u001b[0;32mpandas/_libs/hashtable_class_helper.pxi\u001b[0m in \u001b[0;36mpandas._libs.hashtable.PyObjectHashTable.get_item\u001b[0;34m()\u001b[0m\n",
      "\u001b[0;31mKeyError\u001b[0m: 'info'",
      "\nThe above exception was the direct cause of the following exception:\n",
      "\u001b[0;31mKeyError\u001b[0m                                  Traceback (most recent call last)",
      "\u001b[0;32m/tmp/ipykernel_16860/3430973599.py\u001b[0m in \u001b[0;36m<module>\u001b[0;34m\u001b[0m\n\u001b[0;32m----> 1\u001b[0;31m \u001b[0mscore_diagram\u001b[0m\u001b[0;34m(\u001b[0m\u001b[0mdf\u001b[0m\u001b[0;34m,\u001b[0m\u001b[0;34m'knn_dist'\u001b[0m\u001b[0;34m)\u001b[0m\u001b[0;34m\u001b[0m\u001b[0;34m\u001b[0m\u001b[0m\n\u001b[0m",
      "\u001b[0;32m/tmp/ipykernel_16860/2163449684.py\u001b[0m in \u001b[0;36mscore_diagram\u001b[0;34m(df, vizsgalat)\u001b[0m\n\u001b[1;32m      2\u001b[0m     \u001b[0mplt\u001b[0m\u001b[0;34m.\u001b[0m\u001b[0myscale\u001b[0m\u001b[0;34m(\u001b[0m\u001b[0;34m'log'\u001b[0m\u001b[0;34m)\u001b[0m\u001b[0;34m\u001b[0m\u001b[0;34m\u001b[0m\u001b[0m\n\u001b[1;32m      3\u001b[0m     \u001b[0;32mfor\u001b[0m \u001b[0mtipus\u001b[0m \u001b[0;32min\u001b[0m \u001b[0;34m[\u001b[0m\u001b[0;34m'no_info'\u001b[0m\u001b[0;34m,\u001b[0m\u001b[0;34m'csalás'\u001b[0m\u001b[0;34m,\u001b[0m\u001b[0;34m'ok'\u001b[0m\u001b[0;34m]\u001b[0m\u001b[0;34m:\u001b[0m\u001b[0;34m\u001b[0m\u001b[0;34m\u001b[0m\u001b[0m\n\u001b[0;32m----> 4\u001b[0;31m         \u001b[0mcdf\u001b[0m\u001b[0;34m=\u001b[0m\u001b[0mdf\u001b[0m\u001b[0;34m[\u001b[0m\u001b[0mdf\u001b[0m\u001b[0;34m[\u001b[0m\u001b[0;34m'info'\u001b[0m\u001b[0;34m]\u001b[0m\u001b[0;34m==\u001b[0m\u001b[0mtipus\u001b[0m\u001b[0;34m]\u001b[0m\u001b[0;34m\u001b[0m\u001b[0;34m\u001b[0m\u001b[0m\n\u001b[0m\u001b[1;32m      5\u001b[0m         \u001b[0mcdf\u001b[0m\u001b[0;34m[\u001b[0m\u001b[0mvizsgalat\u001b[0m\u001b[0;34m]\u001b[0m\u001b[0;34m.\u001b[0m\u001b[0mhist\u001b[0m\u001b[0;34m(\u001b[0m\u001b[0mbins\u001b[0m\u001b[0;34m=\u001b[0m\u001b[0;36m30\u001b[0m\u001b[0;34m,\u001b[0m\u001b[0mlabel\u001b[0m\u001b[0;34m=\u001b[0m\u001b[0mtipus\u001b[0m\u001b[0;34m,\u001b[0m\u001b[0malpha\u001b[0m\u001b[0;34m=\u001b[0m\u001b[0;36m0.5\u001b[0m\u001b[0;34m)\u001b[0m\u001b[0;34m\u001b[0m\u001b[0;34m\u001b[0m\u001b[0m\n\u001b[1;32m      6\u001b[0m     \u001b[0mplt\u001b[0m\u001b[0;34m.\u001b[0m\u001b[0mlegend\u001b[0m\u001b[0;34m(\u001b[0m\u001b[0;34m)\u001b[0m\u001b[0;34m\u001b[0m\u001b[0;34m\u001b[0m\u001b[0m\n",
      "\u001b[0;32m/opt/conda/lib/python3.9/site-packages/pandas/core/frame.py\u001b[0m in \u001b[0;36m__getitem__\u001b[0;34m(self, key)\u001b[0m\n\u001b[1;32m   3456\u001b[0m             \u001b[0;32mif\u001b[0m \u001b[0mself\u001b[0m\u001b[0;34m.\u001b[0m\u001b[0mcolumns\u001b[0m\u001b[0;34m.\u001b[0m\u001b[0mnlevels\u001b[0m \u001b[0;34m>\u001b[0m \u001b[0;36m1\u001b[0m\u001b[0;34m:\u001b[0m\u001b[0;34m\u001b[0m\u001b[0;34m\u001b[0m\u001b[0m\n\u001b[1;32m   3457\u001b[0m                 \u001b[0;32mreturn\u001b[0m \u001b[0mself\u001b[0m\u001b[0;34m.\u001b[0m\u001b[0m_getitem_multilevel\u001b[0m\u001b[0;34m(\u001b[0m\u001b[0mkey\u001b[0m\u001b[0;34m)\u001b[0m\u001b[0;34m\u001b[0m\u001b[0;34m\u001b[0m\u001b[0m\n\u001b[0;32m-> 3458\u001b[0;31m             \u001b[0mindexer\u001b[0m \u001b[0;34m=\u001b[0m \u001b[0mself\u001b[0m\u001b[0;34m.\u001b[0m\u001b[0mcolumns\u001b[0m\u001b[0;34m.\u001b[0m\u001b[0mget_loc\u001b[0m\u001b[0;34m(\u001b[0m\u001b[0mkey\u001b[0m\u001b[0;34m)\u001b[0m\u001b[0;34m\u001b[0m\u001b[0;34m\u001b[0m\u001b[0m\n\u001b[0m\u001b[1;32m   3459\u001b[0m             \u001b[0;32mif\u001b[0m \u001b[0mis_integer\u001b[0m\u001b[0;34m(\u001b[0m\u001b[0mindexer\u001b[0m\u001b[0;34m)\u001b[0m\u001b[0;34m:\u001b[0m\u001b[0;34m\u001b[0m\u001b[0;34m\u001b[0m\u001b[0m\n\u001b[1;32m   3460\u001b[0m                 \u001b[0mindexer\u001b[0m \u001b[0;34m=\u001b[0m \u001b[0;34m[\u001b[0m\u001b[0mindexer\u001b[0m\u001b[0;34m]\u001b[0m\u001b[0;34m\u001b[0m\u001b[0;34m\u001b[0m\u001b[0m\n",
      "\u001b[0;32m/opt/conda/lib/python3.9/site-packages/pandas/core/indexes/base.py\u001b[0m in \u001b[0;36mget_loc\u001b[0;34m(self, key, method, tolerance)\u001b[0m\n\u001b[1;32m   3361\u001b[0m                 \u001b[0;32mreturn\u001b[0m \u001b[0mself\u001b[0m\u001b[0;34m.\u001b[0m\u001b[0m_engine\u001b[0m\u001b[0;34m.\u001b[0m\u001b[0mget_loc\u001b[0m\u001b[0;34m(\u001b[0m\u001b[0mcasted_key\u001b[0m\u001b[0;34m)\u001b[0m\u001b[0;34m\u001b[0m\u001b[0;34m\u001b[0m\u001b[0m\n\u001b[1;32m   3362\u001b[0m             \u001b[0;32mexcept\u001b[0m \u001b[0mKeyError\u001b[0m \u001b[0;32mas\u001b[0m \u001b[0merr\u001b[0m\u001b[0;34m:\u001b[0m\u001b[0;34m\u001b[0m\u001b[0;34m\u001b[0m\u001b[0m\n\u001b[0;32m-> 3363\u001b[0;31m                 \u001b[0;32mraise\u001b[0m \u001b[0mKeyError\u001b[0m\u001b[0;34m(\u001b[0m\u001b[0mkey\u001b[0m\u001b[0;34m)\u001b[0m \u001b[0;32mfrom\u001b[0m \u001b[0merr\u001b[0m\u001b[0;34m\u001b[0m\u001b[0;34m\u001b[0m\u001b[0m\n\u001b[0m\u001b[1;32m   3364\u001b[0m \u001b[0;34m\u001b[0m\u001b[0m\n\u001b[1;32m   3365\u001b[0m         \u001b[0;32mif\u001b[0m \u001b[0mis_scalar\u001b[0m\u001b[0;34m(\u001b[0m\u001b[0mkey\u001b[0m\u001b[0;34m)\u001b[0m \u001b[0;32mand\u001b[0m \u001b[0misna\u001b[0m\u001b[0;34m(\u001b[0m\u001b[0mkey\u001b[0m\u001b[0;34m)\u001b[0m \u001b[0;32mand\u001b[0m \u001b[0;32mnot\u001b[0m \u001b[0mself\u001b[0m\u001b[0;34m.\u001b[0m\u001b[0mhasnans\u001b[0m\u001b[0;34m:\u001b[0m\u001b[0;34m\u001b[0m\u001b[0;34m\u001b[0m\u001b[0m\n",
      "\u001b[0;31mKeyError\u001b[0m: 'info'"
     ]
    },
    {
     "data": {
      "image/png": "[encoded data removed]",
      "text/plain": [
       "<Figure size 432x288 with 1 Axes>"
      ]
     },
     "metadata": {
      "needs_background": "light"
     },
     "output_type": "display_data"
    }
   ],
   "source": [
    "score_diagram(df,'knn_dist')"
   ]
  },
  {
   "cell_type": "code",
   "execution_count": null,
   "id": "a92ca8da",
   "metadata": {},
   "outputs": [],
   "source": [
    "df=top10megnez(df,'knn_dist')"
   ]
  },
  {
   "cell_type": "code",
   "execution_count": null,
   "id": "4724059e",
   "metadata": {},
   "outputs": [],
   "source": [
    "# logistic regression"
   ]
  },
  {
   "cell_type": "code",
   "execution_count": null,
   "id": "9755f3e3",
   "metadata": {},
   "outputs": [],
   "source": [
    "df['target'] = df['info'].apply(lambda x: 1 if x=='ok' else 0)\n",
    "\n",
    "df['target'].value_counts()\n",
    "\n",
    "from sklearn.linear_model import LogisticRegression"
   ]
  },
  {
   "cell_type": "code",
   "execution_count": null,
   "id": "b2ab22ff",
   "metadata": {},
   "outputs": [],
   "source": [
    "logreg = LogisticRegression(C=1,penalty='l1')\n",
    "logreg = LogisticRegression(C=1,penalty='l2')\n",
    "\n",
    "bemeno_valtozok = list(df.columns)[:11]\n",
    "\n",
    "logreg.fit(df[bemeno_valtozok],df['target'])\n",
    "\n",
    "df['logreg_egy']=logreg.predict_proba(df[bemeno_valtozok])[:,0]\n",
    "\n",
    "score_diagram(df,'logreg_egy')"
   ]
  },
  {
   "cell_type": "code",
   "execution_count": null,
   "id": "cf14430e",
   "metadata": {},
   "outputs": [],
   "source": [
    "df = top10megnez(df,'logreg_egy')"
   ]
  },
  {
   "cell_type": "code",
   "execution_count": null,
   "id": "0a9273ce",
   "metadata": {},
   "outputs": [],
   "source": [
    "df['target'] = df['info'].apply(lambda x: 1 if x=='ok' else 0)\n",
    "\n",
    "bemeno_valtozok = list(df.columns)[:11]\n",
    "\n",
    "logreg.fit(df[bemeno_valtozok],df['target'])\n",
    "\n",
    "df['logreg_ketto']=logreg.predict_proba(df[bemeno_valtozok])[:,1]\n",
    "\n",
    "score_diagram(df,'logreg_ketto')"
   ]
  },
  {
   "cell_type": "code",
   "execution_count": null,
   "id": "fead0a1e",
   "metadata": {},
   "outputs": [],
   "source": [
    "cdf=df[df['info']=='ok']\n",
    "cdf['logreg_ketto'].hist(bins=30)"
   ]
  },
  {
   "cell_type": "code",
   "execution_count": null,
   "id": "bd5b9494",
   "metadata": {},
   "outputs": [],
   "source": [
    "df = top10megnez(df,'logreg_ketto')"
   ]
  },
  {
   "cell_type": "code",
   "execution_count": null,
   "id": "da15acdc",
   "metadata": {},
   "outputs": [],
   "source": [
    "# rank atlag alapu megkozelites"
   ]
  },
  {
   "cell_type": "code",
   "execution_count": null,
   "id": "499d130d",
   "metadata": {},
   "outputs": [],
   "source": [
    "for modszer in ['logreg_egy','logreg_ketto','myc_dist','isof_score','knn_dist','dist_score']:\n",
    "    df = df.sort_values(modszer,ascending=False).reset_index(drop=True)\n",
    "    df[modszer+\"_rank\"]=df.index + 1\n",
    "    rank_nevek.append(modszer+\"_rank\")\n"
   ]
  },
  {
   "cell_type": "code",
   "execution_count": null,
   "id": "c8b26f42",
   "metadata": {},
   "outputs": [],
   "source": [
    "df['final_score']=len(df)-df[rank_nevek].mean(axis=1)\n"
   ]
  },
  {
   "cell_type": "code",
   "execution_count": null,
   "id": "790a9339",
   "metadata": {},
   "outputs": [],
   "source": [
    "score_diagram(df,'final_score')"
   ]
  },
  {
   "cell_type": "code",
   "execution_count": null,
   "id": "6f2518eb",
   "metadata": {},
   "outputs": [],
   "source": [
    "df = top10megnez(df,'final_score',41)"
   ]
  },
  {
   "cell_type": "code",
   "execution_count": 42,
   "id": "7b617739",
   "metadata": {},
   "outputs": [
    {
     "name": "stdout",
     "output_type": "stream",
     "text": [
      "Adathalmaz mérete   = 2467\n",
      "Ismert esetek száma = 40 \t\tmax: 111\n",
      "  Ismert csalás = 15\n",
      "  Felderítési arány = 37.5%\n"
     ]
    }
   ],
   "source": [
    "expert.stat()"
   ]
  },
  {
   "cell_type": "code",
   "execution_count": 43,
   "id": "67f1e8a8",
   "metadata": {},
   "outputs": [
    {
     "data": {
      "text/plain": [
       "ok          2326\n",
       "anomalia     141\n",
       "Name: info, dtype: int64"
      ]
     },
     "execution_count": 43,
     "metadata": {},
     "output_type": "execute_result"
    }
   ],
   "source": [
    "sec['info'].value_counts()"
   ]
  },
  {
   "cell_type": "code",
   "execution_count": 44,
   "id": "80c14375",
   "metadata": {},
   "outputs": [
    {
     "data": {
      "text/plain": [
       "0.05715443858937981"
      ]
     },
     "execution_count": 44,
     "metadata": {},
     "output_type": "execute_result"
    }
   ],
   "source": [
    "141/len(df)"
   ]
  },
  {
   "cell_type": "code",
   "execution_count": null,
   "id": "fb8ee9e3",
   "metadata": {},
   "outputs": [],
   "source": []
  }
 ],
 "metadata": {
  "kernelspec": {
   "display_name": "Python 3 (ipykernel)",
   "language": "python",
   "name": "python3"
  },
  "language_info": {
   "codemirror_mode": {
    "name": "ipython",
    "version": 3
   },
   "file_extension": ".py",
   "mimetype": "text/x-python",
   "name": "python",
   "nbconvert_exporter": "python",
   "pygments_lexer": "ipython3",
   "version": "3.9.7"
  }
 },
 "nbformat": 4,
 "nbformat_minor": 5
}
