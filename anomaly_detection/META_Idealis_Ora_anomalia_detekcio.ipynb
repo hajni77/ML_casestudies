{
 "cells": [
  {
   "cell_type": "code",
   "execution_count": 1,
   "metadata": {},
   "outputs": [
    {
     "name": "stderr",
     "output_type": "stream",
     "text": [
      "/opt/conda/lib/python3.9/site-packages/scipy/__init__.py:146: UserWarning: A NumPy version >=1.16.5 and <1.23.0 is required for this version of SciPy (detected version 1.24.3\n",
      "  warnings.warn(f\"A NumPy version >={np_minversion} and <{np_maxversion}\"\n"
     ]
    }
   ],
   "source": [
    "import pandas as pd\n",
    "import matplotlib.pyplot as plt\n",
    "\n",
    "from sklearn.preprocessing import StandardScaler\n",
    "from sklearn.ensemble import IsolationForest\n",
    "from sklearn.cluster import KMeans, DBSCAN\n",
    "from sklearn.neighbors import NearestNeighbors\n",
    "from sklearn.linear_model import LogisticRegression\n",
    "from sklearn.model_selection import cross_val_predict\n",
    "\n",
    "import tqdm\n",
    "\n",
    "%matplotlib inline"
   ]
  },
  {
   "cell_type": "code",
   "execution_count": 2,
   "metadata": {},
   "outputs": [],
   "source": [
    "import sherlock"
   ]
  },
  {
   "cell_type": "code",
   "execution_count": 3,
   "metadata": {},
   "outputs": [],
   "source": [
    "df =  pd.read_csv(\"./data/Dataset_Anomaly_Init_R2.csv\") # dataset\n",
    "sec = pd.read_csv(\"./data/Dataset_Anomaly_Secret_R2.csv\") # megoldas"
   ]
  },
  {
   "cell_type": "code",
   "execution_count": 4,
   "metadata": {},
   "outputs": [
    {
     "data": {
      "text/html": [
       "<div>\n",
       "<style scoped>\n",
       "    .dataframe tbody tr th:only-of-type {\n",
       "        vertical-align: middle;\n",
       "    }\n",
       "\n",
       "    .dataframe tbody tr th {\n",
       "        vertical-align: top;\n",
       "    }\n",
       "\n",
       "    .dataframe thead th {\n",
       "        text-align: right;\n",
       "    }\n",
       "</style>\n",
       "<table border=\"1\" class=\"dataframe\">\n",
       "  <thead>\n",
       "    <tr style=\"text-align: right;\">\n",
       "      <th></th>\n",
       "      <th>1</th>\n",
       "      <th>2</th>\n",
       "      <th>3</th>\n",
       "      <th>4</th>\n",
       "      <th>5</th>\n",
       "      <th>6</th>\n",
       "      <th>7</th>\n",
       "      <th>8</th>\n",
       "      <th>9</th>\n",
       "      <th>10</th>\n",
       "      <th>11</th>\n",
       "      <th>12</th>\n",
       "      <th>13</th>\n",
       "      <th>14</th>\n",
       "      <th>15</th>\n",
       "      <th>16</th>\n",
       "      <th>ID</th>\n",
       "    </tr>\n",
       "  </thead>\n",
       "  <tbody>\n",
       "    <tr>\n",
       "      <th>0</th>\n",
       "      <td>8</td>\n",
       "      <td>10</td>\n",
       "      <td>12</td>\n",
       "      <td>8</td>\n",
       "      <td>9</td>\n",
       "      <td>10</td>\n",
       "      <td>6</td>\n",
       "      <td>2</td>\n",
       "      <td>5</td>\n",
       "      <td>9</td>\n",
       "      <td>5</td>\n",
       "      <td>7</td>\n",
       "      <td>8</td>\n",
       "      <td>7</td>\n",
       "      <td>2</td>\n",
       "      <td>8</td>\n",
       "      <td>0</td>\n",
       "    </tr>\n",
       "    <tr>\n",
       "      <th>1</th>\n",
       "      <td>4</td>\n",
       "      <td>2</td>\n",
       "      <td>5</td>\n",
       "      <td>3</td>\n",
       "      <td>3</td>\n",
       "      <td>8</td>\n",
       "      <td>6</td>\n",
       "      <td>6</td>\n",
       "      <td>4</td>\n",
       "      <td>6</td>\n",
       "      <td>7</td>\n",
       "      <td>8</td>\n",
       "      <td>7</td>\n",
       "      <td>6</td>\n",
       "      <td>2</td>\n",
       "      <td>6</td>\n",
       "      <td>1</td>\n",
       "    </tr>\n",
       "    <tr>\n",
       "      <th>2</th>\n",
       "      <td>2</td>\n",
       "      <td>0</td>\n",
       "      <td>3</td>\n",
       "      <td>1</td>\n",
       "      <td>1</td>\n",
       "      <td>7</td>\n",
       "      <td>8</td>\n",
       "      <td>4</td>\n",
       "      <td>0</td>\n",
       "      <td>7</td>\n",
       "      <td>8</td>\n",
       "      <td>8</td>\n",
       "      <td>7</td>\n",
       "      <td>9</td>\n",
       "      <td>0</td>\n",
       "      <td>8</td>\n",
       "      <td>2</td>\n",
       "    </tr>\n",
       "    <tr>\n",
       "      <th>3</th>\n",
       "      <td>2</td>\n",
       "      <td>3</td>\n",
       "      <td>3</td>\n",
       "      <td>2</td>\n",
       "      <td>2</td>\n",
       "      <td>7</td>\n",
       "      <td>9</td>\n",
       "      <td>5</td>\n",
       "      <td>4</td>\n",
       "      <td>7</td>\n",
       "      <td>6</td>\n",
       "      <td>7</td>\n",
       "      <td>5</td>\n",
       "      <td>9</td>\n",
       "      <td>2</td>\n",
       "      <td>7</td>\n",
       "      <td>3</td>\n",
       "    </tr>\n",
       "    <tr>\n",
       "      <th>4</th>\n",
       "      <td>5</td>\n",
       "      <td>9</td>\n",
       "      <td>8</td>\n",
       "      <td>7</td>\n",
       "      <td>5</td>\n",
       "      <td>7</td>\n",
       "      <td>9</td>\n",
       "      <td>2</td>\n",
       "      <td>4</td>\n",
       "      <td>10</td>\n",
       "      <td>5</td>\n",
       "      <td>6</td>\n",
       "      <td>5</td>\n",
       "      <td>9</td>\n",
       "      <td>1</td>\n",
       "      <td>7</td>\n",
       "      <td>4</td>\n",
       "    </tr>\n",
       "  </tbody>\n",
       "</table>\n",
       "</div>"
      ],
      "text/plain": [
       "   1   2   3  4  5   6  7  8  9  10  11  12  13  14  15  16  ID\n",
       "0  8  10  12  8  9  10  6  2  5   9   5   7   8   7   2   8   0\n",
       "1  4   2   5  3  3   8  6  6  4   6   7   8   7   6   2   6   1\n",
       "2  2   0   3  1  1   7  8  4  0   7   8   8   7   9   0   8   2\n",
       "3  2   3   3  2  2   7  9  5  4   7   6   7   5   9   2   7   3\n",
       "4  5   9   8  7  5   7  9  2  4  10   5   6   5   9   1   7   4"
      ]
     },
     "execution_count": 4,
     "metadata": {},
     "output_type": "execute_result"
    }
   ],
   "source": [
    "df.head()"
   ]
  },
  {
   "cell_type": "code",
   "execution_count": 5,
   "metadata": {},
   "outputs": [
    {
     "data": {
      "text/plain": [
       "(2467, 17)"
      ]
     },
     "execution_count": 5,
     "metadata": {},
     "output_type": "execute_result"
    }
   ],
   "source": [
    "df.shape"
   ]
  },
  {
   "cell_type": "code",
   "execution_count": 6,
   "metadata": {},
   "outputs": [],
   "source": [
    "expert = sherlock.Sherlock(sec,111) # kezzel irt script, ami az anomalianak utananezo szakembert szimulalja"
   ]
  },
  {
   "cell_type": "code",
   "execution_count": 7,
   "metadata": {},
   "outputs": [],
   "source": [
    "# 0. lepes - veletelen minta, hogy legyen elkepzelesunk az anomalia - nem anomalia aranyrol"
   ]
  },
  {
   "cell_type": "code",
   "execution_count": 8,
   "metadata": {},
   "outputs": [],
   "source": [
    "random_sample = df.sample(10, random_state=1)"
   ]
  },
  {
   "cell_type": "code",
   "execution_count": 9,
   "metadata": {},
   "outputs": [
    {
     "name": "stdout",
     "output_type": "stream",
     "text": [
      "\tNyomozás eredménye\t481\t->\tok\n",
      "\tNyomozás eredménye\t1937\t->\tok\n",
      "\tNyomozás eredménye\t280\t->\tcsalás\n",
      "\tNyomozás eredménye\t440\t->\tok\n",
      "\tNyomozás eredménye\t107\t->\tok\n",
      "\tNyomozás eredménye\t768\t->\tok\n",
      "\tNyomozás eredménye\t2209\t->\tok\n",
      "\tNyomozás eredménye\t1233\t->\tok\n",
      "\tNyomozás eredménye\t1730\t->\tok\n",
      "\tNyomozás eredménye\t2041\t->\tok\n"
     ]
    }
   ],
   "source": [
    "expert.investigate(random_sample['ID'])"
   ]
  },
  {
   "cell_type": "code",
   "execution_count": 10,
   "metadata": {},
   "outputs": [
    {
     "name": "stdout",
     "output_type": "stream",
     "text": [
      "Adathalmaz mérete   = 2467\n",
      "Ismert esetek száma = 10 \t\tmax: 111\n",
      "  Ismert csalás = 1\n",
      "  Felderítési arány = 10.0%\n"
     ]
    }
   ],
   "source": [
    "expert.stat()"
   ]
  },
  {
   "cell_type": "code",
   "execution_count": 11,
   "metadata": {},
   "outputs": [],
   "source": [
    "df = expert.add_label(df,'info')"
   ]
  },
  {
   "cell_type": "code",
   "execution_count": 12,
   "metadata": {},
   "outputs": [
    {
     "data": {
      "text/html": [
       "<div>\n",
       "<style scoped>\n",
       "    .dataframe tbody tr th:only-of-type {\n",
       "        vertical-align: middle;\n",
       "    }\n",
       "\n",
       "    .dataframe tbody tr th {\n",
       "        vertical-align: top;\n",
       "    }\n",
       "\n",
       "    .dataframe thead th {\n",
       "        text-align: right;\n",
       "    }\n",
       "</style>\n",
       "<table border=\"1\" class=\"dataframe\">\n",
       "  <thead>\n",
       "    <tr style=\"text-align: right;\">\n",
       "      <th></th>\n",
       "      <th>1</th>\n",
       "      <th>2</th>\n",
       "      <th>3</th>\n",
       "      <th>4</th>\n",
       "      <th>5</th>\n",
       "      <th>6</th>\n",
       "      <th>7</th>\n",
       "      <th>8</th>\n",
       "      <th>9</th>\n",
       "      <th>10</th>\n",
       "      <th>11</th>\n",
       "      <th>12</th>\n",
       "      <th>13</th>\n",
       "      <th>14</th>\n",
       "      <th>15</th>\n",
       "      <th>16</th>\n",
       "      <th>ID</th>\n",
       "      <th>info</th>\n",
       "    </tr>\n",
       "  </thead>\n",
       "  <tbody>\n",
       "    <tr>\n",
       "      <th>0</th>\n",
       "      <td>8</td>\n",
       "      <td>10</td>\n",
       "      <td>12</td>\n",
       "      <td>8</td>\n",
       "      <td>9</td>\n",
       "      <td>10</td>\n",
       "      <td>6</td>\n",
       "      <td>2</td>\n",
       "      <td>5</td>\n",
       "      <td>9</td>\n",
       "      <td>5</td>\n",
       "      <td>7</td>\n",
       "      <td>8</td>\n",
       "      <td>7</td>\n",
       "      <td>2</td>\n",
       "      <td>8</td>\n",
       "      <td>0</td>\n",
       "      <td>no_info</td>\n",
       "    </tr>\n",
       "    <tr>\n",
       "      <th>1</th>\n",
       "      <td>4</td>\n",
       "      <td>2</td>\n",
       "      <td>5</td>\n",
       "      <td>3</td>\n",
       "      <td>3</td>\n",
       "      <td>8</td>\n",
       "      <td>6</td>\n",
       "      <td>6</td>\n",
       "      <td>4</td>\n",
       "      <td>6</td>\n",
       "      <td>7</td>\n",
       "      <td>8</td>\n",
       "      <td>7</td>\n",
       "      <td>6</td>\n",
       "      <td>2</td>\n",
       "      <td>6</td>\n",
       "      <td>1</td>\n",
       "      <td>no_info</td>\n",
       "    </tr>\n",
       "    <tr>\n",
       "      <th>2</th>\n",
       "      <td>2</td>\n",
       "      <td>0</td>\n",
       "      <td>3</td>\n",
       "      <td>1</td>\n",
       "      <td>1</td>\n",
       "      <td>7</td>\n",
       "      <td>8</td>\n",
       "      <td>4</td>\n",
       "      <td>0</td>\n",
       "      <td>7</td>\n",
       "      <td>8</td>\n",
       "      <td>8</td>\n",
       "      <td>7</td>\n",
       "      <td>9</td>\n",
       "      <td>0</td>\n",
       "      <td>8</td>\n",
       "      <td>2</td>\n",
       "      <td>no_info</td>\n",
       "    </tr>\n",
       "    <tr>\n",
       "      <th>3</th>\n",
       "      <td>2</td>\n",
       "      <td>3</td>\n",
       "      <td>3</td>\n",
       "      <td>2</td>\n",
       "      <td>2</td>\n",
       "      <td>7</td>\n",
       "      <td>9</td>\n",
       "      <td>5</td>\n",
       "      <td>4</td>\n",
       "      <td>7</td>\n",
       "      <td>6</td>\n",
       "      <td>7</td>\n",
       "      <td>5</td>\n",
       "      <td>9</td>\n",
       "      <td>2</td>\n",
       "      <td>7</td>\n",
       "      <td>3</td>\n",
       "      <td>no_info</td>\n",
       "    </tr>\n",
       "    <tr>\n",
       "      <th>4</th>\n",
       "      <td>5</td>\n",
       "      <td>9</td>\n",
       "      <td>8</td>\n",
       "      <td>7</td>\n",
       "      <td>5</td>\n",
       "      <td>7</td>\n",
       "      <td>9</td>\n",
       "      <td>2</td>\n",
       "      <td>4</td>\n",
       "      <td>10</td>\n",
       "      <td>5</td>\n",
       "      <td>6</td>\n",
       "      <td>5</td>\n",
       "      <td>9</td>\n",
       "      <td>1</td>\n",
       "      <td>7</td>\n",
       "      <td>4</td>\n",
       "      <td>no_info</td>\n",
       "    </tr>\n",
       "    <tr>\n",
       "      <th>...</th>\n",
       "      <td>...</td>\n",
       "      <td>...</td>\n",
       "      <td>...</td>\n",
       "      <td>...</td>\n",
       "      <td>...</td>\n",
       "      <td>...</td>\n",
       "      <td>...</td>\n",
       "      <td>...</td>\n",
       "      <td>...</td>\n",
       "      <td>...</td>\n",
       "      <td>...</td>\n",
       "      <td>...</td>\n",
       "      <td>...</td>\n",
       "      <td>...</td>\n",
       "      <td>...</td>\n",
       "      <td>...</td>\n",
       "      <td>...</td>\n",
       "      <td>...</td>\n",
       "    </tr>\n",
       "    <tr>\n",
       "      <th>2462</th>\n",
       "      <td>3</td>\n",
       "      <td>7</td>\n",
       "      <td>4</td>\n",
       "      <td>5</td>\n",
       "      <td>4</td>\n",
       "      <td>8</td>\n",
       "      <td>6</td>\n",
       "      <td>5</td>\n",
       "      <td>4</td>\n",
       "      <td>7</td>\n",
       "      <td>7</td>\n",
       "      <td>8</td>\n",
       "      <td>7</td>\n",
       "      <td>5</td>\n",
       "      <td>2</td>\n",
       "      <td>7</td>\n",
       "      <td>2462</td>\n",
       "      <td>no_info</td>\n",
       "    </tr>\n",
       "    <tr>\n",
       "      <th>2463</th>\n",
       "      <td>7</td>\n",
       "      <td>7</td>\n",
       "      <td>7</td>\n",
       "      <td>5</td>\n",
       "      <td>5</td>\n",
       "      <td>6</td>\n",
       "      <td>10</td>\n",
       "      <td>4</td>\n",
       "      <td>3</td>\n",
       "      <td>8</td>\n",
       "      <td>7</td>\n",
       "      <td>7</td>\n",
       "      <td>9</td>\n",
       "      <td>13</td>\n",
       "      <td>3</td>\n",
       "      <td>4</td>\n",
       "      <td>2463</td>\n",
       "      <td>no_info</td>\n",
       "    </tr>\n",
       "    <tr>\n",
       "      <th>2464</th>\n",
       "      <td>10</td>\n",
       "      <td>10</td>\n",
       "      <td>9</td>\n",
       "      <td>8</td>\n",
       "      <td>9</td>\n",
       "      <td>5</td>\n",
       "      <td>11</td>\n",
       "      <td>4</td>\n",
       "      <td>3</td>\n",
       "      <td>8</td>\n",
       "      <td>7</td>\n",
       "      <td>7</td>\n",
       "      <td>10</td>\n",
       "      <td>12</td>\n",
       "      <td>4</td>\n",
       "      <td>5</td>\n",
       "      <td>2464</td>\n",
       "      <td>no_info</td>\n",
       "    </tr>\n",
       "    <tr>\n",
       "      <th>2465</th>\n",
       "      <td>3</td>\n",
       "      <td>5</td>\n",
       "      <td>4</td>\n",
       "      <td>4</td>\n",
       "      <td>4</td>\n",
       "      <td>8</td>\n",
       "      <td>6</td>\n",
       "      <td>6</td>\n",
       "      <td>4</td>\n",
       "      <td>7</td>\n",
       "      <td>7</td>\n",
       "      <td>8</td>\n",
       "      <td>7</td>\n",
       "      <td>5</td>\n",
       "      <td>2</td>\n",
       "      <td>7</td>\n",
       "      <td>2465</td>\n",
       "      <td>no_info</td>\n",
       "    </tr>\n",
       "    <tr>\n",
       "      <th>2466</th>\n",
       "      <td>5</td>\n",
       "      <td>6</td>\n",
       "      <td>5</td>\n",
       "      <td>4</td>\n",
       "      <td>4</td>\n",
       "      <td>3</td>\n",
       "      <td>10</td>\n",
       "      <td>2</td>\n",
       "      <td>3</td>\n",
       "      <td>10</td>\n",
       "      <td>9</td>\n",
       "      <td>8</td>\n",
       "      <td>6</td>\n",
       "      <td>11</td>\n",
       "      <td>2</td>\n",
       "      <td>6</td>\n",
       "      <td>2466</td>\n",
       "      <td>no_info</td>\n",
       "    </tr>\n",
       "  </tbody>\n",
       "</table>\n",
       "<p>2467 rows × 18 columns</p>\n",
       "</div>"
      ],
      "text/plain": [
       "       1   2   3  4  5   6   7  8  9  10  11  12  13  14  15  16    ID  \\\n",
       "0      8  10  12  8  9  10   6  2  5   9   5   7   8   7   2   8     0   \n",
       "1      4   2   5  3  3   8   6  6  4   6   7   8   7   6   2   6     1   \n",
       "2      2   0   3  1  1   7   8  4  0   7   8   8   7   9   0   8     2   \n",
       "3      2   3   3  2  2   7   9  5  4   7   6   7   5   9   2   7     3   \n",
       "4      5   9   8  7  5   7   9  2  4  10   5   6   5   9   1   7     4   \n",
       "...   ..  ..  .. .. ..  ..  .. .. ..  ..  ..  ..  ..  ..  ..  ..   ...   \n",
       "2462   3   7   4  5  4   8   6  5  4   7   7   8   7   5   2   7  2462   \n",
       "2463   7   7   7  5  5   6  10  4  3   8   7   7   9  13   3   4  2463   \n",
       "2464  10  10   9  8  9   5  11  4  3   8   7   7  10  12   4   5  2464   \n",
       "2465   3   5   4  4  4   8   6  6  4   7   7   8   7   5   2   7  2465   \n",
       "2466   5   6   5  4  4   3  10  2  3  10   9   8   6  11   2   6  2466   \n",
       "\n",
       "         info  \n",
       "0     no_info  \n",
       "1     no_info  \n",
       "2     no_info  \n",
       "3     no_info  \n",
       "4     no_info  \n",
       "...       ...  \n",
       "2462  no_info  \n",
       "2463  no_info  \n",
       "2464  no_info  \n",
       "2465  no_info  \n",
       "2466  no_info  \n",
       "\n",
       "[2467 rows x 18 columns]"
      ]
     },
     "execution_count": 12,
     "metadata": {},
     "output_type": "execute_result"
    }
   ],
   "source": [
    "df"
   ]
  },
  {
   "cell_type": "code",
   "execution_count": 13,
   "metadata": {},
   "outputs": [
    {
     "data": {
      "text/plain": [
       "no_info    2457\n",
       "ok            9\n",
       "csalás        1\n",
       "Name: info, dtype: int64"
      ]
     },
     "execution_count": 13,
     "metadata": {},
     "output_type": "execute_result"
    }
   ],
   "source": [
    "df['info'].value_counts()"
   ]
  },
  {
   "cell_type": "code",
   "execution_count": 14,
   "metadata": {},
   "outputs": [],
   "source": [
    "# 1. ISO FOREST"
   ]
  },
  {
   "cell_type": "code",
   "execution_count": 15,
   "metadata": {},
   "outputs": [],
   "source": [
    "model = IsolationForest(random_state = 1)"
   ]
  },
  {
   "cell_type": "code",
   "execution_count": 16,
   "metadata": {},
   "outputs": [],
   "source": [
    "X_cols = [str(col) for col in range(1, 17)]"
   ]
  },
  {
   "cell_type": "code",
   "execution_count": 17,
   "metadata": {},
   "outputs": [],
   "source": [
    "X = df.loc[:, X_cols]"
   ]
  },
  {
   "cell_type": "code",
   "execution_count": 18,
   "metadata": {},
   "outputs": [
    {
     "data": {
      "text/html": [
       "<div>\n",
       "<style scoped>\n",
       "    .dataframe tbody tr th:only-of-type {\n",
       "        vertical-align: middle;\n",
       "    }\n",
       "\n",
       "    .dataframe tbody tr th {\n",
       "        vertical-align: top;\n",
       "    }\n",
       "\n",
       "    .dataframe thead th {\n",
       "        text-align: right;\n",
       "    }\n",
       "</style>\n",
       "<table border=\"1\" class=\"dataframe\">\n",
       "  <thead>\n",
       "    <tr style=\"text-align: right;\">\n",
       "      <th></th>\n",
       "      <th>1</th>\n",
       "      <th>2</th>\n",
       "      <th>3</th>\n",
       "      <th>4</th>\n",
       "      <th>5</th>\n",
       "      <th>6</th>\n",
       "      <th>7</th>\n",
       "      <th>8</th>\n",
       "      <th>9</th>\n",
       "      <th>10</th>\n",
       "      <th>11</th>\n",
       "      <th>12</th>\n",
       "      <th>13</th>\n",
       "      <th>14</th>\n",
       "      <th>15</th>\n",
       "      <th>16</th>\n",
       "    </tr>\n",
       "  </thead>\n",
       "  <tbody>\n",
       "    <tr>\n",
       "      <th>0</th>\n",
       "      <td>8</td>\n",
       "      <td>10</td>\n",
       "      <td>12</td>\n",
       "      <td>8</td>\n",
       "      <td>9</td>\n",
       "      <td>10</td>\n",
       "      <td>6</td>\n",
       "      <td>2</td>\n",
       "      <td>5</td>\n",
       "      <td>9</td>\n",
       "      <td>5</td>\n",
       "      <td>7</td>\n",
       "      <td>8</td>\n",
       "      <td>7</td>\n",
       "      <td>2</td>\n",
       "      <td>8</td>\n",
       "    </tr>\n",
       "    <tr>\n",
       "      <th>1</th>\n",
       "      <td>4</td>\n",
       "      <td>2</td>\n",
       "      <td>5</td>\n",
       "      <td>3</td>\n",
       "      <td>3</td>\n",
       "      <td>8</td>\n",
       "      <td>6</td>\n",
       "      <td>6</td>\n",
       "      <td>4</td>\n",
       "      <td>6</td>\n",
       "      <td>7</td>\n",
       "      <td>8</td>\n",
       "      <td>7</td>\n",
       "      <td>6</td>\n",
       "      <td>2</td>\n",
       "      <td>6</td>\n",
       "    </tr>\n",
       "    <tr>\n",
       "      <th>2</th>\n",
       "      <td>2</td>\n",
       "      <td>0</td>\n",
       "      <td>3</td>\n",
       "      <td>1</td>\n",
       "      <td>1</td>\n",
       "      <td>7</td>\n",
       "      <td>8</td>\n",
       "      <td>4</td>\n",
       "      <td>0</td>\n",
       "      <td>7</td>\n",
       "      <td>8</td>\n",
       "      <td>8</td>\n",
       "      <td>7</td>\n",
       "      <td>9</td>\n",
       "      <td>0</td>\n",
       "      <td>8</td>\n",
       "    </tr>\n",
       "    <tr>\n",
       "      <th>3</th>\n",
       "      <td>2</td>\n",
       "      <td>3</td>\n",
       "      <td>3</td>\n",
       "      <td>2</td>\n",
       "      <td>2</td>\n",
       "      <td>7</td>\n",
       "      <td>9</td>\n",
       "      <td>5</td>\n",
       "      <td>4</td>\n",
       "      <td>7</td>\n",
       "      <td>6</td>\n",
       "      <td>7</td>\n",
       "      <td>5</td>\n",
       "      <td>9</td>\n",
       "      <td>2</td>\n",
       "      <td>7</td>\n",
       "    </tr>\n",
       "    <tr>\n",
       "      <th>4</th>\n",
       "      <td>5</td>\n",
       "      <td>9</td>\n",
       "      <td>8</td>\n",
       "      <td>7</td>\n",
       "      <td>5</td>\n",
       "      <td>7</td>\n",
       "      <td>9</td>\n",
       "      <td>2</td>\n",
       "      <td>4</td>\n",
       "      <td>10</td>\n",
       "      <td>5</td>\n",
       "      <td>6</td>\n",
       "      <td>5</td>\n",
       "      <td>9</td>\n",
       "      <td>1</td>\n",
       "      <td>7</td>\n",
       "    </tr>\n",
       "  </tbody>\n",
       "</table>\n",
       "</div>"
      ],
      "text/plain": [
       "   1   2   3  4  5   6  7  8  9  10  11  12  13  14  15  16\n",
       "0  8  10  12  8  9  10  6  2  5   9   5   7   8   7   2   8\n",
       "1  4   2   5  3  3   8  6  6  4   6   7   8   7   6   2   6\n",
       "2  2   0   3  1  1   7  8  4  0   7   8   8   7   9   0   8\n",
       "3  2   3   3  2  2   7  9  5  4   7   6   7   5   9   2   7\n",
       "4  5   9   8  7  5   7  9  2  4  10   5   6   5   9   1   7"
      ]
     },
     "execution_count": 18,
     "metadata": {},
     "output_type": "execute_result"
    }
   ],
   "source": [
    "X.head()"
   ]
  },
  {
   "cell_type": "code",
   "execution_count": 19,
   "metadata": {},
   "outputs": [],
   "source": [
    "scaler = StandardScaler()"
   ]
  },
  {
   "cell_type": "code",
   "execution_count": 20,
   "metadata": {},
   "outputs": [],
   "source": [
    "X_scaled = scaler.fit_transform(X)"
   ]
  },
  {
   "cell_type": "code",
   "execution_count": 21,
   "metadata": {},
   "outputs": [],
   "source": [
    "scaled_df = pd.DataFrame(X_scaled, index=df.index, columns=[col + '_scaled' for col in X_cols])"
   ]
  },
  {
   "cell_type": "code",
   "execution_count": 22,
   "metadata": {},
   "outputs": [],
   "source": [
    "df = pd.concat([df, scaled_df], axis=1)"
   ]
  },
  {
   "cell_type": "code",
   "execution_count": 23,
   "metadata": {},
   "outputs": [
    {
     "data": {
      "text/html": [
       "<div>\n",
       "<style scoped>\n",
       "    .dataframe tbody tr th:only-of-type {\n",
       "        vertical-align: middle;\n",
       "    }\n",
       "\n",
       "    .dataframe tbody tr th {\n",
       "        vertical-align: top;\n",
       "    }\n",
       "\n",
       "    .dataframe thead th {\n",
       "        text-align: right;\n",
       "    }\n",
       "</style>\n",
       "<table border=\"1\" class=\"dataframe\">\n",
       "  <thead>\n",
       "    <tr style=\"text-align: right;\">\n",
       "      <th></th>\n",
       "      <th>1</th>\n",
       "      <th>2</th>\n",
       "      <th>3</th>\n",
       "      <th>4</th>\n",
       "      <th>5</th>\n",
       "      <th>6</th>\n",
       "      <th>7</th>\n",
       "      <th>8</th>\n",
       "      <th>9</th>\n",
       "      <th>10</th>\n",
       "      <th>...</th>\n",
       "      <th>7_scaled</th>\n",
       "      <th>8_scaled</th>\n",
       "      <th>9_scaled</th>\n",
       "      <th>10_scaled</th>\n",
       "      <th>11_scaled</th>\n",
       "      <th>12_scaled</th>\n",
       "      <th>13_scaled</th>\n",
       "      <th>14_scaled</th>\n",
       "      <th>15_scaled</th>\n",
       "      <th>16_scaled</th>\n",
       "    </tr>\n",
       "  </thead>\n",
       "  <tbody>\n",
       "    <tr>\n",
       "      <th>0</th>\n",
       "      <td>8</td>\n",
       "      <td>10</td>\n",
       "      <td>12</td>\n",
       "      <td>8</td>\n",
       "      <td>9</td>\n",
       "      <td>10</td>\n",
       "      <td>6</td>\n",
       "      <td>2</td>\n",
       "      <td>5</td>\n",
       "      <td>9</td>\n",
       "      <td>...</td>\n",
       "      <td>-0.966892</td>\n",
       "      <td>-0.961443</td>\n",
       "      <td>1.019124</td>\n",
       "      <td>0.743981</td>\n",
       "      <td>-0.919737</td>\n",
       "      <td>-0.575949</td>\n",
       "      <td>0.541410</td>\n",
       "      <td>-0.587294</td>\n",
       "      <td>0.073593</td>\n",
       "      <td>0.568823</td>\n",
       "    </tr>\n",
       "    <tr>\n",
       "      <th>1</th>\n",
       "      <td>4</td>\n",
       "      <td>2</td>\n",
       "      <td>5</td>\n",
       "      <td>3</td>\n",
       "      <td>3</td>\n",
       "      <td>8</td>\n",
       "      <td>6</td>\n",
       "      <td>6</td>\n",
       "      <td>4</td>\n",
       "      <td>6</td>\n",
       "      <td>...</td>\n",
       "      <td>-0.966892</td>\n",
       "      <td>0.184116</td>\n",
       "      <td>0.444060</td>\n",
       "      <td>-0.749024</td>\n",
       "      <td>0.012853</td>\n",
       "      <td>0.162547</td>\n",
       "      <td>0.090022</td>\n",
       "      <td>-1.046228</td>\n",
       "      <td>0.073593</td>\n",
       "      <td>-0.954831</td>\n",
       "    </tr>\n",
       "    <tr>\n",
       "      <th>2</th>\n",
       "      <td>2</td>\n",
       "      <td>0</td>\n",
       "      <td>3</td>\n",
       "      <td>1</td>\n",
       "      <td>1</td>\n",
       "      <td>7</td>\n",
       "      <td>8</td>\n",
       "      <td>4</td>\n",
       "      <td>0</td>\n",
       "      <td>7</td>\n",
       "      <td>...</td>\n",
       "      <td>0.107820</td>\n",
       "      <td>-0.388663</td>\n",
       "      <td>-1.856195</td>\n",
       "      <td>-0.251356</td>\n",
       "      <td>0.479148</td>\n",
       "      <td>0.162547</td>\n",
       "      <td>0.090022</td>\n",
       "      <td>0.330574</td>\n",
       "      <td>-0.921228</td>\n",
       "      <td>0.568823</td>\n",
       "    </tr>\n",
       "    <tr>\n",
       "      <th>3</th>\n",
       "      <td>2</td>\n",
       "      <td>3</td>\n",
       "      <td>3</td>\n",
       "      <td>2</td>\n",
       "      <td>2</td>\n",
       "      <td>7</td>\n",
       "      <td>9</td>\n",
       "      <td>5</td>\n",
       "      <td>4</td>\n",
       "      <td>7</td>\n",
       "      <td>...</td>\n",
       "      <td>0.645176</td>\n",
       "      <td>-0.102274</td>\n",
       "      <td>0.444060</td>\n",
       "      <td>-0.251356</td>\n",
       "      <td>-0.453442</td>\n",
       "      <td>-0.575949</td>\n",
       "      <td>-0.812756</td>\n",
       "      <td>0.330574</td>\n",
       "      <td>0.073593</td>\n",
       "      <td>-0.193004</td>\n",
       "    </tr>\n",
       "    <tr>\n",
       "      <th>4</th>\n",
       "      <td>5</td>\n",
       "      <td>9</td>\n",
       "      <td>8</td>\n",
       "      <td>7</td>\n",
       "      <td>5</td>\n",
       "      <td>7</td>\n",
       "      <td>9</td>\n",
       "      <td>2</td>\n",
       "      <td>4</td>\n",
       "      <td>10</td>\n",
       "      <td>...</td>\n",
       "      <td>0.645176</td>\n",
       "      <td>-0.961443</td>\n",
       "      <td>0.444060</td>\n",
       "      <td>1.241649</td>\n",
       "      <td>-0.919737</td>\n",
       "      <td>-1.314445</td>\n",
       "      <td>-0.812756</td>\n",
       "      <td>0.330574</td>\n",
       "      <td>-0.423817</td>\n",
       "      <td>-0.193004</td>\n",
       "    </tr>\n",
       "  </tbody>\n",
       "</table>\n",
       "<p>5 rows × 34 columns</p>\n",
       "</div>"
      ],
      "text/plain": [
       "   1   2   3  4  5   6  7  8  9  10  ...  7_scaled  8_scaled  9_scaled  \\\n",
       "0  8  10  12  8  9  10  6  2  5   9  ... -0.966892 -0.961443  1.019124   \n",
       "1  4   2   5  3  3   8  6  6  4   6  ... -0.966892  0.184116  0.444060   \n",
       "2  2   0   3  1  1   7  8  4  0   7  ...  0.107820 -0.388663 -1.856195   \n",
       "3  2   3   3  2  2   7  9  5  4   7  ...  0.645176 -0.102274  0.444060   \n",
       "4  5   9   8  7  5   7  9  2  4  10  ...  0.645176 -0.961443  0.444060   \n",
       "\n",
       "   10_scaled  11_scaled  12_scaled  13_scaled 14_scaled  15_scaled  16_scaled  \n",
       "0   0.743981  -0.919737  -0.575949   0.541410 -0.587294   0.073593   0.568823  \n",
       "1  -0.749024   0.012853   0.162547   0.090022 -1.046228   0.073593  -0.954831  \n",
       "2  -0.251356   0.479148   0.162547   0.090022  0.330574  -0.921228   0.568823  \n",
       "3  -0.251356  -0.453442  -0.575949  -0.812756  0.330574   0.073593  -0.193004  \n",
       "4   1.241649  -0.919737  -1.314445  -0.812756  0.330574  -0.423817  -0.193004  \n",
       "\n",
       "[5 rows x 34 columns]"
      ]
     },
     "execution_count": 23,
     "metadata": {},
     "output_type": "execute_result"
    }
   ],
   "source": [
    "df.head()"
   ]
  },
  {
   "cell_type": "code",
   "execution_count": 24,
   "metadata": {},
   "outputs": [],
   "source": [
    "X_cols = [col + '_scaled' for col in X_cols]"
   ]
  },
  {
   "cell_type": "code",
   "execution_count": 25,
   "metadata": {},
   "outputs": [],
   "source": [
    "X = df.loc[:, X_cols]"
   ]
  },
  {
   "cell_type": "code",
   "execution_count": 26,
   "metadata": {},
   "outputs": [
    {
     "data": {
      "text/html": [
       "<div>\n",
       "<style scoped>\n",
       "    .dataframe tbody tr th:only-of-type {\n",
       "        vertical-align: middle;\n",
       "    }\n",
       "\n",
       "    .dataframe tbody tr th {\n",
       "        vertical-align: top;\n",
       "    }\n",
       "\n",
       "    .dataframe thead th {\n",
       "        text-align: right;\n",
       "    }\n",
       "</style>\n",
       "<table border=\"1\" class=\"dataframe\">\n",
       "  <thead>\n",
       "    <tr style=\"text-align: right;\">\n",
       "      <th></th>\n",
       "      <th>1_scaled</th>\n",
       "      <th>2_scaled</th>\n",
       "      <th>3_scaled</th>\n",
       "      <th>4_scaled</th>\n",
       "      <th>5_scaled</th>\n",
       "      <th>6_scaled</th>\n",
       "      <th>7_scaled</th>\n",
       "      <th>8_scaled</th>\n",
       "      <th>9_scaled</th>\n",
       "      <th>10_scaled</th>\n",
       "      <th>11_scaled</th>\n",
       "      <th>12_scaled</th>\n",
       "      <th>13_scaled</th>\n",
       "      <th>14_scaled</th>\n",
       "      <th>15_scaled</th>\n",
       "      <th>16_scaled</th>\n",
       "    </tr>\n",
       "  </thead>\n",
       "  <tbody>\n",
       "    <tr>\n",
       "      <th>0</th>\n",
       "      <td>1.512175</td>\n",
       "      <td>0.859290</td>\n",
       "      <td>2.498127</td>\n",
       "      <td>1.248786</td>\n",
       "      <td>1.780931</td>\n",
       "      <td>1.559530</td>\n",
       "      <td>-0.966892</td>\n",
       "      <td>-0.961443</td>\n",
       "      <td>1.019124</td>\n",
       "      <td>0.743981</td>\n",
       "      <td>-0.919737</td>\n",
       "      <td>-0.575949</td>\n",
       "      <td>0.541410</td>\n",
       "      <td>-0.587294</td>\n",
       "      <td>0.073593</td>\n",
       "      <td>0.568823</td>\n",
       "    </tr>\n",
       "    <tr>\n",
       "      <th>1</th>\n",
       "      <td>-0.380537</td>\n",
       "      <td>-1.509278</td>\n",
       "      <td>-0.533081</td>\n",
       "      <td>-1.075259</td>\n",
       "      <td>-0.585437</td>\n",
       "      <td>0.549592</td>\n",
       "      <td>-0.966892</td>\n",
       "      <td>0.184116</td>\n",
       "      <td>0.444060</td>\n",
       "      <td>-0.749024</td>\n",
       "      <td>0.012853</td>\n",
       "      <td>0.162547</td>\n",
       "      <td>0.090022</td>\n",
       "      <td>-1.046228</td>\n",
       "      <td>0.073593</td>\n",
       "      <td>-0.954831</td>\n",
       "    </tr>\n",
       "    <tr>\n",
       "      <th>2</th>\n",
       "      <td>-1.326893</td>\n",
       "      <td>-2.101420</td>\n",
       "      <td>-1.399140</td>\n",
       "      <td>-2.004877</td>\n",
       "      <td>-1.374226</td>\n",
       "      <td>0.044622</td>\n",
       "      <td>0.107820</td>\n",
       "      <td>-0.388663</td>\n",
       "      <td>-1.856195</td>\n",
       "      <td>-0.251356</td>\n",
       "      <td>0.479148</td>\n",
       "      <td>0.162547</td>\n",
       "      <td>0.090022</td>\n",
       "      <td>0.330574</td>\n",
       "      <td>-0.921228</td>\n",
       "      <td>0.568823</td>\n",
       "    </tr>\n",
       "    <tr>\n",
       "      <th>3</th>\n",
       "      <td>-1.326893</td>\n",
       "      <td>-1.213207</td>\n",
       "      <td>-1.399140</td>\n",
       "      <td>-1.540068</td>\n",
       "      <td>-0.979832</td>\n",
       "      <td>0.044622</td>\n",
       "      <td>0.645176</td>\n",
       "      <td>-0.102274</td>\n",
       "      <td>0.444060</td>\n",
       "      <td>-0.251356</td>\n",
       "      <td>-0.453442</td>\n",
       "      <td>-0.575949</td>\n",
       "      <td>-0.812756</td>\n",
       "      <td>0.330574</td>\n",
       "      <td>0.073593</td>\n",
       "      <td>-0.193004</td>\n",
       "    </tr>\n",
       "    <tr>\n",
       "      <th>4</th>\n",
       "      <td>0.092641</td>\n",
       "      <td>0.563219</td>\n",
       "      <td>0.766008</td>\n",
       "      <td>0.783977</td>\n",
       "      <td>0.203352</td>\n",
       "      <td>0.044622</td>\n",
       "      <td>0.645176</td>\n",
       "      <td>-0.961443</td>\n",
       "      <td>0.444060</td>\n",
       "      <td>1.241649</td>\n",
       "      <td>-0.919737</td>\n",
       "      <td>-1.314445</td>\n",
       "      <td>-0.812756</td>\n",
       "      <td>0.330574</td>\n",
       "      <td>-0.423817</td>\n",
       "      <td>-0.193004</td>\n",
       "    </tr>\n",
       "  </tbody>\n",
       "</table>\n",
       "</div>"
      ],
      "text/plain": [
       "   1_scaled  2_scaled  3_scaled  4_scaled  5_scaled  6_scaled  7_scaled  \\\n",
       "0  1.512175  0.859290  2.498127  1.248786  1.780931  1.559530 -0.966892   \n",
       "1 -0.380537 -1.509278 -0.533081 -1.075259 -0.585437  0.549592 -0.966892   \n",
       "2 -1.326893 -2.101420 -1.399140 -2.004877 -1.374226  0.044622  0.107820   \n",
       "3 -1.326893 -1.213207 -1.399140 -1.540068 -0.979832  0.044622  0.645176   \n",
       "4  0.092641  0.563219  0.766008  0.783977  0.203352  0.044622  0.645176   \n",
       "\n",
       "   8_scaled  9_scaled  10_scaled  11_scaled  12_scaled  13_scaled  14_scaled  \\\n",
       "0 -0.961443  1.019124   0.743981  -0.919737  -0.575949   0.541410  -0.587294   \n",
       "1  0.184116  0.444060  -0.749024   0.012853   0.162547   0.090022  -1.046228   \n",
       "2 -0.388663 -1.856195  -0.251356   0.479148   0.162547   0.090022   0.330574   \n",
       "3 -0.102274  0.444060  -0.251356  -0.453442  -0.575949  -0.812756   0.330574   \n",
       "4 -0.961443  0.444060   1.241649  -0.919737  -1.314445  -0.812756   0.330574   \n",
       "\n",
       "   15_scaled  16_scaled  \n",
       "0   0.073593   0.568823  \n",
       "1   0.073593  -0.954831  \n",
       "2  -0.921228   0.568823  \n",
       "3   0.073593  -0.193004  \n",
       "4  -0.423817  -0.193004  "
      ]
     },
     "execution_count": 26,
     "metadata": {},
     "output_type": "execute_result"
    }
   ],
   "source": [
    "X.head()"
   ]
  },
  {
   "cell_type": "code",
   "execution_count": null,
   "metadata": {},
   "outputs": [],
   "source": []
  },
  {
   "cell_type": "code",
   "execution_count": 27,
   "metadata": {
    "scrolled": true
   },
   "outputs": [
    {
     "data": {
      "text/plain": [
       "IsolationForest(random_state=1)"
      ]
     },
     "execution_count": 27,
     "metadata": {},
     "output_type": "execute_result"
    }
   ],
   "source": [
    "model.fit(X)"
   ]
  },
  {
   "cell_type": "code",
   "execution_count": 28,
   "metadata": {},
   "outputs": [
    {
     "name": "stderr",
     "output_type": "stream",
     "text": [
      "/opt/conda/lib/python3.9/site-packages/sklearn/base.py:441: UserWarning: X does not have valid feature names, but IsolationForest was fitted with feature names\n",
      "  warnings.warn(\n"
     ]
    }
   ],
   "source": [
    "df['pred_iso'] = model.predict(X)"
   ]
  },
  {
   "cell_type": "code",
   "execution_count": 29,
   "metadata": {},
   "outputs": [
    {
     "data": {
      "text/plain": [
       " 1    2203\n",
       "-1     264\n",
       "Name: pred_iso, dtype: int64"
      ]
     },
     "execution_count": 29,
     "metadata": {},
     "output_type": "execute_result"
    }
   ],
   "source": [
    "df['pred_iso'].value_counts()"
   ]
  },
  {
   "cell_type": "code",
   "execution_count": 30,
   "metadata": {},
   "outputs": [],
   "source": [
    "df['pred_iso_score'] = model.decision_function(X)"
   ]
  },
  {
   "cell_type": "code",
   "execution_count": 31,
   "metadata": {},
   "outputs": [
    {
     "data": {
      "text/plain": [
       "<AxesSubplot:>"
      ]
     },
     "execution_count": 31,
     "metadata": {},
     "output_type": "execute_result"
    },
    {
     "data": {
      "image/png": "[encoded data removed]",
      "text/plain": [
       "<Figure size 432x288 with 1 Axes>"
      ]
     },
     "metadata": {
      "needs_background": "light"
     },
     "output_type": "display_data"
    }
   ],
   "source": [
    "df['pred_iso_score'].hist()"
   ]
  },
  {
   "cell_type": "code",
   "execution_count": 32,
   "metadata": {},
   "outputs": [
    {
     "data": {
      "text/plain": [
       "<AxesSubplot:>"
      ]
     },
     "execution_count": 32,
     "metadata": {},
     "output_type": "execute_result"
    },
    {
     "data": {
      "image/png": "[encoded data removed]",
      "text/plain": [
       "<Figure size 432x288 with 1 Axes>"
      ]
     },
     "metadata": {
      "needs_background": "light"
     },
     "output_type": "display_data"
    }
   ],
   "source": [
    "df.loc[df['pred_iso']==1, 'pred_iso_score'].hist()\n",
    "df.loc[df['pred_iso']==-1, 'pred_iso_score'].hist()"
   ]
  },
  {
   "cell_type": "code",
   "execution_count": 33,
   "metadata": {},
   "outputs": [],
   "source": [
    "iso_to_check = df.sort_values('pred_iso_score').head(10)"
   ]
  },
  {
   "cell_type": "code",
   "execution_count": 34,
   "metadata": {},
   "outputs": [
    {
     "name": "stdout",
     "output_type": "stream",
     "text": [
      "\tNyomozás eredménye\t1106\t->\tcsalás\n",
      "\tNyomozás eredménye\t2460\t->\tcsalás\n",
      "\tNyomozás eredménye\t2144\t->\tcsalás\n",
      "\tNyomozás eredménye\t2279\t->\tok\n",
      "\tNyomozás eredménye\t950\t->\tok\n",
      "\tNyomozás eredménye\t2033\t->\tcsalás\n",
      "\tNyomozás eredménye\t908\t->\tcsalás\n",
      "\tNyomozás eredménye\t1455\t->\tcsalás\n",
      "\tNyomozás eredménye\t2129\t->\tcsalás\n",
      "\tNyomozás eredménye\t1854\t->\tok\n"
     ]
    }
   ],
   "source": [
    "expert.investigate(iso_to_check['ID'])"
   ]
  },
  {
   "cell_type": "code",
   "execution_count": 35,
   "metadata": {},
   "outputs": [
    {
     "name": "stdout",
     "output_type": "stream",
     "text": [
      "Adathalmaz mérete   = 2467\n",
      "Ismert esetek száma = 20 \t\tmax: 111\n",
      "  Ismert csalás = 8\n",
      "  Felderítési arány = 40.0%\n"
     ]
    }
   ],
   "source": [
    "expert.stat()"
   ]
  },
  {
   "cell_type": "code",
   "execution_count": 36,
   "metadata": {},
   "outputs": [],
   "source": [
    "df = expert.add_label(df, 'info')"
   ]
  },
  {
   "cell_type": "code",
   "execution_count": 37,
   "metadata": {},
   "outputs": [
    {
     "data": {
      "text/plain": [
       "no_info    2447\n",
       "ok           12\n",
       "csalás        8\n",
       "Name: info, dtype: int64"
      ]
     },
     "execution_count": 37,
     "metadata": {},
     "output_type": "execute_result"
    }
   ],
   "source": [
    "df['info'].value_counts()"
   ]
  },
  {
   "cell_type": "code",
   "execution_count": 38,
   "metadata": {},
   "outputs": [],
   "source": [
    "# 2/a klaszterezes - kmeans"
   ]
  },
  {
   "cell_type": "code",
   "execution_count": 39,
   "metadata": {},
   "outputs": [
    {
     "name": "stderr",
     "output_type": "stream",
     "text": [
      "100%|██████████| 14/14 [00:09<00:00,  1.55it/s]\n"
     ]
    }
   ],
   "source": [
    "sse_list = []\n",
    "for i in tqdm.tqdm(range(1, 15)):\n",
    "    kmeans = KMeans(n_clusters=i, random_state=1)\n",
    "    kmeans.fit(X)\n",
    "    sse_list.append(kmeans.inertia_)"
   ]
  },
  {
   "cell_type": "code",
   "execution_count": 40,
   "metadata": {},
   "outputs": [
    {
     "data": {
      "text/plain": [
       "[<matplotlib.lines.Line2D at 0x7f971461c190>]"
      ]
     },
     "execution_count": 40,
     "metadata": {},
     "output_type": "execute_result"
    },
    {
     "data": {
      "image/png": "[encoded data removed]",
      "text/plain": [
       "<Figure size 432x288 with 1 Axes>"
      ]
     },
     "metadata": {
      "needs_background": "light"
     },
     "output_type": "display_data"
    }
   ],
   "source": [
    "plt.plot(sse_list, marker='o')"
   ]
  },
  {
   "cell_type": "code",
   "execution_count": 41,
   "metadata": {},
   "outputs": [],
   "source": [
    "kmeans = KMeans(n_clusters=6, random_state=1)"
   ]
  },
  {
   "cell_type": "code",
   "execution_count": 42,
   "metadata": {},
   "outputs": [],
   "source": [
    "df['cluster_kmeans'] = kmeans.fit_predict(X)"
   ]
  },
  {
   "cell_type": "code",
   "execution_count": 43,
   "metadata": {},
   "outputs": [
    {
     "data": {
      "text/plain": [
       "1    563\n",
       "0    479\n",
       "2    470\n",
       "3    411\n",
       "4    302\n",
       "5    242\n",
       "Name: cluster_kmeans, dtype: int64"
      ]
     },
     "execution_count": 43,
     "metadata": {},
     "output_type": "execute_result"
    }
   ],
   "source": [
    "df['cluster_kmeans'].value_counts()"
   ]
  },
  {
   "cell_type": "code",
   "execution_count": 44,
   "metadata": {},
   "outputs": [
    {
     "data": {
      "text/html": [
       "<div>\n",
       "<style scoped>\n",
       "    .dataframe tbody tr th:only-of-type {\n",
       "        vertical-align: middle;\n",
       "    }\n",
       "\n",
       "    .dataframe tbody tr th {\n",
       "        vertical-align: top;\n",
       "    }\n",
       "\n",
       "    .dataframe thead th {\n",
       "        text-align: right;\n",
       "    }\n",
       "</style>\n",
       "<table border=\"1\" class=\"dataframe\">\n",
       "  <thead>\n",
       "    <tr style=\"text-align: right;\">\n",
       "      <th></th>\n",
       "      <th>cluster_kmeans</th>\n",
       "      <th>info</th>\n",
       "      <th>0</th>\n",
       "    </tr>\n",
       "  </thead>\n",
       "  <tbody>\n",
       "    <tr>\n",
       "      <th>0</th>\n",
       "      <td>0</td>\n",
       "      <td>no_info</td>\n",
       "      <td>479</td>\n",
       "    </tr>\n",
       "    <tr>\n",
       "      <th>1</th>\n",
       "      <td>1</td>\n",
       "      <td>csalás</td>\n",
       "      <td>6</td>\n",
       "    </tr>\n",
       "    <tr>\n",
       "      <th>2</th>\n",
       "      <td>1</td>\n",
       "      <td>no_info</td>\n",
       "      <td>555</td>\n",
       "    </tr>\n",
       "    <tr>\n",
       "      <th>3</th>\n",
       "      <td>1</td>\n",
       "      <td>ok</td>\n",
       "      <td>2</td>\n",
       "    </tr>\n",
       "    <tr>\n",
       "      <th>4</th>\n",
       "      <td>2</td>\n",
       "      <td>no_info</td>\n",
       "      <td>468</td>\n",
       "    </tr>\n",
       "    <tr>\n",
       "      <th>5</th>\n",
       "      <td>2</td>\n",
       "      <td>ok</td>\n",
       "      <td>2</td>\n",
       "    </tr>\n",
       "    <tr>\n",
       "      <th>6</th>\n",
       "      <td>3</td>\n",
       "      <td>csalás</td>\n",
       "      <td>1</td>\n",
       "    </tr>\n",
       "    <tr>\n",
       "      <th>7</th>\n",
       "      <td>3</td>\n",
       "      <td>no_info</td>\n",
       "      <td>407</td>\n",
       "    </tr>\n",
       "    <tr>\n",
       "      <th>8</th>\n",
       "      <td>3</td>\n",
       "      <td>ok</td>\n",
       "      <td>3</td>\n",
       "    </tr>\n",
       "    <tr>\n",
       "      <th>9</th>\n",
       "      <td>4</td>\n",
       "      <td>csalás</td>\n",
       "      <td>1</td>\n",
       "    </tr>\n",
       "    <tr>\n",
       "      <th>10</th>\n",
       "      <td>4</td>\n",
       "      <td>no_info</td>\n",
       "      <td>299</td>\n",
       "    </tr>\n",
       "    <tr>\n",
       "      <th>11</th>\n",
       "      <td>4</td>\n",
       "      <td>ok</td>\n",
       "      <td>2</td>\n",
       "    </tr>\n",
       "    <tr>\n",
       "      <th>12</th>\n",
       "      <td>5</td>\n",
       "      <td>no_info</td>\n",
       "      <td>239</td>\n",
       "    </tr>\n",
       "    <tr>\n",
       "      <th>13</th>\n",
       "      <td>5</td>\n",
       "      <td>ok</td>\n",
       "      <td>3</td>\n",
       "    </tr>\n",
       "  </tbody>\n",
       "</table>\n",
       "</div>"
      ],
      "text/plain": [
       "    cluster_kmeans     info    0\n",
       "0                0  no_info  479\n",
       "1                1   csalás    6\n",
       "2                1  no_info  555\n",
       "3                1       ok    2\n",
       "4                2  no_info  468\n",
       "5                2       ok    2\n",
       "6                3   csalás    1\n",
       "7                3  no_info  407\n",
       "8                3       ok    3\n",
       "9                4   csalás    1\n",
       "10               4  no_info  299\n",
       "11               4       ok    2\n",
       "12               5  no_info  239\n",
       "13               5       ok    3"
      ]
     },
     "execution_count": 44,
     "metadata": {},
     "output_type": "execute_result"
    }
   ],
   "source": [
    "df.groupby(['cluster_kmeans', 'info']).size().reset_index()"
   ]
  },
  {
   "cell_type": "code",
   "execution_count": 45,
   "metadata": {},
   "outputs": [],
   "source": [
    "cluster_df = df.loc[df['cluster_kmeans']==1, :].reset_index(drop=True)"
   ]
  },
  {
   "cell_type": "code",
   "execution_count": 46,
   "metadata": {},
   "outputs": [],
   "source": [
    "X_cluster = cluster_df.loc[:, X_cols]"
   ]
  },
  {
   "cell_type": "code",
   "execution_count": 47,
   "metadata": {},
   "outputs": [],
   "source": [
    "cluster_df['sub_cluster'] = kmeans.fit_predict(X_cluster)"
   ]
  },
  {
   "cell_type": "code",
   "execution_count": 48,
   "metadata": {},
   "outputs": [
    {
     "data": {
      "text/plain": [
       "sub_cluster  info   \n",
       "0            no_info    161\n",
       "             ok           1\n",
       "1            no_info     97\n",
       "2            no_info    104\n",
       "             ok           1\n",
       "3            csalás       2\n",
       "             no_info     11\n",
       "4            csalás       4\n",
       "             no_info    101\n",
       "5            no_info     81\n",
       "dtype: int64"
      ]
     },
     "execution_count": 48,
     "metadata": {},
     "output_type": "execute_result"
    }
   ],
   "source": [
    "cluster_df.groupby(['sub_cluster', 'info']).size()"
   ]
  },
  {
   "cell_type": "code",
   "execution_count": 49,
   "metadata": {},
   "outputs": [
    {
     "data": {
      "text/plain": [
       "<AxesSubplot:xlabel='sub_cluster'>"
      ]
     },
     "execution_count": 49,
     "metadata": {},
     "output_type": "execute_result"
    },
    {
     "data": {
      "image/png": "[encoded data removed]",
      "text/plain": [
       "<Figure size 432x288 with 1 Axes>"
      ]
     },
     "metadata": {
      "needs_background": "light"
     },
     "output_type": "display_data"
    }
   ],
   "source": [
    "cluster_df.groupby(['sub_cluster', 'info']).size().unstack().plot(kind='bar')"
   ]
  },
  {
   "cell_type": "code",
   "execution_count": 50,
   "metadata": {},
   "outputs": [],
   "source": [
    "cluster_to_check = cluster_df.loc[(cluster_df['sub_cluster']==3)&\n",
    "                                  (cluster_df['info']=='no_info'), :]"
   ]
  },
  {
   "cell_type": "code",
   "execution_count": 51,
   "metadata": {},
   "outputs": [
    {
     "name": "stdout",
     "output_type": "stream",
     "text": [
      "\tNyomozás eredménye\t127\t->\tcsalás\n",
      "\tNyomozás eredménye\t208\t->\tcsalás\n",
      "\tNyomozás eredménye\t360\t->\tcsalás\n",
      "\tNyomozás eredménye\t553\t->\tcsalás\n",
      "\tNyomozás eredménye\t629\t->\tcsalás\n",
      "\tNyomozás eredménye\t828\t->\tcsalás\n",
      "\tNyomozás eredménye\t1049\t->\tcsalás\n",
      "\tNyomozás eredménye\t1069\t->\tcsalás\n",
      "\tNyomozás eredménye\t1386\t->\tcsalás\n",
      "\tNyomozás eredménye\t1512\t->\tcsalás\n",
      "\tNyomozás eredménye\t2399\t->\tcsalás\n"
     ]
    }
   ],
   "source": [
    "expert.investigate(cluster_to_check['ID'])"
   ]
  },
  {
   "cell_type": "code",
   "execution_count": 52,
   "metadata": {},
   "outputs": [],
   "source": [
    "df = expert.add_label(df, 'info')"
   ]
  },
  {
   "cell_type": "code",
   "execution_count": 53,
   "metadata": {},
   "outputs": [
    {
     "data": {
      "text/plain": [
       "no_info    2436\n",
       "csalás       19\n",
       "ok           12\n",
       "Name: info, dtype: int64"
      ]
     },
     "execution_count": 53,
     "metadata": {},
     "output_type": "execute_result"
    }
   ],
   "source": [
    "df['info'].value_counts()"
   ]
  },
  {
   "cell_type": "code",
   "execution_count": 54,
   "metadata": {},
   "outputs": [
    {
     "name": "stdout",
     "output_type": "stream",
     "text": [
      "Adathalmaz mérete   = 2467\n",
      "Ismert esetek száma = 31 \t\tmax: 111\n",
      "  Ismert csalás = 19\n",
      "  Felderítési arány = 61.3%\n"
     ]
    }
   ],
   "source": [
    "expert.stat()"
   ]
  },
  {
   "cell_type": "code",
   "execution_count": 55,
   "metadata": {},
   "outputs": [],
   "source": [
    "# 2/b klaszterezes - dbscan + nearestneighbor"
   ]
  },
  {
   "cell_type": "code",
   "execution_count": 56,
   "metadata": {},
   "outputs": [],
   "source": [
    "model = DBSCAN(eps=0.5)\n",
    "\n",
    "model.fit(X)\n",
    "\n",
    "df['dbscan_cluster'] = model.labels_"
   ]
  },
  {
   "cell_type": "code",
   "execution_count": 57,
   "metadata": {},
   "outputs": [
    {
     "data": {
      "text/plain": [
       "-1     2252\n",
       " 6       28\n",
       " 1       22\n",
       " 3       19\n",
       " 8       19\n",
       " 5       14\n",
       " 12      14\n",
       " 4       12\n",
       " 9       11\n",
       " 11      11\n",
       " 2        8\n",
       " 13       8\n",
       " 17       8\n",
       " 18       7\n",
       " 7        6\n",
       " 0        6\n",
       " 10       6\n",
       " 15       6\n",
       " 14       5\n",
       " 16       5\n",
       "Name: dbscan_cluster, dtype: int64"
      ]
     },
     "execution_count": 57,
     "metadata": {},
     "output_type": "execute_result"
    }
   ],
   "source": [
    "df['dbscan_cluster'].value_counts()"
   ]
  },
  {
   "cell_type": "code",
   "execution_count": 58,
   "metadata": {},
   "outputs": [],
   "source": [
    "# hatarozzuk meg optimalist epszilont"
   ]
  },
  {
   "cell_type": "code",
   "execution_count": 59,
   "metadata": {},
   "outputs": [],
   "source": [
    "neigh = NearestNeighbors(n_neighbors=2)\n",
    "nbrs = neigh.fit(X)\n",
    "distances, indices = nbrs.kneighbors(X)"
   ]
  },
  {
   "cell_type": "code",
   "execution_count": 60,
   "metadata": {},
   "outputs": [
    {
     "data": {
      "text/plain": [
       "<AxesSubplot:>"
      ]
     },
     "execution_count": 60,
     "metadata": {},
     "output_type": "execute_result"
    },
    {
     "data": {
      "image/png": "[encoded data removed]",
      "text/plain": [
       "<Figure size 432x288 with 1 Axes>"
      ]
     },
     "metadata": {
      "needs_background": "light"
     },
     "output_type": "display_data"
    }
   ],
   "source": [
    "# az optimalis epszilon az az y(tavolsag) pont, ahol a gorbe meredeken elkezd emelkedni\n",
    "pd.Series(distances[:, 1]).sort_values().reset_index(drop=True).plot()"
   ]
  },
  {
   "cell_type": "code",
   "execution_count": 61,
   "metadata": {},
   "outputs": [],
   "source": [
    "df['nearest_distance']= distances[:, 1]"
   ]
  },
  {
   "cell_type": "code",
   "execution_count": 62,
   "metadata": {},
   "outputs": [],
   "source": [
    "nearest_to_check = df.loc[df['info']=='no_info', :].sort_values('nearest_distance', ascending=False)[:10]"
   ]
  },
  {
   "cell_type": "code",
   "execution_count": 63,
   "metadata": {},
   "outputs": [
    {
     "name": "stdout",
     "output_type": "stream",
     "text": [
      "\tNyomozás eredménye\t1542\t->\tcsalás\n",
      "\tNyomozás eredménye\t2131\t->\tcsalás\n",
      "\tNyomozás eredménye\t2178\t->\tcsalás\n",
      "\tNyomozás eredménye\t1578\t->\tcsalás\n",
      "\tNyomozás eredménye\t1382\t->\tcsalás\n",
      "\tNyomozás eredménye\t1047\t->\tcsalás\n",
      "\tNyomozás eredménye\t86\t->\tcsalás\n",
      "\tNyomozás eredménye\t2361\t->\tcsalás\n",
      "\tNyomozás eredménye\t92\t->\tcsalás\n",
      "\tNyomozás eredménye\t1385\t->\tcsalás\n"
     ]
    }
   ],
   "source": [
    "expert.investigate(nearest_to_check['ID'])"
   ]
  },
  {
   "cell_type": "code",
   "execution_count": 64,
   "metadata": {},
   "outputs": [
    {
     "name": "stdout",
     "output_type": "stream",
     "text": [
      "Adathalmaz mérete   = 2467\n",
      "Ismert esetek száma = 41 \t\tmax: 111\n",
      "  Ismert csalás = 29\n",
      "  Felderítési arány = 70.7%\n"
     ]
    }
   ],
   "source": [
    "expert.stat()"
   ]
  },
  {
   "cell_type": "code",
   "execution_count": 65,
   "metadata": {},
   "outputs": [],
   "source": [
    "df = expert.add_label(df, 'info')"
   ]
  },
  {
   "cell_type": "code",
   "execution_count": 66,
   "metadata": {},
   "outputs": [
    {
     "data": {
      "text/plain": [
       "<AxesSubplot:>"
      ]
     },
     "execution_count": 66,
     "metadata": {},
     "output_type": "execute_result"
    },
    {
     "data": {
      "image/png": "[encoded data removed]",
      "text/plain": [
       "<Figure size 432x288 with 1 Axes>"
      ]
     },
     "metadata": {
      "needs_background": "light"
     },
     "output_type": "display_data"
    }
   ],
   "source": [
    "df['nearest_distance'].sort_values().reset_index(drop=True).plot()"
   ]
  },
  {
   "cell_type": "code",
   "execution_count": null,
   "metadata": {},
   "outputs": [],
   "source": []
  },
  {
   "cell_type": "code",
   "execution_count": 67,
   "metadata": {},
   "outputs": [],
   "source": [
    "model = DBSCAN(eps=3)\n",
    "\n",
    "model.fit(X)\n",
    "\n",
    "df['cluster_dbscan'] = model.labels_"
   ]
  },
  {
   "cell_type": "code",
   "execution_count": 68,
   "metadata": {},
   "outputs": [
    {
     "data": {
      "text/plain": [
       " 0    2418\n",
       "-1      44\n",
       " 1       5\n",
       "Name: cluster_dbscan, dtype: int64"
      ]
     },
     "execution_count": 68,
     "metadata": {},
     "output_type": "execute_result"
    }
   ],
   "source": [
    "df['cluster_dbscan'].value_counts()"
   ]
  },
  {
   "cell_type": "code",
   "execution_count": 69,
   "metadata": {},
   "outputs": [],
   "source": [
    "dbscan_to_check = df.loc[(df['cluster_dbscan']!=0)&(df['info']=='no_info'), :].head(10)"
   ]
  },
  {
   "cell_type": "code",
   "execution_count": 70,
   "metadata": {},
   "outputs": [
    {
     "name": "stdout",
     "output_type": "stream",
     "text": [
      "\tNyomozás eredménye\t419\t->\tcsalás\n",
      "\tNyomozás eredménye\t592\t->\tcsalás\n",
      "\tNyomozás eredménye\t683\t->\tcsalás\n",
      "\tNyomozás eredménye\t869\t->\tcsalás\n",
      "\tNyomozás eredménye\t948\t->\tcsalás\n",
      "\tNyomozás eredménye\t997\t->\tcsalás\n",
      "\tNyomozás eredménye\t1035\t->\tcsalás\n",
      "\tNyomozás eredménye\t1217\t->\tcsalás\n",
      "\tNyomozás eredménye\t1322\t->\tcsalás\n",
      "\tNyomozás eredménye\t1337\t->\tcsalás\n"
     ]
    }
   ],
   "source": [
    "expert.investigate(dbscan_to_check['ID'])"
   ]
  },
  {
   "cell_type": "code",
   "execution_count": 71,
   "metadata": {},
   "outputs": [],
   "source": [
    "df = expert.add_label(df, 'info')"
   ]
  },
  {
   "cell_type": "code",
   "execution_count": 72,
   "metadata": {},
   "outputs": [
    {
     "data": {
      "text/plain": [
       "no_info    2416\n",
       "csalás       39\n",
       "ok           12\n",
       "Name: info, dtype: int64"
      ]
     },
     "execution_count": 72,
     "metadata": {},
     "output_type": "execute_result"
    }
   ],
   "source": [
    "df['info'].value_counts()"
   ]
  },
  {
   "cell_type": "code",
   "execution_count": 73,
   "metadata": {},
   "outputs": [
    {
     "name": "stdout",
     "output_type": "stream",
     "text": [
      "Adathalmaz mérete   = 2467\n",
      "Ismert esetek száma = 51 \t\tmax: 111\n",
      "  Ismert csalás = 39\n",
      "  Felderítési arány = 76.5%\n"
     ]
    }
   ],
   "source": [
    "expert.stat()"
   ]
  },
  {
   "cell_type": "code",
   "execution_count": 74,
   "metadata": {},
   "outputs": [],
   "source": [
    "# 3. felugyelt tanulas - logreg"
   ]
  },
  {
   "cell_type": "code",
   "execution_count": 75,
   "metadata": {},
   "outputs": [],
   "source": [
    "model = LogisticRegression()"
   ]
  },
  {
   "cell_type": "code",
   "execution_count": 76,
   "metadata": {},
   "outputs": [],
   "source": [
    "info_map = {value:i for i, value in enumerate(df['info'].unique())}"
   ]
  },
  {
   "cell_type": "code",
   "execution_count": 77,
   "metadata": {},
   "outputs": [],
   "source": [
    "df['info_num'] = df['info'].map(info_map)"
   ]
  },
  {
   "cell_type": "code",
   "execution_count": 78,
   "metadata": {},
   "outputs": [],
   "source": [
    "y_col = 'info_num'"
   ]
  },
  {
   "cell_type": "code",
   "execution_count": 79,
   "metadata": {},
   "outputs": [],
   "source": [
    "X = df.loc[:, X_cols]"
   ]
  },
  {
   "cell_type": "code",
   "execution_count": 80,
   "metadata": {},
   "outputs": [],
   "source": [
    "y = df.loc[:, y_col]"
   ]
  },
  {
   "cell_type": "code",
   "execution_count": 81,
   "metadata": {},
   "outputs": [
    {
     "data": {
      "text/plain": [
       "0    2416\n",
       "1      39\n",
       "2      12\n",
       "Name: info_num, dtype: int64"
      ]
     },
     "execution_count": 81,
     "metadata": {},
     "output_type": "execute_result"
    }
   ],
   "source": [
    "y.value_counts()"
   ]
  },
  {
   "cell_type": "code",
   "execution_count": 82,
   "metadata": {},
   "outputs": [],
   "source": [
    "pred_proba = cross_val_predict(model, X, y, cv=4, method='predict_proba')"
   ]
  },
  {
   "cell_type": "code",
   "execution_count": 83,
   "metadata": {},
   "outputs": [
    {
     "data": {
      "text/plain": [
       "array([[9.79496125e-01, 2.28701880e-05, 2.04810044e-02],\n",
       "       [9.93229782e-01, 1.25402947e-04, 6.64481516e-03],\n",
       "       [9.95256873e-01, 1.26376256e-05, 4.73048960e-03],\n",
       "       ...,\n",
       "       [9.98540512e-01, 6.54035676e-06, 1.45294796e-03],\n",
       "       [9.99272616e-01, 9.66545752e-05, 6.30728950e-04],\n",
       "       [9.97850698e-01, 1.07290196e-03, 1.07640000e-03]])"
      ]
     },
     "execution_count": 83,
     "metadata": {},
     "output_type": "execute_result"
    }
   ],
   "source": [
    "pred_proba"
   ]
  },
  {
   "cell_type": "code",
   "execution_count": 84,
   "metadata": {},
   "outputs": [],
   "source": [
    "df.loc[:, ['pred_noinfo', 'pred_cs', 'pred_ok']] = pred_proba"
   ]
  },
  {
   "cell_type": "code",
   "execution_count": 85,
   "metadata": {},
   "outputs": [
    {
     "name": "stderr",
     "output_type": "stream",
     "text": [
      "/tmp/ipykernel_35258/672262353.py:1: FutureWarning: Indexing with multiple keys (implicitly converted to a tuple of keys) will be deprecated, use a list instead.\n",
      "  df.groupby('info')['pred_cs', 'pred_noinfo', 'pred_ok'].mean()\n"
     ]
    },
    {
     "data": {
      "text/html": [
       "<div>\n",
       "<style scoped>\n",
       "    .dataframe tbody tr th:only-of-type {\n",
       "        vertical-align: middle;\n",
       "    }\n",
       "\n",
       "    .dataframe tbody tr th {\n",
       "        vertical-align: top;\n",
       "    }\n",
       "\n",
       "    .dataframe thead th {\n",
       "        text-align: right;\n",
       "    }\n",
       "</style>\n",
       "<table border=\"1\" class=\"dataframe\">\n",
       "  <thead>\n",
       "    <tr style=\"text-align: right;\">\n",
       "      <th></th>\n",
       "      <th>pred_cs</th>\n",
       "      <th>pred_noinfo</th>\n",
       "      <th>pred_ok</th>\n",
       "    </tr>\n",
       "    <tr>\n",
       "      <th>info</th>\n",
       "      <th></th>\n",
       "      <th></th>\n",
       "      <th></th>\n",
       "    </tr>\n",
       "  </thead>\n",
       "  <tbody>\n",
       "    <tr>\n",
       "      <th>csalás</th>\n",
       "      <td>0.522762</td>\n",
       "      <td>0.473851</td>\n",
       "      <td>0.003386</td>\n",
       "    </tr>\n",
       "    <tr>\n",
       "      <th>no_info</th>\n",
       "      <td>0.006718</td>\n",
       "      <td>0.988849</td>\n",
       "      <td>0.004433</td>\n",
       "    </tr>\n",
       "    <tr>\n",
       "      <th>ok</th>\n",
       "      <td>0.002136</td>\n",
       "      <td>0.973360</td>\n",
       "      <td>0.024504</td>\n",
       "    </tr>\n",
       "  </tbody>\n",
       "</table>\n",
       "</div>"
      ],
      "text/plain": [
       "          pred_cs  pred_noinfo   pred_ok\n",
       "info                                    \n",
       "csalás   0.522762     0.473851  0.003386\n",
       "no_info  0.006718     0.988849  0.004433\n",
       "ok       0.002136     0.973360  0.024504"
      ]
     },
     "execution_count": 85,
     "metadata": {},
     "output_type": "execute_result"
    }
   ],
   "source": [
    "df.groupby('info')['pred_cs', 'pred_noinfo', 'pred_ok'].mean()"
   ]
  },
  {
   "cell_type": "code",
   "execution_count": 86,
   "metadata": {},
   "outputs": [
    {
     "data": {
      "text/plain": [
       "<matplotlib.legend.Legend at 0x7f97144e1610>"
      ]
     },
     "execution_count": 86,
     "metadata": {},
     "output_type": "execute_result"
    },
    {
     "data": {
      "image/png": "[encoded data removed]",
      "text/plain": [
       "<Figure size 432x288 with 1 Axes>"
      ]
     },
     "metadata": {
      "needs_background": "light"
     },
     "output_type": "display_data"
    }
   ],
   "source": [
    "df.loc[df['info']=='csalás', 'pred_cs'].hist(bins=30, label='csalás')\n",
    "df.loc[df['info']!='csalás', 'pred_cs'].hist(bins=30, label='nem csalás', alpha=0.5)\n",
    "plt.yscale('log')\n",
    "plt.legend()"
   ]
  },
  {
   "cell_type": "code",
   "execution_count": 87,
   "metadata": {},
   "outputs": [],
   "source": [
    "logreg_to_check = df.loc[df['info']=='no_info'].sort_values('pred_cs', ascending=False).head(10)"
   ]
  },
  {
   "cell_type": "code",
   "execution_count": 88,
   "metadata": {},
   "outputs": [
    {
     "name": "stdout",
     "output_type": "stream",
     "text": [
      "\tNyomozás eredménye\t1052\t->\tcsalás\n",
      "\tNyomozás eredménye\t2098\t->\tcsalás\n",
      "\tNyomozás eredménye\t1666\t->\tcsalás\n",
      "\tNyomozás eredménye\t2438\t->\tcsalás\n",
      "\tNyomozás eredménye\t2122\t->\tcsalás\n",
      "\tNyomozás eredménye\t1592\t->\tcsalás\n",
      "\tNyomozás eredménye\t1642\t->\tcsalás\n",
      "\tNyomozás eredménye\t1885\t->\tcsalás\n",
      "\tNyomozás eredménye\t2334\t->\tcsalás\n",
      "\tNyomozás eredménye\t1151\t->\tcsalás\n"
     ]
    }
   ],
   "source": [
    "expert.investigate(logreg_to_check['ID'])"
   ]
  },
  {
   "cell_type": "code",
   "execution_count": 89,
   "metadata": {},
   "outputs": [],
   "source": [
    "df = expert.add_label(df, 'info')"
   ]
  },
  {
   "cell_type": "code",
   "execution_count": 90,
   "metadata": {},
   "outputs": [
    {
     "data": {
      "text/plain": [
       "no_info    2406\n",
       "csalás       49\n",
       "ok           12\n",
       "Name: info, dtype: int64"
      ]
     },
     "execution_count": 90,
     "metadata": {},
     "output_type": "execute_result"
    }
   ],
   "source": [
    "df['info'].value_counts()"
   ]
  },
  {
   "cell_type": "code",
   "execution_count": 91,
   "metadata": {},
   "outputs": [
    {
     "name": "stdout",
     "output_type": "stream",
     "text": [
      "Adathalmaz mérete   = 2467\n",
      "Ismert esetek száma = 61 \t\tmax: 111\n",
      "  Ismert csalás = 49\n",
      "  Felderítési arány = 80.3%\n"
     ]
    }
   ],
   "source": [
    "expert.stat()"
   ]
  },
  {
   "cell_type": "code",
   "execution_count": 92,
   "metadata": {},
   "outputs": [],
   "source": [
    "# 4. felugyelt tanulas - kombinalt"
   ]
  },
  {
   "cell_type": "code",
   "execution_count": 93,
   "metadata": {},
   "outputs": [
    {
     "data": {
      "text/plain": [
       " 1    2203\n",
       "-1     264\n",
       "Name: pred_iso, dtype: int64"
      ]
     },
     "execution_count": 93,
     "metadata": {},
     "output_type": "execute_result"
    }
   ],
   "source": [
    "df['pred_iso'].value_counts()"
   ]
  },
  {
   "cell_type": "code",
   "execution_count": 94,
   "metadata": {},
   "outputs": [
    {
     "data": {
      "text/plain": [
       " 0    2418\n",
       "-1      44\n",
       " 1       5\n",
       "Name: cluster_dbscan, dtype: int64"
      ]
     },
     "execution_count": 94,
     "metadata": {},
     "output_type": "execute_result"
    }
   ],
   "source": [
    "df['cluster_dbscan'].value_counts()"
   ]
  },
  {
   "cell_type": "code",
   "execution_count": 95,
   "metadata": {},
   "outputs": [
    {
     "data": {
      "text/plain": [
       "0.000205    4\n",
       "0.000142    3\n",
       "0.003755    3\n",
       "0.000124    3\n",
       "0.000255    3\n",
       "           ..\n",
       "0.000001    1\n",
       "0.007339    1\n",
       "0.000226    1\n",
       "0.000011    1\n",
       "0.001073    1\n",
       "Name: pred_cs, Length: 2393, dtype: int64"
      ]
     },
     "execution_count": 95,
     "metadata": {},
     "output_type": "execute_result"
    }
   ],
   "source": [
    "df['pred_cs'].value_counts()"
   ]
  },
  {
   "cell_type": "code",
   "execution_count": 96,
   "metadata": {},
   "outputs": [],
   "source": [
    "df['combined_score'] =\\\n",
    "((df['pred_iso']*-1) + (df['cluster_dbscan'].apply(lambda x: 1 if x!=0 else -1)) + (df['pred_cs'] - df['pred_ok']))"
   ]
  },
  {
   "cell_type": "code",
   "execution_count": 97,
   "metadata": {},
   "outputs": [],
   "source": [
    "combined_to_check = df.loc[df['info']=='no_info', :].sort_values('combined_score', ascending=False).head(50)"
   ]
  },
  {
   "cell_type": "code",
   "execution_count": 98,
   "metadata": {},
   "outputs": [
    {
     "name": "stdout",
     "output_type": "stream",
     "text": [
      "\tNyomozás eredménye\t2219\t->\tcsalás\n",
      "\tNyomozás eredménye\t2197\t->\tcsalás\n",
      "\tNyomozás eredménye\t1535\t->\tcsalás\n",
      "\tNyomozás eredménye\t1965\t->\tcsalás\n",
      "\tNyomozás eredménye\t2283\t->\tcsalás\n",
      "\tNyomozás eredménye\t1942\t->\tcsalás\n",
      "\tNyomozás eredménye\t1522\t->\tcsalás\n",
      "\tNyomozás eredménye\t929\t->\tcsalás\n",
      "\tNyomozás eredménye\t676\t->\tcsalás\n",
      "\tNyomozás eredménye\t1135\t->\tok\n",
      "\tNyomozás eredménye\t361\t->\tcsalás\n",
      "\tNyomozás eredménye\t244\t->\tcsalás\n",
      "\tNyomozás eredménye\t593\t->\tcsalás\n",
      "\tNyomozás eredménye\t2066\t->\tcsalás\n",
      "\tNyomozás eredménye\t733\t->\tcsalás\n",
      "\tNyomozás eredménye\t1571\t->\tcsalás\n",
      "\tNyomozás eredménye\t1189\t->\tok\n",
      "\tNyomozás eredménye\t507\t->\tcsalás\n",
      "\tNyomozás eredménye\t1452\t->\tcsalás\n",
      "\tNyomozás eredménye\t1828\t->\tok\n",
      "\tNyomozás eredménye\t2157\t->\tcsalás\n",
      "\tNyomozás eredménye\t1457\t->\tcsalás\n",
      "\tNyomozás eredménye\t1253\t->\tcsalás\n",
      "\tNyomozás eredménye\t1565\t->\tcsalás\n",
      "\tNyomozás eredménye\t760\t->\tok\n",
      "\tNyomozás eredménye\t267\t->\tcsalás\n",
      "\tNyomozás eredménye\t2153\t->\tok\n",
      "\tNyomozás eredménye\t1906\t->\tcsalás\n",
      "\tNyomozás eredménye\t1359\t->\tok\n",
      "\tNyomozás eredménye\t802\t->\tcsalás\n",
      "\tNyomozás eredménye\t2200\t->\tok\n",
      "\tNyomozás eredménye\t1379\t->\tcsalás\n",
      "\tNyomozás eredménye\t795\t->\tcsalás\n",
      "\tNyomozás eredménye\t1110\t->\tok\n",
      "\tNyomozás eredménye\t1793\t->\tcsalás\n",
      "\tNyomozás eredménye\t1954\t->\tok\n",
      "\tNyomozás eredménye\t1413\t->\tok\n",
      "\tNyomozás eredménye\t937\t->\tok\n",
      "\tNyomozás eredménye\t646\t->\tok\n",
      "\tNyomozás eredménye\t2247\t->\tcsalás\n",
      "\tNyomozás eredménye\t1701\t->\tcsalás\n",
      "\tNyomozás eredménye\t2218\t->\tcsalás\n",
      "\tNyomozás eredménye\t1053\t->\tok\n",
      "\tNyomozás eredménye\t1744\t->\tok\n",
      "\tNyomozás eredménye\t1453\t->\tcsalás\n",
      "\tNyomozás eredménye\t1919\t->\tcsalás\n",
      "\tNyomozás eredménye\t1116\t->\tok\n",
      "\tNyomozás eredménye\t1529\t->\tok\n",
      "\tNyomozás eredménye\t652\t->\tok\n",
      "\tNyomozás eredménye\t285\t->\tcsalás\n"
     ]
    }
   ],
   "source": [
    "expert.investigate(combined_to_check['ID'])"
   ]
  },
  {
   "cell_type": "code",
   "execution_count": null,
   "metadata": {},
   "outputs": [],
   "source": []
  },
  {
   "cell_type": "code",
   "execution_count": 99,
   "metadata": {},
   "outputs": [],
   "source": [
    "df = expert.add_label(df, 'info')"
   ]
  },
  {
   "cell_type": "code",
   "execution_count": 100,
   "metadata": {},
   "outputs": [
    {
     "data": {
      "text/plain": [
       "no_info    2356\n",
       "csalás       82\n",
       "ok           29\n",
       "Name: info, dtype: int64"
      ]
     },
     "execution_count": 100,
     "metadata": {},
     "output_type": "execute_result"
    }
   ],
   "source": [
    "df['info'].value_counts()"
   ]
  },
  {
   "cell_type": "code",
   "execution_count": 101,
   "metadata": {},
   "outputs": [
    {
     "name": "stdout",
     "output_type": "stream",
     "text": [
      "Adathalmaz mérete   = 2467\n",
      "Ismert esetek száma = 111 \t\tmax: 111\n",
      "  Ismert csalás = 82\n",
      "  Felderítési arány = 73.9%\n"
     ]
    }
   ],
   "source": [
    "expert.stat()"
   ]
  },
  {
   "cell_type": "code",
   "execution_count": 102,
   "metadata": {},
   "outputs": [],
   "source": [
    "# 5. mogottes adatok"
   ]
  },
  {
   "cell_type": "code",
   "execution_count": 103,
   "metadata": {},
   "outputs": [
    {
     "data": {
      "text/plain": [
       "ok          2326\n",
       "anomalia     141\n",
       "Name: info, dtype: int64"
      ]
     },
     "execution_count": 103,
     "metadata": {},
     "output_type": "execute_result"
    }
   ],
   "source": [
    "sec['info'].value_counts()"
   ]
  },
  {
   "cell_type": "code",
   "execution_count": 104,
   "metadata": {},
   "outputs": [
    {
     "data": {
      "text/plain": [
       "0.5815602836879432"
      ]
     },
     "execution_count": 104,
     "metadata": {},
     "output_type": "execute_result"
    }
   ],
   "source": [
    "df.loc[df['info']=='csalás', :].shape[0] / sec.loc[sec['info']=='anomalia', :].shape[0]"
   ]
  },
  {
   "cell_type": "code",
   "execution_count": 105,
   "metadata": {},
   "outputs": [
    {
     "data": {
      "text/plain": [
       "0.05715443858937981"
      ]
     },
     "execution_count": 105,
     "metadata": {},
     "output_type": "execute_result"
    }
   ],
   "source": [
    "sec.loc[sec['info']=='anomalia', :].shape[0] / sec.shape[0]"
   ]
  }
 ],
 "metadata": {
  "kernelspec": {
   "display_name": "Python 3 (ipykernel)",
   "language": "python",
   "name": "python3"
  },
  "language_info": {
   "codemirror_mode": {
    "name": "ipython",
    "version": 3
   },
   "file_extension": ".py",
   "mimetype": "text/x-python",
   "name": "python",
   "nbconvert_exporter": "python",
   "pygments_lexer": "ipython3",
   "version": "3.9.7"
  }
 },
 "nbformat": 4,
 "nbformat_minor": 4
}
