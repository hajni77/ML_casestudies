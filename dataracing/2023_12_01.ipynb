{
 "cells": [
  {
   "cell_type": "code",
   "execution_count": 1,
   "metadata": {},
   "outputs": [],
   "source": [
    "# read the preprocessed data\n",
    "import pandas as pd\n",
    "origdf = pd.read_csv('preprocessed_nodummy.csv')\n",
    "\n"
   ]
  },
  {
   "cell_type": "code",
   "execution_count": 4,
   "metadata": {},
   "outputs": [
    {
     "name": "stdout",
     "output_type": "stream",
     "text": [
      "Index(['CONTRACT_ID', 'BORROWER_ID', 'CONTRACT_BANK_ID',\n",
      "       'CONTRACT_CREDIT_INTERMEDIARY', 'CONTRACT_CREDIT_LOSS',\n",
      "       'CONTRACT_CURRENCY', 'CONTRACT_DATE_OF_LOAN_AGREEMENT',\n",
      "       'CONTRACT_DEPT_SERVICE_TO_INCOME', 'CONTRACT_FREQUENCY_TYPE',\n",
      "       'CONTRACT_INCOME', 'CONTRACT_INSTALMENT_AMOUNT',\n",
      "       'CONTRACT_INSTALMENT_AMOUNT_2', 'CONTRACT_INTEREST_PERIOD',\n",
      "       'CONTRACT_INTEREST_RATE', 'CONTRACT_LGD', 'CONTRACT_LOAN_AMOUNT',\n",
      "       'CONTRACT_LOAN_CONTRACT_TYPE', 'CONTRACT_LOAN_TO_VALUE_RATIO',\n",
      "       'CONTRACT_LOAN_TYPE', 'CONTRACT_MARKET_VALUE', 'CONTRACT_MATURITY_DATE',\n",
      "       'CONTRACT_MORTGAGE_LENDING_VALUE', 'CONTRACT_MORTGAGE_TYPE',\n",
      "       'CONTRACT_REFINANCED', 'CONTRACT_RISK_WEIGHTED_ASSETS',\n",
      "       'CONTRACT_TYPE_OF_INTEREST_REPAYMENT', 'BORROWER_BIRTH_YEAR',\n",
      "       'BORROWER_CITIZENSHIP', 'BORROWER_COUNTRY', 'BORROWER_COUNTY',\n",
      "       'BORROWER_TYPE_OF_CUSTOMER', 'BORROWER_TYPE_OF_SETTLEMENT',\n",
      "       'TARGET_EVENT', 'TARGET_EVENT_DAY'],\n",
      "      dtype='object')\n"
     ]
    }
   ],
   "source": [
    "subm = pd.read_csv('data_submission_example.csv')\n",
    "df = origdf.copy()\n",
    "print(df.columns)"
   ]
  },
  {
   "cell_type": "code",
   "execution_count": 8,
   "metadata": {},
   "outputs": [
    {
     "data": {
      "text/plain": [
       "364.6666666666667"
      ]
     },
     "execution_count": 8,
     "metadata": {},
     "output_type": "execute_result"
    }
   ],
   "source": [
    "df['CONTRACT_DATE_OF_LOAN_AGREEMENT'].max()\n",
    "# min = 0\n",
    "# max = 1094\n",
    "1094/3"
   ]
  },
  {
   "cell_type": "markdown",
   "metadata": {},
   "source": [
    "1504811 sor, 34 oszlop"
   ]
  },
  {
   "cell_type": "code",
   "execution_count": 21,
   "metadata": {},
   "outputs": [
    {
     "name": "stdout",
     "output_type": "stream",
     "text": [
      "CONTRACT_ID\n",
      "BORROWER_ID\n",
      "CONTRACT_BANK_ID\n",
      "CONTRACT_FREQUENCY_TYPE\n",
      "CONTRACT_LOAN_TYPE\n",
      "BORROWER_TYPE_OF_CUSTOMER\n",
      "TARGET_EVENT\n"
     ]
    }
   ],
   "source": [
    "# describe columns type, print only object columns\n",
    "for col in df.columns:\n",
    "  if df[col].dtypes == 'object':\n",
    "    print(df[col].name)\n"
   ]
  },
  {
   "cell_type": "code",
   "execution_count": 25,
   "metadata": {},
   "outputs": [
    {
     "name": "stdout",
     "output_type": "stream",
     "text": [
      "CONTRACT_CREDIT_INTERMEDIARY\n",
      "CONTRACT_CREDIT_LOSS\n",
      "CONTRACT_CURRENCY\n",
      "CONTRACT_DATE_OF_LOAN_AGREEMENT\n",
      "CONTRACT_DEPT_SERVICE_TO_INCOME\n",
      "CONTRACT_INCOME\n",
      "CONTRACT_INSTALMENT_AMOUNT\n",
      "CONTRACT_INSTALMENT_AMOUNT_2\n",
      "CONTRACT_INTEREST_PERIOD\n",
      "CONTRACT_INTEREST_RATE\n",
      "CONTRACT_LGD\n",
      "CONTRACT_LOAN_AMOUNT\n",
      "CONTRACT_LOAN_CONTRACT_TYPE\n",
      "CONTRACT_LOAN_TO_VALUE_RATIO\n",
      "CONTRACT_MARKET_VALUE\n",
      "CONTRACT_MATURITY_DATE\n",
      "CONTRACT_MORTGAGE_LENDING_VALUE\n",
      "CONTRACT_MORTGAGE_TYPE\n",
      "CONTRACT_REFINANCED\n",
      "CONTRACT_RISK_WEIGHTED_ASSETS\n",
      "CONTRACT_TYPE_OF_INTEREST_REPAYMENT\n",
      "BORROWER_BIRTH_YEAR\n",
      "BORROWER_CITIZENSHIP\n",
      "BORROWER_COUNTRY\n",
      "BORROWER_COUNTY\n",
      "BORROWER_TYPE_OF_SETTLEMENT\n",
      "TARGET_EVENT_DAY\n"
     ]
    }
   ],
   "source": [
    "# describe columns type, print only float columns\n",
    "for col in df.columns:\n",
    "  if df[col].dtypes != 'object':\n",
    "    print(df[col].name)"
   ]
  },
  {
   "cell_type": "markdown",
   "metadata": {},
   "source": [
    "object változók:\n",
    "    CONTRACT_ID\n",
    "    BORROWER_ID\n",
    "    CONTRACT_BANK_ID\n",
    "    CONTRACT_FREQUENCY_TYPE\n",
    "    CONTRACT_LOAN_TYPE\n",
    "    BORROWER_TYPE_OF_CUSTOMER\n",
    "    TARGET_EVENT\n",
    "float64 változók\n",
    "    CONTRACT_CREDIT_INTERMEDIARY\n",
    "    CONTRACT_CREDIT_LOSS\n",
    "    CONTRACT_CURRENCY\n",
    "    CONTRACT_DATE_OF_LOAN_AGREEMENT\n",
    "    CONTRACT_DEPT_SERVICE_TO_INCOME\n",
    "    CONTRACT_INCOME\n",
    "    CONTRACT_INSTALMENT_AMOUNT\n",
    "    CONTRACT_INSTALMENT_AMOUNT_2\n",
    "    CONTRACT_INTEREST_PERIOD\n",
    "    CONTRACT_INTEREST_RATE\n",
    "    CONTRACT_LGD\n",
    "    CONTRACT_LOAN_AMOUNT\n",
    "    CONTRACT_LOAN_CONTRACT_TYPE\n",
    "    CONTRACT_LOAN_TO_VALUE_RATIO\n",
    "    CONTRACT_MARKET_VALUE\n",
    "    CONTRACT_MATURITY_DATE\n",
    "    CONTRACT_MORTGAGE_LENDING_VALUE\n",
    "    CONTRACT_MORTGAGE_TYPE\n",
    "    CONTRACT_REFINANCED\n",
    "    CONTRACT_RISK_WEIGHTED_ASSETS\n",
    "    CONTRACT_TYPE_OF_INTEREST_REPAYMENT\n",
    "    BORROWER_BIRTH_YEAR\n",
    "    BORROWER_CITIZENSHIP\n",
    "    BORROWER_COUNTRY\n",
    "    BORROWER_COUNTY\n",
    "    BORROWER_TYPE_OF_SETTLEMENT\n",
    "    TARGET_EVENT_DAY\n"
   ]
  },
  {
   "cell_type": "code",
   "execution_count": 26,
   "metadata": {},
   "outputs": [],
   "source": [
    "df_float = df.copy()\n",
    "#df_float = df.drop(['BORROWER_ID','CONTRACT_ID'],axis=1)\n",
    "# MAKE DUMMy FROM THIS:\n",
    "# CONTRACT_BANK_ID\n",
    "# CONTRACT_FREQUENCY_TYPE\n",
    "# CONTRACT_LOAN_TYPE\n",
    "# BORROWER_TYPE_OF_CUSTOMER\n",
    "# ne használt label encodingot, helyette one-hot encodingot vagy target encodingot \n",
    "dummy_cols_list = ['CONTRACT_BANK_ID', 'CONTRACT_FREQUENCY_TYPE', 'CONTRACT_LOAN_TYPE','BORROWER_TYPE_OF_CUSTOMER']\n",
    "dummy_names = []\n",
    "\n",
    "for col in dummy_cols_list:\n",
    "    dummy_df = pd.get_dummies(df_float.loc[:, col], prefix=col, drop_first=True)\n",
    "    dummy_df = dummy_df.astype(int)\n",
    "    dummy_names += dummy_df.columns.tolist()\n",
    "    df_float = pd.concat([df_float, dummy_df], axis=1)"
   ]
  },
  {
   "cell_type": "code",
   "execution_count": 27,
   "metadata": {},
   "outputs": [],
   "source": [
    "# save the dummy names in txt\n",
    "with open('dummy_names.txt', 'w') as f:\n",
    "    for item in dummy_names:\n",
    "        f.write(\"%s\\n\" % item)"
   ]
  },
  {
   "cell_type": "code",
   "execution_count": 37,
   "metadata": {},
   "outputs": [
    {
     "data": {
      "text/plain": [
       "Index(['CONTRACT_CREDIT_INTERMEDIARY', 'CONTRACT_CREDIT_LOSS',\n",
       "       'CONTRACT_CURRENCY', 'CONTRACT_DATE_OF_LOAN_AGREEMENT',\n",
       "       'CONTRACT_DEPT_SERVICE_TO_INCOME', 'CONTRACT_INCOME',\n",
       "       'CONTRACT_INSTALMENT_AMOUNT', 'CONTRACT_INSTALMENT_AMOUNT_2',\n",
       "       'CONTRACT_INTEREST_PERIOD', 'CONTRACT_INTEREST_RATE',\n",
       "       ...\n",
       "       'CONTRACT_LOAN_TYPE_955ae3ef', 'CONTRACT_LOAN_TYPE_95c4f8fb',\n",
       "       'CONTRACT_LOAN_TYPE_b503a0de', 'CONTRACT_LOAN_TYPE_cde77491',\n",
       "       'CONTRACT_LOAN_TYPE_cf07c2dd', 'CONTRACT_LOAN_TYPE_d3aaffde',\n",
       "       'CONTRACT_LOAN_TYPE_eab72d7a', 'CONTRACT_LOAN_TYPE_f792971b',\n",
       "       'BORROWER_TYPE_OF_CUSTOMER_B', 'target'],\n",
       "      dtype='object', length=184)"
      ]
     },
     "execution_count": 37,
     "metadata": {},
     "output_type": "execute_result"
    }
   ],
   "source": [
    "df_float.columns"
   ]
  },
  {
   "cell_type": "code",
   "execution_count": 38,
   "metadata": {},
   "outputs": [],
   "source": [
    "for col in df_float.columns:\n",
    "  if df_float[col].dtypes == 'object':\n",
    "    print(df_float[col].name)"
   ]
  },
  {
   "cell_type": "code",
   "execution_count": 32,
   "metadata": {},
   "outputs": [],
   "source": [
    "df_float['target'] = 0"
   ]
  },
  {
   "cell_type": "code",
   "execution_count": 34,
   "metadata": {},
   "outputs": [],
   "source": [
    "feltetel = df_float['TARGET_EVENT'] == 'K'"
   ]
  },
  {
   "cell_type": "code",
   "execution_count": 35,
   "metadata": {},
   "outputs": [],
   "source": [
    "df_float.loc[feltetel, 'target'] = 1"
   ]
  },
  {
   "cell_type": "code",
   "execution_count": 36,
   "metadata": {},
   "outputs": [],
   "source": [
    "# NOW WE WILL HAVE 184 COLUMNS!\n",
    "# drop CONTRACT_ID, BORROWER_ID, CONTRACT_BANK_ID, CONTRACT_FREQUENCY_TYPE, CONTRACT_LOAN_TYPE, BORROWER_TYPE_OF_CUSTOMER ,TARGET_EVENT\n",
    "df_float.drop(['CONTRACT_ID', 'CONTRACT_BANK_ID', 'CONTRACT_FREQUENCY_TYPE', 'CONTRACT_LOAN_TYPE', 'BORROWER_TYPE_OF_CUSTOMER' ,'TARGET_EVENT'],axis=1, inplace=True)"
   ]
  },
  {
   "cell_type": "code",
   "execution_count": 41,
   "metadata": {},
   "outputs": [
    {
     "name": "stdout",
     "output_type": "stream",
     "text": [
      "CONTRACT_CREDIT_INTERMEDIARY\n",
      "CONTRACT_CREDIT_LOSS\n",
      "CONTRACT_DEPT_SERVICE_TO_INCOME\n",
      "CONTRACT_INCOME\n",
      "CONTRACT_INSTALMENT_AMOUNT\n",
      "CONTRACT_INSTALMENT_AMOUNT_2\n",
      "CONTRACT_INTEREST_PERIOD\n",
      "CONTRACT_INTEREST_RATE\n",
      "CONTRACT_LGD\n",
      "CONTRACT_LOAN_TO_VALUE_RATIO\n",
      "CONTRACT_MARKET_VALUE\n",
      "CONTRACT_MORTGAGE_LENDING_VALUE\n",
      "CONTRACT_MORTGAGE_TYPE\n",
      "CONTRACT_REFINANCED\n",
      "CONTRACT_RISK_WEIGHTED_ASSETS\n",
      "CONTRACT_TYPE_OF_INTEREST_REPAYMENT\n",
      "BORROWER_BIRTH_YEAR\n",
      "BORROWER_CITIZENSHIP\n",
      "BORROWER_COUNTRY\n",
      "BORROWER_COUNTY\n",
      "BORROWER_TYPE_OF_SETTLEMENT\n",
      "TARGET_EVENT_DAY\n"
     ]
    }
   ],
   "source": [
    "# print columns, which have null values\n",
    "for col in df_float.columns:\n",
    "  if df_float[col].isnull().values.any():\n",
    "    print(df_float[col].name)"
   ]
  },
  {
   "cell_type": "code",
   "execution_count": 80,
   "metadata": {},
   "outputs": [],
   "source": [
    "#print the whole row, when first will be the 'target' columns 1\n",
    "filtered_rows = df_float[df_float['target'] == 1]\n",
    "\n",
    "\n",
    "# print the 71. rows out, in dataframe format\n",
    "with open('df_float_columns.txt', 'w') as f:\n",
    "    for item in df_float.columns:\n",
    "        f.write(\"%s\\n\" % item)\n",
    "\n",
    "\n"
   ]
  },
  {
   "cell_type": "code",
   "execution_count": 81,
   "metadata": {},
   "outputs": [],
   "source": [
    "#get all index of rows , where the target is 1\n",
    "\n",
    "\n",
    "filtered_rows = df_float[df_float['target'] == 1]\n"
   ]
  },
  {
   "cell_type": "code",
   "execution_count": 83,
   "metadata": {},
   "outputs": [],
   "source": [
    "# get all ID value from df, where the target is K\n",
    "default = df[df['TARGET_EVENT']=='K']\n"
   ]
  },
  {
   "cell_type": "code",
   "execution_count": 137,
   "metadata": {},
   "outputs": [],
   "source": [
    "import numpy as np\n",
    "\n",
    "df_float['CONTRACT_INSTALMENT_AMOUNT'] = df_float.apply(\n",
    "    lambda row: row['CONTRACT_INSTALMENT_AMOUNT_2'] if np.isnan(row['CONTRACT_INSTALMENT_AMOUNT']) else row['CONTRACT_INSTALMENT_AMOUNT'],\n",
    "    axis=1\n",
    ")\n",
    "\n",
    "\n",
    "df_float['CONTRACT_INSTALMENT_AMOUNT_2'] = df_float.apply(\n",
    "    lambda row: row['CONTRACT_INSTALMENT_AMOUNT'] if np.isnan(row['CONTRACT_INSTALMENT_AMOUNT_2']) else row['CONTRACT_INSTALMENT_AMOUNT_2'],\n",
    "    axis=1\n",
    ")\n",
    "\n",
    "df_float['CONTRACT_INTEREST_RATE'] = df_float.apply(\n",
    "    lambda row: 14.0 if np.isnan(row['CONTRACT_INTEREST_PERIOD']==3.0) else row['CONTRACT_INTEREST_RATE'],\n",
    "    axis=1\n",
    ")\n",
    "\n",
    "df_float['CONTRACT_INTEREST_RATE'] = df_float.apply(\n",
    "    lambda row: 7.0 if np.isnan(row['CONTRACT_INTEREST_PERIOD']==61.0) else row['CONTRACT_INTEREST_RATE'],\n",
    "    axis=1\n",
    ")\n",
    "df_float['CONTRACT_INTEREST_RATE'] = df_float.apply(\n",
    "    lambda row: 9.8 if np.isnan(row['CONTRACT_INTEREST_PERIOD']==0.0) else row['CONTRACT_INTEREST_RATE'],\n",
    "    axis=1\n",
    ")\n",
    "\n",
    "\n",
    "\n",
    "\n",
    "\n",
    "# CONTRACT_CREDIT_INTERMEDIARY\n",
    "df_float['CONTRACT_CREDIT_INTERMEDIARY'] = df_float['CONTRACT_CREDIT_INTERMEDIARY'].fillna(2.0)\n",
    "# CONTRACT_CREDIT_LOSS\n",
    "df_float['CONTRACT_CREDIT_LOSS'] = df_float['CONTRACT_CREDIT_LOSS'].fillna(0)\n",
    "# CONTRACT_DEPT_SERVICE_TO_INCOME\n",
    "most = df_float['CONTRACT_DEPT_SERVICE_TO_INCOME'].value_counts().index[1]\n",
    "df_float['CONTRACT_DEPT_SERVICE_TO_INCOME'] = df_float['CONTRACT_DEPT_SERVICE_TO_INCOME'].fillna(most)\n",
    "# CONTRACT_INCOME\n",
    "df_float['CONTRACT_INCOME'] = df_float['CONTRACT_INCOME'].fillna(0)\n",
    "# CONTRACT_INSTALMENT_AMOUNT !\n",
    "df_float['CONTRACT_INSTALMENT_AMOUNT'] = df_float['CONTRACT_INSTALMENT_AMOUNT'].fillna(0)\n",
    "# CONTRACT_INSTALMENT_AMOUNT_2\n",
    "df_float['CONTRACT_INSTALMENT_AMOUNT_2'] = df_float['CONTRACT_INSTALMENT_AMOUNT_2'].fillna(0)\n",
    "# CONTRACT_INTEREST_PERIOD\n",
    "df_float['CONTRACT_INTEREST_PERIOD'] = df_float['CONTRACT_INTEREST_PERIOD'].fillna(0)\n",
    "# CONTRACT_INTEREST_RATE\n",
    "df_float['CONTRACT_INTEREST_RATE'] = df_float['CONTRACT_INTEREST_RATE'].fillna(0)\n",
    "# CONTRACT_LGD\n",
    "df_float['CONTRACT_LGD'] = df_float['CONTRACT_LGD'].fillna(0)\n",
    "# CONTRACT_LOAN_TO_VALUE_RATIO\n",
    "df_float['CONTRACT_LOAN_TO_VALUE_RATIO'] = df_float['CONTRACT_LOAN_TO_VALUE_RATIO'].fillna(1)\n",
    "# CONTRACT_MARKET_VALUE\n",
    "df_float['CONTRACT_MARKET_VALUE'] = df_float['CONTRACT_MARKET_VALUE'].fillna(0)\n",
    "# CONTRACT_MORTGAGE_LENDING_VALUE\n",
    "df_float['CONTRACT_MORTGAGE_LENDING_VALUE'] = df_float['CONTRACT_MORTGAGE_LENDING_VALUE'].fillna(-1)\n",
    "# CONTRACT_MORTGAGE_TYPE\n",
    "df_float['CONTRACT_MORTGAGE_TYPE'] = df_float['CONTRACT_MORTGAGE_TYPE'].fillna(-1)\n",
    "# CONTRACT_REFINANCED\n",
    "df_float['CONTRACT_REFINANCED'] = df_float['CONTRACT_REFINANCED'].fillna(2)\n",
    "# CONTRACT_RISK_WEIGHTED_ASSETS\n",
    "df_float['CONTRACT_RISK_WEIGHTED_ASSETS'] = df_float['CONTRACT_RISK_WEIGHTED_ASSETS'].fillna(75)\n",
    "# CONTRACT_TYPE_OF_INTEREST_REPAYMENT\n",
    "df_float['CONTRACT_TYPE_OF_INTEREST_REPAYMENT'] = df_float['CONTRACT_TYPE_OF_INTEREST_REPAYMENT'].fillna(100002.0)\n",
    "\n",
    "# BORROWER_TYPE_OF_SETTLEMENT\n",
    "df_float['BORROWER_TYPE_OF_SETTLEMENT'] = df_float['BORROWER_TYPE_OF_SETTLEMENT'].fillna(8)\n",
    "# TARGET_EVENT_DAY\n",
    "df_float['TARGET_EVENT_DAY'] = df_float['TARGET_EVENT_DAY'].fillna(0)\n",
    "\n"
   ]
  },
  {
   "cell_type": "code",
   "execution_count": 140,
   "metadata": {},
   "outputs": [],
   "source": [
    "# print columns, which have null values\n",
    "for col in df_float.columns:\n",
    "  if df_float[col].isnull().values.any():\n",
    "    print(df_float[col].name)"
   ]
  },
  {
   "cell_type": "code",
   "execution_count": 139,
   "metadata": {},
   "outputs": [],
   "source": [
    "df_float.drop(['BORROWER_BIRTH_YEAR','BORROWER_CITIZENSHIP','BORROWER_COUNTRY','BORROWER_COUNTY'],axis=1, inplace=True)"
   ]
  },
  {
   "cell_type": "code",
   "execution_count": 141,
   "metadata": {},
   "outputs": [
    {
     "data": {
      "text/plain": [
       "Index(['CONTRACT_CREDIT_INTERMEDIARY', 'CONTRACT_CREDIT_LOSS',\n",
       "       'CONTRACT_CURRENCY', 'CONTRACT_DATE_OF_LOAN_AGREEMENT',\n",
       "       'CONTRACT_DEPT_SERVICE_TO_INCOME', 'CONTRACT_INCOME',\n",
       "       'CONTRACT_INSTALMENT_AMOUNT', 'CONTRACT_INSTALMENT_AMOUNT_2',\n",
       "       'CONTRACT_INTEREST_PERIOD', 'CONTRACT_INTEREST_RATE',\n",
       "       ...\n",
       "       'CONTRACT_LOAN_TYPE_955ae3ef', 'CONTRACT_LOAN_TYPE_95c4f8fb',\n",
       "       'CONTRACT_LOAN_TYPE_b503a0de', 'CONTRACT_LOAN_TYPE_cde77491',\n",
       "       'CONTRACT_LOAN_TYPE_cf07c2dd', 'CONTRACT_LOAN_TYPE_d3aaffde',\n",
       "       'CONTRACT_LOAN_TYPE_eab72d7a', 'CONTRACT_LOAN_TYPE_f792971b',\n",
       "       'BORROWER_TYPE_OF_CUSTOMER_B', 'target'],\n",
       "      dtype='object', length=180)"
      ]
     },
     "execution_count": 141,
     "metadata": {},
     "output_type": "execute_result"
    }
   ],
   "source": [
    "df_float.columns"
   ]
  },
  {
   "cell_type": "markdown",
   "metadata": {},
   "source": [
    "PCA"
   ]
  },
  {
   "cell_type": "code",
   "execution_count": 146,
   "metadata": {},
   "outputs": [
    {
     "data": {
      "text/plain": [
       "array([6.27261509e+23, 2.88481038e+16, 1.08027490e+16, 3.45706895e+14,\n",
       "       1.64408226e+13, 8.60725725e+11, 1.31238778e+11, 4.40848800e+10,\n",
       "       8.22065366e+08, 5.71022683e+06])"
      ]
     },
     "execution_count": 146,
     "metadata": {},
     "output_type": "execute_result"
    }
   ],
   "source": [
    "from sklearn.decomposition import PCA\n",
    "pca=PCA(n_components=10)\n",
    "pca.fit(df_float)\n",
    "pca.explained_variance_"
   ]
  },
  {
   "cell_type": "code",
   "execution_count": 147,
   "metadata": {},
   "outputs": [
    {
     "data": {
      "text/plain": [
       "[<matplotlib.lines.Line2D at 0x1f2ecb5f0d0>]"
      ]
     },
     "execution_count": 147,
     "metadata": {},
     "output_type": "execute_result"
    },
    {
     "data": {
      "image/png": "[encoded data removed]",
      "text/plain": [
       "<Figure size 640x480 with 1 Axes>"
      ]
     },
     "metadata": {},
     "output_type": "display_data"
    }
   ],
   "source": [
    "import matplotlib.pyplot as plt\n",
    "plt.plot(pca.explained_variance_.cumsum(),marker='.')"
   ]
  },
  {
   "cell_type": "code",
   "execution_count": null,
   "metadata": {},
   "outputs": [],
   "source": []
  },
  {
   "cell_type": "markdown",
   "metadata": {},
   "source": [
    "# a megfelelő időszakok kiválasztása"
   ]
  },
  {
   "cell_type": "code",
   "execution_count": null,
   "metadata": {},
   "outputs": [],
   "source": [
    "def mode_func(column):\n",
    "    return column.mode().iloc[0] \n",
    "\n",
    "def datagen_modeA(origdf, startnap, endnap):\n",
    "    df2 = origdf[origdf['CONTRACT_DATE_OF_LOAN_AGREEMENT']>=startnap].copy()\n",
    "    df = df2[df2['CONTRACT_DATE_OF_LOAN_AGREEMENT']<endnap].copy()\n",
    "    \n",
    "    \n",
    "    # TARGET VALTOZO \n",
    "    # a következő évben bekövetkező eseményeket nézzük\n",
    "    # k: késedelmes lesz\n",
    "    feltetel = (df['TARGET_EVENT_DAY']>endnap) & (df['TARGET_EVENT_DAY']<endnap+2*365) & (df['TARGET_EVENT'] == 'K')\n",
    "    \n",
    "    df['target'] = 0\n",
    "    df.loc[feltetel,'target']=1\n",
    "   \n",
    "    \n",
    "    return df\n",
    "    \n",
    "\n",
    "# MEGADOTT IDŐPONTOK ÉS TARGET VÁLTOZÓK\n",
    "R1 = datagen_modeA(df,0,365)\n",
    "R2 = datagen_modeA(df,365*2,365*3)"
   ]
  },
  {
   "cell_type": "markdown",
   "metadata": {},
   "source": [
    "AGGREGÁLÓ FÜGGVÉNYEK"
   ]
  },
  {
   "cell_type": "code",
   "execution_count": 148,
   "metadata": {},
   "outputs": [
    {
     "data": {
      "text/plain": [
       "Index(['CONTRACT_CREDIT_INTERMEDIARY', 'CONTRACT_CREDIT_LOSS',\n",
       "       'CONTRACT_CURRENCY', 'CONTRACT_DATE_OF_LOAN_AGREEMENT',\n",
       "       'CONTRACT_DEPT_SERVICE_TO_INCOME', 'CONTRACT_INCOME',\n",
       "       'CONTRACT_INSTALMENT_AMOUNT', 'CONTRACT_INSTALMENT_AMOUNT_2',\n",
       "       'CONTRACT_INTEREST_PERIOD', 'CONTRACT_INTEREST_RATE',\n",
       "       ...\n",
       "       'CONTRACT_LOAN_TYPE_955ae3ef', 'CONTRACT_LOAN_TYPE_95c4f8fb',\n",
       "       'CONTRACT_LOAN_TYPE_b503a0de', 'CONTRACT_LOAN_TYPE_cde77491',\n",
       "       'CONTRACT_LOAN_TYPE_cf07c2dd', 'CONTRACT_LOAN_TYPE_d3aaffde',\n",
       "       'CONTRACT_LOAN_TYPE_eab72d7a', 'CONTRACT_LOAN_TYPE_f792971b',\n",
       "       'BORROWER_TYPE_OF_CUSTOMER_B', 'target'],\n",
       "      dtype='object', length=180)"
      ]
     },
     "execution_count": 148,
     "metadata": {},
     "output_type": "execute_result"
    }
   ],
   "source": [
    "df_float.columns"
   ]
  },
  {
   "cell_type": "code",
   "execution_count": null,
   "metadata": {},
   "outputs": [],
   "source": [
    "def datagen_modeA(origdf, startnap, endnap):\n",
    "    df2 = origdf[origdf['CONTRACT_DATE_OF_LOAN_AGREEMENT']>=startnap].copy()\n",
    "    df = df2[df2['CONTRACT_DATE_OF_LOAN_AGREEMENT']<endnap].copy()\n",
    "    cust_df = pd.DataFrame({'BORROWER_ID':df['BORROWER_ID'].unique()})\n",
    "    \n",
    "    \n",
    "    # TARGET VALTOZO \n",
    "    # a következő évben bekövetkező eseményeket nézzük\n",
    "    # k: késedelmes lesz\n",
    "    feltetel = (df['TARGET_EVENT_DAY']>endnap) & (df['TARGET_EVENT_DAY']<endnap+2*365) & (df['TARGET_EVENT'] == 'K')\n",
    "    #feltetel_2 = (df['TARGET_EVENT_DAY']<endnap) & (df['TARGET_EVENT_DAY']<startnap) & (df['TARGET_EVENT'] == 'K') #egy éven belül elbukott\n",
    "    df['target'] = 0\n",
    "    df.loc[feltetel,'target']=1\n",
    "    #df.loc[feltetel_2,'target']=2\n",
    "    \n",
    "    # drop rows where target is 2\n",
    "    #df = df[df['target']!=2]\n",
    "    \n",
    "    stat = df.groupby('BORROWER_ID',as_index=False).agg({'target':'max'})\n",
    "    # akik nem fizettek az 1 lesz\n",
    "    cust_df = cust_df.merge(stat,on='BORROWER_ID',how='left')\n",
    "    # mindenki más aki előtörlesztett vagy semmi nem történt az 0\n",
    "    cust_df['target'] = cust_df['target'].fillna(0)\n",
    "    \n",
    "    \n",
    "    # BEMENO VALTOZOK\n",
    "    # törlesztőösszeg ÉS RISK\n",
    "    # csak sum és mean hasznlata !!!!!!!!!!!!!!!!!\n",
    "    stat = df.groupby(\"BORROWER_ID\", as_index=False).agg({'CONTRACT_ID':'count',\n",
    "                                                          'CONTRACT_LOAN_AMOUNT':'sum',\n",
    "                                                          'CONTRACT_INSTALMENT_AMOUNT':'sum',\n",
    "                                                          'CONTRACT_INSTALMENT_AMOUNT_2':'sum',\n",
    "                                                          'CONTRACT_RISK_WEIGHTED_ASSETS':'sum',\n",
    "                                                          'CONTRACT_INTEREST_RATE': 'mean',\n",
    "                                                          'CONTRACT_CREDIT_LOSS':'sum',\n",
    "                                                          'CONTRACT_CURRENCY':mode_func,\n",
    "                                                          'CONTRACT_DEPT_SERVICE_TO_INCOME':'mean',\n",
    "                                                          ###'CONTRACT_FREQUENCY_TYPE':'median',\n",
    "                                                          'CONTRACT_INCOME':'sum',\n",
    "                                                          'CONTRACT_INTEREST_PERIOD':'mean',\n",
    "                                                          'CONTRACT_INTEREST_RATE':'mean',\n",
    "                                                          'CONTRACT_LGD':'max',\n",
    "                                                          ###lehet##'CONTRACT_LOAN_CONTRACT_TYPE':mode_func,\n",
    "                                                          'CONTRACT_LOAN_TO_VALUE_RATIO':'mean',\n",
    "                                                          'CONTRACT_LOAN_TYPE':mode_func,\n",
    "                                                          'CONTRACT_MORTGAGE_LENDING_VALUE':'sum',\n",
    "                                                          ##'CONTRACT_MORTGAGE_TYPE':mode_func,\n",
    "                                                          ###'CONTRACT_REFINANCED':'median',\n",
    "                                                          ##'CONTRACT_TYPE_OF_INTEREST_REPAYMENT':mode_func,\n",
    "                                                          ####lehet##'BORROWER_TYPE_OF_CUSTOMER':mode_func,\n",
    "                                                          ##'BORROWER_TYPE_OF_SETTLEMENT':mode_func,\n",
    "                                                          ##'BORROWER_COUNTY':mode_func,\n",
    "                                                          ##'BORROWER_COUNTRY':mode_func,\n",
    "                                                          ##'BORROWER_CITIZENSHIP':mode_func,  \n",
    "                                                          'CONTRACT_MARKET_VALUE':'sum',                                                        \n",
    "                                                          })\n",
    "    print(stat.columns)\n",
    "    cust_df = cust_df.merge(stat,on='BORROWER_ID',how='left')\n",
    "   \n",
    "    \n",
    "   \n",
    "    \n",
    "    return cust_df\n",
    "    \n",
    "\n",
    "R1 = datagen_modeA(df,0,365)\n",
    "R2 = datagen_modeA(df,0,365*3)\n",
    "    "
   ]
  },
  {
   "cell_type": "markdown",
   "metadata": {},
   "source": [
    "Stacking model"
   ]
  },
  {
   "cell_type": "code",
   "execution_count": null,
   "metadata": {},
   "outputs": [],
   "source": [
    "from sklearn.ensemble import RandomForestClassifier, ExtraTreesClassifier\n",
    "from xgboost import XGBClassifier\n",
    "from sklearn.ensemble import StackingClassifier\n",
    "from sklearn.model_selection import train_test_split\n",
    "from sklearn.datasets import make_classification\n",
    "from sklearn.metrics import accuracy_score\n",
    "from sklearn.metrics import log_loss\n",
    "from sklearn.metrics import roc_auc_score\n",
    "\n",
    "# Assuming you have your own dataset or will load it here\n",
    "# X, y = load_your_dataset()\n",
    "X = R1.drop(['BORROWER_ID','target',],axis=1)\n",
    "y = R1['target']\n",
    "\n",
    "# Creating base models\n",
    "rf_model = RandomForestClassifier(n_estimators=100, random_state=42)\n",
    "ert_model = ExtraTreesClassifier(n_estimators=100, random_state=42)\n",
    "xgb_model = XGBClassifier(n_estimators=100, random_state=42)\n",
    "\n",
    "# Creating the Stacking Classifier\n",
    "estimators = [\n",
    "    ('rf', rf_model),\n",
    "    ('ert', ert_model),\n",
    "    ('xgb', xgb_model)\n",
    "]\n",
    "\n",
    "stacking_model = StackingClassifier(estimators=estimators, final_estimator=XGBClassifier())\n",
    "\n",
    "# Splitting the data into training and testing sets\n",
    "X_train, X_test, y_train, y_test = train_test_split(X, y, test_size=0.2, random_state=42)\n",
    "\n",
    "# Training the stacking model\n",
    "stacking_model.fit(X_train, y_train)\n",
    "\n",
    "# Making predictions, predict gives the actual class prediction\n",
    "y_pred = stacking_model.predict(X_test)\n",
    "\n",
    "# Making predictions (predict_proba gives probabilities)\n",
    "y_pred_proba = stacking_model.predict_proba(X_test)\n",
    "\n",
    "# Calculating accuracy\n",
    "accuracy = accuracy_score(y_test, y_pred)\n",
    "print(f\"Accuracy of Stacking Model: {accuracy*100:.2f}%\")\n",
    "\n",
    "# Calculating log loss\n",
    "logloss = log_loss(y_test, y_pred_proba)\n",
    "print(f\"Log Loss of Stacking Model: {logloss:.4f}\")\n",
    "\n",
    "# Calculating ROC-AUC\n",
    "roc_auc = roc_auc_score(y_test, y_pred_proba[:, 1])  # Use the probabilities of the positive class\n",
    "print(f\"ROC-AUC of Stacking Model: {roc_auc:.4f}\")"
   ]
  },
  {
   "cell_type": "markdown",
   "metadata": {},
   "source": []
  }
 ],
 "metadata": {
  "kernelspec": {
   "display_name": "Python 3",
   "language": "python",
   "name": "python3"
  },
  "language_info": {
   "codemirror_mode": {
    "name": "ipython",
    "version": 3
   },
   "file_extension": ".py",
   "mimetype": "text/x-python",
   "name": "python",
   "nbconvert_exporter": "python",
   "pygments_lexer": "ipython3",
   "version": "3.9.1"
  }
 },
 "nbformat": 4,
 "nbformat_minor": 2
}
