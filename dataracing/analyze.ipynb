{
 "cells": [
  {
   "cell_type": "markdown",
   "metadata": {},
   "source": []
  },
  {
   "cell_type": "code",
   "execution_count": 2,
   "metadata": {},
   "outputs": [],
   "source": [
    "import pandas as pd\n",
    "\n",
    "origdf = pd.read_csv('training_data.csv')\n",
    "subm = pd.read_csv('data_submission_example.csv')\n",
    "\n",
    "df = origdf.copy()"
   ]
  },
  {
   "cell_type": "code",
   "execution_count": 3,
   "metadata": {},
   "outputs": [
    {
     "data": {
      "text/html": [
       "<div>\n",
       "<style scoped>\n",
       "    .dataframe tbody tr th:only-of-type {\n",
       "        vertical-align: middle;\n",
       "    }\n",
       "\n",
       "    .dataframe tbody tr th {\n",
       "        vertical-align: top;\n",
       "    }\n",
       "\n",
       "    .dataframe thead th {\n",
       "        text-align: right;\n",
       "    }\n",
       "</style>\n",
       "<table border=\"1\" class=\"dataframe\">\n",
       "  <thead>\n",
       "    <tr style=\"text-align: right;\">\n",
       "      <th></th>\n",
       "      <th>0</th>\n",
       "    </tr>\n",
       "  </thead>\n",
       "  <tbody>\n",
       "    <tr>\n",
       "      <th>CONTRACT_ID</th>\n",
       "      <td>TpK8osXs</td>\n",
       "    </tr>\n",
       "    <tr>\n",
       "      <th>BORROWER_ID</th>\n",
       "      <td>d8SqtuEV</td>\n",
       "    </tr>\n",
       "    <tr>\n",
       "      <th>CONTRACT_BANK_ID</th>\n",
       "      <td>1d42bbf5</td>\n",
       "    </tr>\n",
       "    <tr>\n",
       "      <th>CONTRACT_CREDIT_INTERMEDIARY</th>\n",
       "      <td>2.0</td>\n",
       "    </tr>\n",
       "    <tr>\n",
       "      <th>CONTRACT_CREDIT_LOSS</th>\n",
       "      <td>0.0</td>\n",
       "    </tr>\n",
       "    <tr>\n",
       "      <th>CONTRACT_CURRENCY</th>\n",
       "      <td>31</td>\n",
       "    </tr>\n",
       "    <tr>\n",
       "      <th>CONTRACT_DATE_OF_LOAN_AGREEMENT</th>\n",
       "      <td>2457052</td>\n",
       "    </tr>\n",
       "    <tr>\n",
       "      <th>CONTRACT_DEPT_SERVICE_TO_INCOME</th>\n",
       "      <td>NaN</td>\n",
       "    </tr>\n",
       "    <tr>\n",
       "      <th>CONTRACT_FREQUENCY_TYPE</th>\n",
       "      <td>479a2e13</td>\n",
       "    </tr>\n",
       "    <tr>\n",
       "      <th>CONTRACT_INCOME</th>\n",
       "      <td>NaN</td>\n",
       "    </tr>\n",
       "    <tr>\n",
       "      <th>CONTRACT_INSTALMENT_AMOUNT</th>\n",
       "      <td>9545.0</td>\n",
       "    </tr>\n",
       "    <tr>\n",
       "      <th>CONTRACT_INSTALMENT_AMOUNT_2</th>\n",
       "      <td>11059.0</td>\n",
       "    </tr>\n",
       "    <tr>\n",
       "      <th>CONTRACT_INTEREST_PERIOD</th>\n",
       "      <td>NaN</td>\n",
       "    </tr>\n",
       "    <tr>\n",
       "      <th>CONTRACT_INTEREST_RATE</th>\n",
       "      <td>22.08</td>\n",
       "    </tr>\n",
       "    <tr>\n",
       "      <th>CONTRACT_LGD</th>\n",
       "      <td>175424.0</td>\n",
       "    </tr>\n",
       "    <tr>\n",
       "      <th>CONTRACT_LOAN_AMOUNT</th>\n",
       "      <td>192161</td>\n",
       "    </tr>\n",
       "    <tr>\n",
       "      <th>CONTRACT_LOAN_CONTRACT_TYPE</th>\n",
       "      <td>1</td>\n",
       "    </tr>\n",
       "    <tr>\n",
       "      <th>CONTRACT_LOAN_TO_VALUE_RATIO</th>\n",
       "      <td>NaN</td>\n",
       "    </tr>\n",
       "    <tr>\n",
       "      <th>CONTRACT_LOAN_TYPE</th>\n",
       "      <td>69f70539</td>\n",
       "    </tr>\n",
       "    <tr>\n",
       "      <th>CONTRACT_MARKET_VALUE</th>\n",
       "      <td>NaN</td>\n",
       "    </tr>\n",
       "    <tr>\n",
       "      <th>CONTRACT_MATURITY_DATE</th>\n",
       "      <td>2457798</td>\n",
       "    </tr>\n",
       "    <tr>\n",
       "      <th>CONTRACT_MORTGAGE_LENDING_VALUE</th>\n",
       "      <td>NaN</td>\n",
       "    </tr>\n",
       "    <tr>\n",
       "      <th>CONTRACT_MORTGAGE_TYPE</th>\n",
       "      <td>NaN</td>\n",
       "    </tr>\n",
       "    <tr>\n",
       "      <th>CONTRACT_REFINANCED</th>\n",
       "      <td>1.0</td>\n",
       "    </tr>\n",
       "    <tr>\n",
       "      <th>CONTRACT_RISK_WEIGHTED_ASSETS</th>\n",
       "      <td>1.0</td>\n",
       "    </tr>\n",
       "    <tr>\n",
       "      <th>CONTRACT_TYPE_OF_INTEREST_REPAYMENT</th>\n",
       "      <td>NaN</td>\n",
       "    </tr>\n",
       "    <tr>\n",
       "      <th>BORROWER_BIRTH_YEAR</th>\n",
       "      <td>1217.0</td>\n",
       "    </tr>\n",
       "    <tr>\n",
       "      <th>BORROWER_CITIZENSHIP</th>\n",
       "      <td>98.0</td>\n",
       "    </tr>\n",
       "    <tr>\n",
       "      <th>BORROWER_COUNTRY</th>\n",
       "      <td>98.0</td>\n",
       "    </tr>\n",
       "    <tr>\n",
       "      <th>BORROWER_COUNTY</th>\n",
       "      <td>20.0</td>\n",
       "    </tr>\n",
       "    <tr>\n",
       "      <th>BORROWER_TYPE_OF_CUSTOMER</th>\n",
       "      <td>A</td>\n",
       "    </tr>\n",
       "    <tr>\n",
       "      <th>BORROWER_TYPE_OF_SETTLEMENT</th>\n",
       "      <td>NaN</td>\n",
       "    </tr>\n",
       "    <tr>\n",
       "      <th>TARGET_EVENT</th>\n",
       "      <td>-</td>\n",
       "    </tr>\n",
       "    <tr>\n",
       "      <th>TARGET_EVENT_DAY</th>\n",
       "      <td>NaN</td>\n",
       "    </tr>\n",
       "  </tbody>\n",
       "</table>\n",
       "</div>"
      ],
      "text/plain": [
       "                                            0\n",
       "CONTRACT_ID                          TpK8osXs\n",
       "BORROWER_ID                          d8SqtuEV\n",
       "CONTRACT_BANK_ID                     1d42bbf5\n",
       "CONTRACT_CREDIT_INTERMEDIARY              2.0\n",
       "CONTRACT_CREDIT_LOSS                      0.0\n",
       "CONTRACT_CURRENCY                          31\n",
       "CONTRACT_DATE_OF_LOAN_AGREEMENT       2457052\n",
       "CONTRACT_DEPT_SERVICE_TO_INCOME           NaN\n",
       "CONTRACT_FREQUENCY_TYPE              479a2e13\n",
       "CONTRACT_INCOME                           NaN\n",
       "CONTRACT_INSTALMENT_AMOUNT             9545.0\n",
       "CONTRACT_INSTALMENT_AMOUNT_2          11059.0\n",
       "CONTRACT_INTEREST_PERIOD                  NaN\n",
       "CONTRACT_INTEREST_RATE                  22.08\n",
       "CONTRACT_LGD                         175424.0\n",
       "CONTRACT_LOAN_AMOUNT                   192161\n",
       "CONTRACT_LOAN_CONTRACT_TYPE                 1\n",
       "CONTRACT_LOAN_TO_VALUE_RATIO              NaN\n",
       "CONTRACT_LOAN_TYPE                   69f70539\n",
       "CONTRACT_MARKET_VALUE                     NaN\n",
       "CONTRACT_MATURITY_DATE                2457798\n",
       "CONTRACT_MORTGAGE_LENDING_VALUE           NaN\n",
       "CONTRACT_MORTGAGE_TYPE                    NaN\n",
       "CONTRACT_REFINANCED                       1.0\n",
       "CONTRACT_RISK_WEIGHTED_ASSETS             1.0\n",
       "CONTRACT_TYPE_OF_INTEREST_REPAYMENT       NaN\n",
       "BORROWER_BIRTH_YEAR                    1217.0\n",
       "BORROWER_CITIZENSHIP                     98.0\n",
       "BORROWER_COUNTRY                         98.0\n",
       "BORROWER_COUNTY                          20.0\n",
       "BORROWER_TYPE_OF_CUSTOMER                   A\n",
       "BORROWER_TYPE_OF_SETTLEMENT               NaN\n",
       "TARGET_EVENT                                -\n",
       "TARGET_EVENT_DAY                          NaN"
      ]
     },
     "execution_count": 3,
     "metadata": {},
     "output_type": "execute_result"
    }
   ],
   "source": [
    "df.head(1).T"
   ]
  },
  {
   "cell_type": "code",
   "execution_count": 4,
   "metadata": {},
   "outputs": [
    {
     "data": {
      "text/plain": [
       "CONTRACT_CREDIT_INTERMEDIARY\n",
       "2.0        1069644\n",
       "1.0         454073\n",
       "20001.0      18654\n",
       "0.0            960\n",
       "Name: count, dtype: int64"
      ]
     },
     "execution_count": 4,
     "metadata": {},
     "output_type": "execute_result"
    }
   ],
   "source": [
    "\n",
    "# HITELKÖZVETÍTŐ - 4 FAJTA\n",
    "# 960 NaN\n",
    "# igen, nemm egyéb, nem tudni\n",
    "df['CONTRACT_CREDIT_INTERMEDIARY'].value_counts()\n",
    "#df['CONTRACT_CREDIT_INTERMEDIARY'] = df['CONTRACT_CREDIT_INTERMEDIARY'].fillna('N')\n"
   ]
  },
  {
   "cell_type": "code",
   "execution_count": 3,
   "metadata": {},
   "outputs": [
    {
     "data": {
      "text/plain": [
       "CONTRACT_BANK_ID\n",
       "1d42bbf5    553874\n",
       "caa130b5    229117\n",
       "bd940aa2    133187\n",
       "f789f8b0    131126\n",
       "2c6f5579     99995\n",
       "             ...  \n",
       "10b110f3         5\n",
       "d4cdedfe         5\n",
       "85764f78         4\n",
       "95e75ed5         2\n",
       "e9e18710         2\n",
       "Name: count, Length: 136, dtype: int64"
      ]
     },
     "execution_count": 3,
     "metadata": {},
     "output_type": "execute_result"
    }
   ],
   "source": [
    "df['CONTRACT_BANK_ID'].value_counts()"
   ]
  },
  {
   "cell_type": "code",
   "execution_count": 5,
   "metadata": {},
   "outputs": [
    {
     "data": {
      "text/plain": [
       "CONTRACT_CREDIT_LOSS\n",
       "0.0         389125\n",
       "206027.0      3664\n",
       "731521.0       635\n",
       "2442.0         531\n",
       "3909.0         457\n",
       "             ...  \n",
       "67806.0          1\n",
       "551479.0         1\n",
       "127895.0         1\n",
       "75259.0          1\n",
       "671335.0         1\n",
       "Name: count, Length: 165007, dtype: int64"
      ]
     },
     "execution_count": 5,
     "metadata": {},
     "output_type": "execute_result"
    }
   ],
   "source": [
    "# HITEL VESZTESÉG \n",
    "# 389125 NaN vagy 0\n",
    "df['CONTRACT_CREDIT_LOSS'].value_counts()"
   ]
  },
  {
   "cell_type": "code",
   "execution_count": 6,
   "metadata": {},
   "outputs": [
    {
     "data": {
      "text/plain": [
       "CONTRACT_CURRENCY\n",
       "31    1602691\n",
       "24         37\n",
       "14         25\n",
       "Name: count, dtype: int64"
      ]
     },
     "execution_count": 6,
     "metadata": {},
     "output_type": "execute_result"
    }
   ],
   "source": [
    "# DEVIZAESZKÖZ - 3 FAJTA\n",
    "df['CONTRACT_CURRENCY'].value_counts()"
   ]
  },
  {
   "cell_type": "code",
   "execution_count": 7,
   "metadata": {},
   "outputs": [
    {
     "data": {
      "text/plain": [
       "CONTRACT_DEPT_SERVICE_TO_INCOME\n",
       "0.00      37284\n",
       "49.46       646\n",
       "49.43       629\n",
       "49.47       625\n",
       "49.41       613\n",
       "          ...  \n",
       "82.06         1\n",
       "66.51         1\n",
       "171.89        1\n",
       "93.07         1\n",
       "112.13        1\n",
       "Name: count, Length: 11367, dtype: int64"
      ]
     },
     "execution_count": 7,
     "metadata": {},
     "output_type": "execute_result"
    }
   ],
   "source": [
    "# adósság/jövedelem arány\n",
    "# 0.0  389125\n",
    "df['CONTRACT_DEPT_SERVICE_TO_INCOME'].value_counts()\n"
   ]
  },
  {
   "cell_type": "code",
   "execution_count": 8,
   "metadata": {},
   "outputs": [
    {
     "data": {
      "text/plain": [
       "CONTRACT_FREQUENCY_TYPE\n",
       "479a2e13    1477500\n",
       "2f88e16c      58702\n",
       "87db11f5      47152\n",
       "3265c5b7      17386\n",
       "ad534644       1616\n",
       "89efd382        337\n",
       "2aebe4cb         53\n",
       "bd092d5a          7\n",
       "Name: count, dtype: int64"
      ]
     },
     "execution_count": 8,
     "metadata": {},
     "output_type": "execute_result"
    }
   ],
   "source": [
    "# Törlesztés gyakorisága: évente, félévente,negyedéves,havonta(479a2e13), kéthetente, hetente, naponta, egy összegben, egyéb\n",
    "# 8 fajta\n",
    "# havonta: személyi kölcsön, jelzáloghitel, autó\n",
    "# féléves : diákhitel, kereskedelmi kölcsön\n",
    "# hetente/kéthetente: részetfizetés\n",
    "df['CONTRACT_FREQUENCY_TYPE'].value_counts()"
   ]
  },
  {
   "cell_type": "code",
   "execution_count": 9,
   "metadata": {},
   "outputs": [
    {
     "data": {
      "text/plain": [
       "CONTRACT_INCOME\n",
       "0.0         39179\n",
       "1.0           518\n",
       "2.0            51\n",
       "85821.0        21\n",
       "85214.0        21\n",
       "            ...  \n",
       "595553.0        1\n",
       "493575.0        1\n",
       "273729.0        1\n",
       "316621.0        1\n",
       "414567.0        1\n",
       "Name: count, Length: 410880, dtype: int64"
      ]
     },
     "execution_count": 9,
     "metadata": {},
     "output_type": "execute_result"
    }
   ],
   "source": [
    "# 39179 NaN\n",
    "df['CONTRACT_INCOME'].value_counts()"
   ]
  },
  {
   "cell_type": "code",
   "execution_count": 10,
   "metadata": {},
   "outputs": [
    {
     "data": {
      "text/plain": [
       "CONTRACT_INSTALMENT_AMOUNT\n",
       "0.0          25856\n",
       "9917.0          33\n",
       "8708.0          32\n",
       "9912.0          31\n",
       "9940.0          31\n",
       "             ...  \n",
       "69197.0          1\n",
       "45869.0          1\n",
       "1767859.0        1\n",
       "56375.0          1\n",
       "418.0            1\n",
       "Name: count, Length: 61334, dtype: int64"
      ]
     },
     "execution_count": 10,
     "metadata": {},
     "output_type": "execute_result"
    }
   ],
   "source": [
    "# TÖRLESZTŐÖSSZEG\n",
    "# 0.0  25856\n",
    "df['CONTRACT_INSTALMENT_AMOUNT'].value_counts()"
   ]
  },
  {
   "cell_type": "code",
   "execution_count": 11,
   "metadata": {},
   "outputs": [
    {
     "data": {
      "text/plain": [
       "CONTRACT_INSTALMENT_AMOUNT_2\n",
       "0.0          50214\n",
       "9926.0         113\n",
       "9934.0         113\n",
       "9985.0         109\n",
       "9902.0         107\n",
       "             ...  \n",
       "181434.0         1\n",
       "79471.0          1\n",
       "267987.0         1\n",
       "1435741.0        1\n",
       "146483.0         1\n",
       "Name: count, Length: 158047, dtype: int64"
      ]
     },
     "execution_count": 11,
     "metadata": {},
     "output_type": "execute_result"
    }
   ],
   "source": [
    "# 0.0  50214\n",
    "df['CONTRACT_INSTALMENT_AMOUNT_2'].value_counts()"
   ]
  },
  {
   "cell_type": "code",
   "execution_count": 13,
   "metadata": {},
   "outputs": [
    {
     "data": {
      "text/plain": [
       "CONTRACT_INTEREST_PERIOD\n",
       "0.0       199656\n",
       "61.0      128860\n",
       "3.0       119537\n",
       "12.0       70644\n",
       "85.0       66000\n",
       "           ...  \n",
       "1400.0         1\n",
       "1474.0         1\n",
       "796.0          1\n",
       "448.0          1\n",
       "1052.0         1\n",
       "Name: count, Length: 1038, dtype: int64"
      ]
     },
     "execution_count": 13,
     "metadata": {},
     "output_type": "execute_result"
    }
   ],
   "source": [
    "#FUTAMIDŐ\n",
    "# 0.0  199656\n",
    "df['CONTRACT_INTEREST_PERIOD'].value_counts()"
   ]
  },
  {
   "cell_type": "code",
   "execution_count": 15,
   "metadata": {},
   "outputs": [
    {
     "data": {
      "text/plain": [
       "CONTRACT_INTEREST_RATE\n",
       "0.00     110269\n",
       "6.13       3223\n",
       "6.08       3176\n",
       "6.11       3102\n",
       "6.10       3088\n",
       "          ...  \n",
       "39.32         1\n",
       "42.01         1\n",
       "94.86         1\n",
       "63.31         1\n",
       "37.97         1\n",
       "Name: count, Length: 4322, dtype: int64"
      ]
     },
     "execution_count": 15,
     "metadata": {},
     "output_type": "execute_result"
    }
   ],
   "source": [
    "#KAMATLÁB\n",
    "# 0.0  110269\n",
    "df['CONTRACT_INTEREST_RATE'].value_counts()"
   ]
  },
  {
   "cell_type": "code",
   "execution_count": 16,
   "metadata": {},
   "outputs": [
    {
     "data": {
      "text/plain": [
       "CONTRACT_LGD\n",
       "0.0         2104\n",
       "3.0           18\n",
       "4.0           17\n",
       "99464.0       16\n",
       "99254.0       16\n",
       "            ... \n",
       "819534.0       1\n",
       "54984.0        1\n",
       "643229.0       1\n",
       "984279.0       1\n",
       "266727.0       1\n",
       "Name: count, Length: 879303, dtype: int64"
      ]
     },
     "execution_count": 16,
     "metadata": {},
     "output_type": "execute_result"
    }
   ],
   "source": [
    "# HITELKOCKÁZAT - SZÁZALÉKOS ÉRTÉK, A TELJES TŐKEÖSSZEG HÁNYADA\n",
    "# NEMTÖRLESZTÉS ESETÉN \n",
    "\n",
    "df['CONTRACT_LGD'].value_counts()"
   ]
  },
  {
   "cell_type": "code",
   "execution_count": 18,
   "metadata": {},
   "outputs": [
    {
     "data": {
      "text/plain": [
       "CONTRACT_LOAN_CONTRACT_TYPE\n",
       "1     628128\n",
       "2     377927\n",
       "12    364821\n",
       "3      81180\n",
       "11     56760\n",
       "9      49639\n",
       "6      33077\n",
       "4      11221\n",
       "Name: count, dtype: int64"
      ]
     },
     "execution_count": 18,
     "metadata": {},
     "output_type": "execute_result"
    }
   ],
   "source": [
    "# szerződés típusa\n",
    "# 8 fajta\n",
    "#személyi kölcsön, jelzáloghitel, származtatott ügyletek,\n",
    "#befektetési kölcsön, biztosítási kölcsön, hitel nemteljesítési csereügylet\n",
    "#visszavásárlási megállapodés, határidős ügylet\n",
    "df['CONTRACT_LOAN_CONTRACT_TYPE'].value_counts()"
   ]
  },
  {
   "cell_type": "code",
   "execution_count": 19,
   "metadata": {},
   "outputs": [
    {
     "data": {
      "text/plain": [
       "CONTRACT_LOAN_TO_VALUE_RATIO\n",
       "0.95      1000\n",
       "0.99       974\n",
       "1.05       948\n",
       "1.13       947\n",
       "1.08       939\n",
       "          ... \n",
       "120.10       1\n",
       "106.66       1\n",
       "112.33       1\n",
       "117.51       1\n",
       "146.40       1\n",
       "Name: count, Length: 11662, dtype: int64"
      ]
     },
     "execution_count": 19,
     "metadata": {},
     "output_type": "execute_result"
    }
   ],
   "source": [
    "#LVT ARÁNY\n",
    "# hitelösszeg és a finanszírozott eszköz \n",
    "# becsült értékének vagy vételárának arányát\n",
    "df['CONTRACT_LOAN_TO_VALUE_RATIO'].value_counts()"
   ]
  },
  {
   "cell_type": "code",
   "execution_count": 21,
   "metadata": {},
   "outputs": [
    {
     "data": {
      "text/plain": [
       "CONTRACT_LOAN_TYPE\n",
       "b503a0de    1008064\n",
       "1f951336     157973\n",
       "d3aaffde      90930\n",
       "7e2065f4      88126\n",
       "69f70539      68104\n",
       "2f88e16c      58702\n",
       "955ae3ef      57006\n",
       "cf07c2dd      36335\n",
       "5a06241e      21028\n",
       "83910425       6920\n",
       "694cbaee       3497\n",
       "0aeb4094       2764\n",
       "eab72d7a       2310\n",
       "95c4f8fb        571\n",
       "f792971b        240\n",
       "cde77491        106\n",
       "47693941         74\n",
       "8fe006f1          3\n",
       "Name: count, dtype: int64"
      ]
     },
     "execution_count": 21,
     "metadata": {},
     "output_type": "execute_result"
    }
   ],
   "source": [
    "#hitel fajta(ezekhez van külön szerződés típus)\n",
    "df['CONTRACT_LOAN_TYPE'].value_counts()"
   ]
  },
  {
   "cell_type": "code",
   "execution_count": 26,
   "metadata": {},
   "outputs": [
    {
     "data": {
      "text/plain": [
       "CONTRACT_MORTGAGE_LENDING_VALUE\n",
       "0.0          45501\n",
       "1.0            369\n",
       "2.0             42\n",
       "5235447.0       15\n",
       "5369134.0       15\n",
       "             ...  \n",
       "5566818.0        1\n",
       "1749471.0        1\n",
       "5427376.0        1\n",
       "2348826.0        1\n",
       "185164.0         1\n",
       "Name: count, Length: 271960, dtype: int64"
      ]
     },
     "execution_count": 26,
     "metadata": {},
     "output_type": "execute_result"
    }
   ],
   "source": [
    "#jelzáoghitel ami nem haladhatja meg az ingatlan jövőbeni becsült értékét\n",
    "df['CONTRACT_MORTGAGE_LENDING_VALUE'].value_counts()"
   ]
  },
  {
   "cell_type": "code",
   "execution_count": 28,
   "metadata": {},
   "outputs": [
    {
     "data": {
      "text/plain": [
       "CONTRACT_MORTGAGE_TYPE\n",
       "4.0     273203\n",
       "46.0    103949\n",
       "8.0      39546\n",
       "5.0      25964\n",
       "48.0     22388\n",
       "45.0     21219\n",
       "7.0      20597\n",
       "6.0      17986\n",
       "0.0       5209\n",
       "44.0      4614\n",
       "1.0       2306\n",
       "13.0       450\n",
       "41.0       141\n",
       "47.0       120\n",
       "42.0       110\n",
       "43.0        12\n",
       "3.0          2\n",
       "10.0         1\n",
       "Name: count, dtype: int64"
      ]
     },
     "execution_count": 28,
     "metadata": {},
     "output_type": "execute_result"
    }
   ],
   "source": [
    "df['CONTRACT_MORTGAGE_TYPE'].value_counts()"
   ]
  },
  {
   "cell_type": "code",
   "execution_count": 30,
   "metadata": {},
   "outputs": [
    {
     "data": {
      "text/plain": [
       "CONTRACT_REFINANCED\n",
       "2.0        1405958\n",
       "1.0         119039\n",
       "10001.0      17374\n",
       "0.0            960\n",
       "Name: count, dtype: int64"
      ]
     },
     "execution_count": 30,
     "metadata": {},
     "output_type": "execute_result"
    }
   ],
   "source": [
    "#conttract credit intermediary\n",
    "#igen, nem, egyéb, nem tudni\n",
    "df['CONTRACT_REFINANCED'].value_counts()"
   ]
  },
  {
   "cell_type": "code",
   "execution_count": 31,
   "metadata": {},
   "outputs": [
    {
     "data": {
      "text/plain": [
       "CONTRACT_RISK_WEIGHTED_ASSETS\n",
       "1.02      30136\n",
       "0.97      29951\n",
       "0.99      29935\n",
       "0.98      29816\n",
       "1.00      29790\n",
       "          ...  \n",
       "306.50        1\n",
       "686.64        1\n",
       "278.12        1\n",
       "208.03        1\n",
       "157.62        1\n",
       "Name: count, Length: 23085, dtype: int64"
      ]
     },
     "execution_count": 31,
     "metadata": {},
     "output_type": "execute_result"
    }
   ],
   "source": [
    "# kockázattal súlyozott eszközök\n",
    "df['CONTRACT_RISK_WEIGHTED_ASSETS'].value_counts()"
   ]
  },
  {
   "cell_type": "code",
   "execution_count": 33,
   "metadata": {},
   "outputs": [
    {
     "data": {
      "text/plain": [
       "CONTRACT_TYPE_OF_INTEREST_REPAYMENT\n",
       "100003.0    673991\n",
       "100004.0    335509\n",
       "0.0         131310\n",
       "100002.0    117351\n",
       "110001.0     34341\n",
       "100001.0     33590\n",
       "140003.0     19728\n",
       "140001.0     13085\n",
       "140002.0     10886\n",
       "Name: count, dtype: int64"
      ]
     },
     "execution_count": 33,
     "metadata": {},
     "output_type": "execute_result"
    }
   ],
   "source": [
    "# kamattörlesztés típusa\n",
    "#  8 fajta, 131310 NaN\n",
    "# egyszerű kamat, kamatos kamat, kamatperiódusonként változó kamat,fix kamat,\n",
    "df['CONTRACT_TYPE_OF_INTEREST_REPAYMENT'].value_counts()"
   ]
  },
  {
   "cell_type": "code",
   "execution_count": 35,
   "metadata": {},
   "outputs": [
    {
     "data": {
      "text/plain": [
       "BORROWER_TYPE_OF_CUSTOMER\n",
       "A    1323955\n",
       "B     278798\n",
       "Name: count, dtype: int64"
      ]
     },
     "execution_count": 35,
     "metadata": {},
     "output_type": "execute_result"
    }
   ],
   "source": [
    "#hitelfelvevő típusa, 2 fajta\n",
    "#  risk / no risk or individual / corporate\n",
    "df['BORROWER_TYPE_OF_CUSTOMER'].value_counts()"
   ]
  },
  {
   "cell_type": "code",
   "execution_count": 37,
   "metadata": {},
   "outputs": [
    {
     "data": {
      "text/plain": [
       "BORROWER_TYPE_OF_SETTLEMENT\n",
       "3.0    319946\n",
       "4.0    302494\n",
       "7.0    184915\n",
       "1.0    155359\n",
       "2.0     42256\n",
       "5.0     32964\n",
       "6.0     19644\n",
       "0.0     16551\n",
       "Name: count, dtype: int64"
      ]
     },
     "execution_count": 37,
     "metadata": {},
     "output_type": "execute_result"
    }
   ],
   "source": [
    "# szerződési feltételek\n",
    "df['BORROWER_TYPE_OF_SETTLEMENT'].value_counts()"
   ]
  },
  {
   "cell_type": "code",
   "execution_count": 2,
   "metadata": {},
   "outputs": [],
   "source": [
    "# KORRELÁCIÓS MÁTRIX\n",
    "import seaborn as sns\n",
    "import matplotlib.pyplot as plt\n",
    "\n",
    "corr_df = df.drop(['CONTRACT_ID','BORROWER_ID','CONTRACT_BANK_ID'], axis=1)"
   ]
  },
  {
   "cell_type": "code",
   "execution_count": 3,
   "metadata": {},
   "outputs": [
    {
     "ename": "ValueError",
     "evalue": "could not convert string to float: '479a2e13'",
     "output_type": "error",
     "traceback": [
      "\u001b[1;31m---------------------------------------------------------------------------\u001b[0m",
      "\u001b[1;31mValueError\u001b[0m                                Traceback (most recent call last)",
      "\u001b[1;32mUntitled-1.ipynb Cell 26\u001b[0m line \u001b[0;36m1\n\u001b[1;32m----> <a href='vscode-notebook-cell:Untitled-1.ipynb?jupyter-notebook#X34sdW50aXRsZWQ%3D?line=0'>1</a>\u001b[0m corr \u001b[39m=\u001b[39m corr_df\u001b[39m.\u001b[39;49mcorr()\n\u001b[0;32m      <a href='vscode-notebook-cell:Untitled-1.ipynb?jupyter-notebook#X34sdW50aXRsZWQ%3D?line=1'>2</a>\u001b[0m plt\u001b[39m.\u001b[39mfigure(figsize\u001b[39m=\u001b[39m(\u001b[39m20\u001b[39m,\u001b[39m20\u001b[39m))\n\u001b[0;32m      <a href='vscode-notebook-cell:Untitled-1.ipynb?jupyter-notebook#X34sdW50aXRsZWQ%3D?line=2'>3</a>\u001b[0m sns\u001b[39m.\u001b[39mheatmap(corr, annot\u001b[39m=\u001b[39m\u001b[39mTrue\u001b[39;00m, fmt\u001b[39m=\u001b[39m\u001b[39m'\u001b[39m\u001b[39m.2f\u001b[39m\u001b[39m'\u001b[39m)\n",
      "File \u001b[1;32mf:\\Egyetem\\python_mate_laptop\\lib\\site-packages\\pandas\\core\\frame.py:10707\u001b[0m, in \u001b[0;36mDataFrame.corr\u001b[1;34m(self, method, min_periods, numeric_only)\u001b[0m\n\u001b[0;32m  10705\u001b[0m cols \u001b[39m=\u001b[39m data\u001b[39m.\u001b[39mcolumns\n\u001b[0;32m  10706\u001b[0m idx \u001b[39m=\u001b[39m cols\u001b[39m.\u001b[39mcopy()\n\u001b[1;32m> 10707\u001b[0m mat \u001b[39m=\u001b[39m data\u001b[39m.\u001b[39;49mto_numpy(dtype\u001b[39m=\u001b[39;49m\u001b[39mfloat\u001b[39;49m, na_value\u001b[39m=\u001b[39;49mnp\u001b[39m.\u001b[39;49mnan, copy\u001b[39m=\u001b[39;49m\u001b[39mFalse\u001b[39;49;00m)\n\u001b[0;32m  10709\u001b[0m \u001b[39mif\u001b[39;00m method \u001b[39m==\u001b[39m \u001b[39m\"\u001b[39m\u001b[39mpearson\u001b[39m\u001b[39m\"\u001b[39m:\n\u001b[0;32m  10710\u001b[0m     correl \u001b[39m=\u001b[39m libalgos\u001b[39m.\u001b[39mnancorr(mat, minp\u001b[39m=\u001b[39mmin_periods)\n",
      "File \u001b[1;32mf:\\Egyetem\\python_mate_laptop\\lib\\site-packages\\pandas\\core\\frame.py:1892\u001b[0m, in \u001b[0;36mDataFrame.to_numpy\u001b[1;34m(self, dtype, copy, na_value)\u001b[0m\n\u001b[0;32m   1890\u001b[0m \u001b[39mif\u001b[39;00m dtype \u001b[39mis\u001b[39;00m \u001b[39mnot\u001b[39;00m \u001b[39mNone\u001b[39;00m:\n\u001b[0;32m   1891\u001b[0m     dtype \u001b[39m=\u001b[39m np\u001b[39m.\u001b[39mdtype(dtype)\n\u001b[1;32m-> 1892\u001b[0m result \u001b[39m=\u001b[39m \u001b[39mself\u001b[39;49m\u001b[39m.\u001b[39;49m_mgr\u001b[39m.\u001b[39;49mas_array(dtype\u001b[39m=\u001b[39;49mdtype, copy\u001b[39m=\u001b[39;49mcopy, na_value\u001b[39m=\u001b[39;49mna_value)\n\u001b[0;32m   1893\u001b[0m \u001b[39mif\u001b[39;00m result\u001b[39m.\u001b[39mdtype \u001b[39mis\u001b[39;00m \u001b[39mnot\u001b[39;00m dtype:\n\u001b[0;32m   1894\u001b[0m     result \u001b[39m=\u001b[39m np\u001b[39m.\u001b[39marray(result, dtype\u001b[39m=\u001b[39mdtype, copy\u001b[39m=\u001b[39m\u001b[39mFalse\u001b[39;00m)\n",
      "File \u001b[1;32mf:\\Egyetem\\python_mate_laptop\\lib\\site-packages\\pandas\\core\\internals\\managers.py:1656\u001b[0m, in \u001b[0;36mBlockManager.as_array\u001b[1;34m(self, dtype, copy, na_value)\u001b[0m\n\u001b[0;32m   1654\u001b[0m         arr\u001b[39m.\u001b[39mflags\u001b[39m.\u001b[39mwriteable \u001b[39m=\u001b[39m \u001b[39mFalse\u001b[39;00m\n\u001b[0;32m   1655\u001b[0m \u001b[39melse\u001b[39;00m:\n\u001b[1;32m-> 1656\u001b[0m     arr \u001b[39m=\u001b[39m \u001b[39mself\u001b[39;49m\u001b[39m.\u001b[39;49m_interleave(dtype\u001b[39m=\u001b[39;49mdtype, na_value\u001b[39m=\u001b[39;49mna_value)\n\u001b[0;32m   1657\u001b[0m     \u001b[39m# The underlying data was copied within _interleave, so no need\u001b[39;00m\n\u001b[0;32m   1658\u001b[0m     \u001b[39m# to further copy if copy=True or setting na_value\u001b[39;00m\n\u001b[0;32m   1660\u001b[0m \u001b[39mif\u001b[39;00m na_value \u001b[39mis\u001b[39;00m lib\u001b[39m.\u001b[39mno_default:\n",
      "File \u001b[1;32mf:\\Egyetem\\python_mate_laptop\\lib\\site-packages\\pandas\\core\\internals\\managers.py:1715\u001b[0m, in \u001b[0;36mBlockManager._interleave\u001b[1;34m(self, dtype, na_value)\u001b[0m\n\u001b[0;32m   1713\u001b[0m     \u001b[39melse\u001b[39;00m:\n\u001b[0;32m   1714\u001b[0m         arr \u001b[39m=\u001b[39m blk\u001b[39m.\u001b[39mget_values(dtype)\n\u001b[1;32m-> 1715\u001b[0m     result[rl\u001b[39m.\u001b[39;49mindexer] \u001b[39m=\u001b[39m arr\n\u001b[0;32m   1716\u001b[0m     itemmask[rl\u001b[39m.\u001b[39mindexer] \u001b[39m=\u001b[39m \u001b[39m1\u001b[39m\n\u001b[0;32m   1718\u001b[0m \u001b[39mif\u001b[39;00m \u001b[39mnot\u001b[39;00m itemmask\u001b[39m.\u001b[39mall():\n",
      "\u001b[1;31mValueError\u001b[0m: could not convert string to float: '479a2e13'"
     ]
    }
   ],
   "source": [
    "\n",
    "\n",
    "\n",
    "corr = corr_df.corr()\n",
    "plt.figure(figsize=(20,20))\n",
    "sns.heatmap(corr, annot=True, fmt='.2f')\n"
   ]
  },
  {
   "cell_type": "code",
   "execution_count": null,
   "metadata": {},
   "outputs": [],
   "source": []
  },
  {
   "cell_type": "markdown",
   "metadata": {},
   "source": [
    "Nézzük meg milyen összefüggés van a változók és a hitel bukása között"
   ]
  },
  {
   "cell_type": "code",
   "execution_count": 1,
   "metadata": {},
   "outputs": [],
   "source": [
    "import pandas as pd\n",
    "\n",
    "origdf = pd.read_csv('training_data.csv')\n",
    "subm = pd.read_csv('data_submission_example.csv')"
   ]
  },
  {
   "cell_type": "code",
   "execution_count": 2,
   "metadata": {},
   "outputs": [],
   "source": [
    "df = origdf.copy()"
   ]
  },
  {
   "cell_type": "code",
   "execution_count": 8,
   "metadata": {},
   "outputs": [],
   "source": [
    "eltolas = df['CONTRACT_DATE_OF_LOAN_AGREEMENT'].min()\n",
    "df['CONTRACT_DATE_OF_LOAN_AGREEMENT'] = df['CONTRACT_DATE_OF_LOAN_AGREEMENT']-eltolas\n",
    "df['TARGET_EVENT_DAY']=df['TARGET_EVENT_DAY']-eltolas"
   ]
  },
  {
   "cell_type": "code",
   "execution_count": 39,
   "metadata": {},
   "outputs": [],
   "source": [
    "def datagen_modeA(origdf, startnap, endnap):\n",
    "    df2 = origdf[origdf['CONTRACT_DATE_OF_LOAN_AGREEMENT']>=startnap].copy()\n",
    "    df = df2[df2['CONTRACT_DATE_OF_LOAN_AGREEMENT']<endnap].copy()\n",
    "    \n",
    "    \n",
    "    # TARGET VALTOZO \n",
    "    feltetel = (df['TARGET_EVENT_DAY']>endnap) & (df['TARGET_EVENT_DAY']<endnap+2*365) & (df['TARGET_EVENT'] == 'K')\n",
    "    df['target'] = 0\n",
    "    df.loc[feltetel,'target']=1\n",
    "    \n",
    "    return df\n",
    "    \n",
    "    #cust_df = pd.DataFrame({'BORROWER_ID':df['BORROWER_ID'].unique()})\n",
    "    \n",
    "    #target_df = origdf[origdf['CONTRACT_DATE_OF_LOAN_AGREEMENT']>=endnap]\n",
    "    #target_df = target_df[target_df['CONTRACT_DATE_OF_LOAN_AGREEMENT']<endnap+2*365]\n",
    "    #target_df['target_int'] = target_df['TARGET_EVENT'].map({'-':0,'E':0,'K':1})\n",
    "    #stat = target_df.groupby('BORROWER_ID',as_index=False).agg({'target_int':'max'})\n",
    "    #cust_df = cust_df.merge(stat,on='BORROWER_ID',how='left')\n",
    "    \n",
    "    #return cust_df\n",
    "\n",
    "target_df = datagen_modeA(df,0,365)\n"
   ]
  },
  {
   "cell_type": "code",
   "execution_count": 49,
   "metadata": {},
   "outputs": [],
   "source": [
    "#target_df to csv\n",
    "target_df.to_csv('target_df.csv',index=False)\n"
   ]
  },
  {
   "cell_type": "code",
   "execution_count": 24,
   "metadata": {},
   "outputs": [
    {
     "data": {
      "text/plain": [
       "CONTRACT_CREDIT_INTERMEDIARY\n",
       "2    301555\n",
       "1    146246\n",
       "4     45308\n",
       "3      5655\n",
       "0       960\n",
       "Name: count, dtype: int64"
      ]
     },
     "execution_count": 24,
     "metadata": {},
     "output_type": "execute_result"
    }
   ],
   "source": [
    "# label encoding\n",
    "from sklearn.preprocessing import LabelEncoder\n",
    "le = LabelEncoder()\n",
    "target_df['CONTRACT_CREDIT_INTERMEDIARY'] = le.fit_transform(target_df['CONTRACT_CREDIT_INTERMEDIARY'])\n",
    "target_df['CONTRACT_CREDIT_INTERMEDIARY'].value_counts()"
   ]
  },
  {
   "cell_type": "code",
   "execution_count": 48,
   "metadata": {},
   "outputs": [
    {
     "data": {
      "text/plain": [
       "CONTRACT_ID                                 0\n",
       "BORROWER_ID                                 0\n",
       "CONTRACT_BANK_ID                            0\n",
       "CONTRACT_CREDIT_INTERMEDIARY            45308\n",
       "CONTRACT_CREDIT_LOSS                    14240\n",
       "CONTRACT_CURRENCY                           0\n",
       "CONTRACT_DATE_OF_LOAN_AGREEMENT             0\n",
       "CONTRACT_DEPT_SERVICE_TO_INCOME         83719\n",
       "CONTRACT_FREQUENCY_TYPE                     0\n",
       "CONTRACT_INCOME                         82499\n",
       "CONTRACT_INSTALMENT_AMOUNT             213093\n",
       "CONTRACT_INSTALMENT_AMOUNT_2            21000\n",
       "CONTRACT_INTEREST_PERIOD               237378\n",
       "CONTRACT_INTEREST_RATE                  12867\n",
       "CONTRACT_LGD                            12283\n",
       "CONTRACT_LOAN_AMOUNT                        0\n",
       "CONTRACT_LOAN_CONTRACT_TYPE                 0\n",
       "CONTRACT_LOAN_TO_VALUE_RATIO           390478\n",
       "CONTRACT_LOAN_TYPE                          0\n",
       "CONTRACT_MARKET_VALUE                  329632\n",
       "CONTRACT_MATURITY_DATE                      0\n",
       "CONTRACT_MORTGAGE_LENDING_VALUE        326713\n",
       "CONTRACT_MORTGAGE_TYPE                 326713\n",
       "CONTRACT_REFINANCED                     45308\n",
       "CONTRACT_RISK_WEIGHTED_ASSETS           12283\n",
       "CONTRACT_TYPE_OF_INTEREST_REPAYMENT    187404\n",
       "BORROWER_BIRTH_YEAR                     21203\n",
       "BORROWER_CITIZENSHIP                    21203\n",
       "BORROWER_COUNTRY                        21203\n",
       "BORROWER_COUNTY                         74971\n",
       "BORROWER_TYPE_OF_CUSTOMER                   0\n",
       "BORROWER_TYPE_OF_SETTLEMENT            275141\n",
       "TARGET_EVENT                                0\n",
       "TARGET_EVENT_DAY                       471993\n",
       "target                                      0\n",
       "dtype: int64"
      ]
     },
     "execution_count": 48,
     "metadata": {},
     "output_type": "execute_result"
    }
   ],
   "source": [
    "target_df.isna().sum()"
   ]
  },
  {
   "cell_type": "code",
   "execution_count": null,
   "metadata": {},
   "outputs": [],
   "source": [
    "import matplotlib.pyplot as plt\n",
    "# plot target in different plots for each feature\n",
    "\n",
    "for c in target_df.columns:\n",
    "    if c not in ['BORROWER_ID','CONTRACT_ID','CONTRACT_BANK_ID','target']:\n",
    "        plt.figure(figsize=(10,10))\n",
    "        plt.scatter(target_df[c],target_df['target'],color='green')\n",
    "        plt.title(c)\n",
    "        plt.show()\n",
    "\n",
    "\n"
   ]
  },
  {
   "cell_type": "code",
   "execution_count": 50,
   "metadata": {},
   "outputs": [
    {
     "data": {
      "text/plain": [
       "CONTRACT_TYPE_OF_INTEREST_REPAYMENT\n",
       "100003.0    673991\n",
       "100004.0    335509\n",
       "0.0         131310\n",
       "100002.0    117351\n",
       "110001.0     34341\n",
       "100001.0     33590\n",
       "140003.0     19728\n",
       "140001.0     13085\n",
       "140002.0     10886\n",
       "Name: count, dtype: int64"
      ]
     },
     "execution_count": 50,
     "metadata": {},
     "output_type": "execute_result"
    }
   ],
   "source": [
    "df['CONTRACT_TYPE_OF_INTEREST_REPAYMENT'].value_counts()"
   ]
  }
 ],
 "metadata": {
  "kernelspec": {
   "display_name": "Python 3",
   "language": "python",
   "name": "python3"
  },
  "language_info": {
   "codemirror_mode": {
    "name": "ipython",
    "version": 3
   },
   "file_extension": ".py",
   "mimetype": "text/x-python",
   "name": "python",
   "nbconvert_exporter": "python",
   "pygments_lexer": "ipython3",
   "version": "3.9.1"
  }
 },
 "nbformat": 4,
 "nbformat_minor": 2
}
