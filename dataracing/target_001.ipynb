{
 "cells": [
  {
   "cell_type": "markdown",
   "metadata": {},
   "source": [
    "Ebben a részben adatelőkészítést végzek\n"
   ]
  },
  {
   "cell_type": "markdown",
   "metadata": {},
   "source": [
    "A feltételben beleírjuk, hogy akik az első évben elbuktak, azokat dobjuk el"
   ]
  },
  {
   "cell_type": "code",
   "execution_count": 2,
   "metadata": {},
   "outputs": [],
   "source": [
    "# read the preprocessed data\n",
    "import pandas as pd\n",
    "df = pd.read_csv('preprocessed.csv')"
   ]
  },
  {
   "cell_type": "code",
   "execution_count": 18,
   "metadata": {},
   "outputs": [],
   "source": [
    "subm = pd.read_csv('data_submission_example.csv')"
   ]
  },
  {
   "cell_type": "code",
   "execution_count": 3,
   "metadata": {},
   "outputs": [],
   "source": [
    "df_test = df.copy()"
   ]
  },
  {
   "cell_type": "code",
   "execution_count": 5,
   "metadata": {},
   "outputs": [],
   "source": [
    "valtozok = ['CONTRACT_DATE_OF_LOAN_AGREEMENT','BORROWER_ID','CONTRACT_INSTALMENT_AMOUNT','CONTRACT_INSTALMENT_AMOUNT_2','TARGET_EVENT_DAY','TARGET_EVENT','CONTRACT_ID','CONTRACT_LOAN_AMOUNT']"
   ]
  },
  {
   "cell_type": "code",
   "execution_count": 6,
   "metadata": {},
   "outputs": [],
   "source": [
    "df_test = df_test[valtozok]"
   ]
  },
  {
   "cell_type": "code",
   "execution_count": 7,
   "metadata": {},
   "outputs": [],
   "source": [
    "def datagen_modeA(origdf, startnap, endnap):\n",
    "    df2 = origdf[origdf['CONTRACT_DATE_OF_LOAN_AGREEMENT']>=startnap].copy()\n",
    "    df = df2[df2['CONTRACT_DATE_OF_LOAN_AGREEMENT']<endnap].copy()\n",
    "    cust_df = pd.DataFrame({'BORROWER_ID':df['BORROWER_ID'].unique()})\n",
    "    \n",
    "    \n",
    "    # TARGET VALTOZO \n",
    "    # a következő évben bekövetkező eseményeket nézzük\n",
    "    # k: késedelmes lesz\n",
    "    feltetel = (df['TARGET_EVENT_DAY']>endnap) & (df['TARGET_EVENT_DAY']<endnap+2*365) & (df['TARGET_EVENT'] == 'K')\n",
    "    feltetel_2 = (df['TARGET_EVENT_DAY']<endnap) & (df['TARGET_EVENT_DAY']<startnap) & (df['TARGET_EVENT'] == 'K') #egy éven belül elbukott\n",
    "    df['target'] = 0\n",
    "    df.loc[feltetel,'target']=1\n",
    "    df.loc[feltetel_2,'target']=2\n",
    "    \n",
    "    # drop rows where target is 2\n",
    "    df = df[df['target']!=2]\n",
    "    \n",
    "    stat = df.groupby('BORROWER_ID',as_index=False).agg({'target':'max'})\n",
    "    # akik nem fizettek az 1 lesz\n",
    "    cust_df = cust_df.merge(stat,on='BORROWER_ID',how='left')\n",
    "    # mindenki más aki előtörlesztett vagy semmi nem történt az 0\n",
    "    cust_df['target'] = cust_df['target'].fillna(0)\n",
    "    \n",
    "    \n",
    "    # BEMENO VALTOZOK\n",
    "    # törlesztőösszeg\n",
    "    stat = df.groupby(\"BORROWER_ID\", as_index=False).agg({'CONTRACT_INSTALMENT_AMOUNT':'sum','CONTRACT_INSTALMENT_AMOUNT_2':'sum'})\n",
    "    stat.columns=['BORROWER_ID','contract_instalment','contract_instalment_2']\n",
    "    cust_df = cust_df.merge(stat,on='BORROWER_ID',how='left')\n",
    "    \n",
    "    \n",
    "    \n",
    "    # hany hitele van ÖSSZESEN\n",
    "    \n",
    "    stat = df.groupby(\"BORROWER_ID\", as_index=False).agg({'CONTRACT_ID':'count','CONTRACT_LOAN_AMOUNT':'sum'})\n",
    "    \n",
    "    stat.columns=['BORROWER_ID','in_contract_num','in_loan_amount_sum']\n",
    "    cust_df = cust_df.merge(stat,on='BORROWER_ID',how='left')\n",
    "    \n",
    "    return cust_df\n",
    "    \n",
    "    #cust_df = pd.DataFrame({'BORROWER_ID':df['BORROWER_ID'].unique()})\n",
    "    \n",
    "    #target_df = origdf[origdf['CONTRACT_DATE_OF_LOAN_AGREEMENT']>=endnap]\n",
    "    #target_df = target_df[target_df['CONTRACT_DATE_OF_LOAN_AGREEMENT']<endnap+2*365]\n",
    "    #target_df['target_int'] = target_df['TARGET_EVENT'].map({'-':0,'E':0,'K':1})\n",
    "    #stat = target_df.groupby('BORROWER_ID',as_index=False).agg({'target_int':'max'})\n",
    "    #cust_df = cust_df.merge(stat,on='BORROWER_ID',how='left')\n",
    "    \n",
    "    #return cust_df\n",
    "\n",
    "R1 = datagen_modeA(df_test,0,365)\n",
    "R2 = datagen_modeA(df_test,365*2,365*3)"
   ]
  },
  {
   "cell_type": "code",
   "execution_count": 8,
   "metadata": {},
   "outputs": [
    {
     "data": {
      "text/plain": [
       "0.012927453563396285"
      ]
     },
     "execution_count": 8,
     "metadata": {},
     "output_type": "execute_result"
    }
   ],
   "source": [
    "R1['target'].mean()"
   ]
  },
  {
   "cell_type": "markdown",
   "metadata": {},
   "source": [
    "Modellépítés"
   ]
  },
  {
   "cell_type": "code",
   "execution_count": 9,
   "metadata": {},
   "outputs": [],
   "source": [
    "from sklearn.model_selection import cross_val_predict\n",
    "from sklearn.ensemble import GradientBoostingClassifier"
   ]
  },
  {
   "cell_type": "code",
   "execution_count": 11,
   "metadata": {},
   "outputs": [
    {
     "name": "stderr",
     "output_type": "stream",
     "text": [
      "C:\\Users\\Máté\\AppData\\Local\\Temp\\ipykernel_21080\\1819506029.py:13: SettingWithCopyWarning: \n",
      "A value is trying to be set on a copy of a slice from a DataFrame.\n",
      "Try using .loc[row_indexer,col_indexer] = value instead\n",
      "\n",
      "See the caveats in the documentation: https://pandas.pydata.org/pandas-docs/stable/user_guide/indexing.html#returning-a-view-versus-a-copy\n",
      "  test_df['p'] = gbm.predict_proba(test_df[bemeno_valtozok])[:,1]\n"
     ]
    },
    {
     "name": "stdout",
     "output_type": "stream",
     "text": [
      "0 0.04942513427440773\n",
      "1 0.04839209406846248\n"
     ]
    },
    {
     "name": "stderr",
     "output_type": "stream",
     "text": [
      "C:\\Users\\Máté\\AppData\\Local\\Temp\\ipykernel_21080\\1819506029.py:13: SettingWithCopyWarning: \n",
      "A value is trying to be set on a copy of a slice from a DataFrame.\n",
      "Try using .loc[row_indexer,col_indexer] = value instead\n",
      "\n",
      "See the caveats in the documentation: https://pandas.pydata.org/pandas-docs/stable/user_guide/indexing.html#returning-a-view-versus-a-copy\n",
      "  test_df['p'] = gbm.predict_proba(test_df[bemeno_valtozok])[:,1]\n"
     ]
    }
   ],
   "source": [
    "from sklearn.metrics import log_loss\n",
    "\n",
    "bemeno_valtozok = ['in_contract_num','in_loan_amount_sum','contract_instalment', 'contract_instalment_2']\n",
    "R1 = R1.reset_index(drop=True)\n",
    "cv=2\n",
    "R1['fold'] = R1.index % cv\n",
    "loglosslist = []\n",
    "for i in range(cv):\n",
    "    train_df = R1[R1['fold']!=i]\n",
    "    test_df = R1[R1['fold']==i]\n",
    "    gbm = GradientBoostingClassifier(n_estimators=100,max_depth=4,random_state=42)\n",
    "    gbm.fit(train_df[bemeno_valtozok],train_df['target'])\n",
    "    test_df['p'] = gbm.predict_proba(test_df[bemeno_valtozok])[:,1]\n",
    "    logloss = log_loss(test_df['target'],test_df['p'])\n",
    "    print(i,logloss)\n",
    "    loglosslist.append(logloss)"
   ]
  },
  {
   "cell_type": "code",
   "execution_count": 12,
   "metadata": {},
   "outputs": [
    {
     "data": {
      "text/html": [
       "<style>#sk-container-id-1 {color: black;}#sk-container-id-1 pre{padding: 0;}#sk-container-id-1 div.sk-toggleable {background-color: white;}#sk-container-id-1 label.sk-toggleable__label {cursor: pointer;display: block;width: 100%;margin-bottom: 0;padding: 0.3em;box-sizing: border-box;text-align: center;}#sk-container-id-1 label.sk-toggleable__label-arrow:before {content: \"▸\";float: left;margin-right: 0.25em;color: #696969;}#sk-container-id-1 label.sk-toggleable__label-arrow:hover:before {color: black;}#sk-container-id-1 div.sk-estimator:hover label.sk-toggleable__label-arrow:before {color: black;}#sk-container-id-1 div.sk-toggleable__content {max-height: 0;max-width: 0;overflow: hidden;text-align: left;background-color: #f0f8ff;}#sk-container-id-1 div.sk-toggleable__content pre {margin: 0.2em;color: black;border-radius: 0.25em;background-color: #f0f8ff;}#sk-container-id-1 input.sk-toggleable__control:checked~div.sk-toggleable__content {max-height: 200px;max-width: 100%;overflow: auto;}#sk-container-id-1 input.sk-toggleable__control:checked~label.sk-toggleable__label-arrow:before {content: \"▾\";}#sk-container-id-1 div.sk-estimator input.sk-toggleable__control:checked~label.sk-toggleable__label {background-color: #d4ebff;}#sk-container-id-1 div.sk-label input.sk-toggleable__control:checked~label.sk-toggleable__label {background-color: #d4ebff;}#sk-container-id-1 input.sk-hidden--visually {border: 0;clip: rect(1px 1px 1px 1px);clip: rect(1px, 1px, 1px, 1px);height: 1px;margin: -1px;overflow: hidden;padding: 0;position: absolute;width: 1px;}#sk-container-id-1 div.sk-estimator {font-family: monospace;background-color: #f0f8ff;border: 1px dotted black;border-radius: 0.25em;box-sizing: border-box;margin-bottom: 0.5em;}#sk-container-id-1 div.sk-estimator:hover {background-color: #d4ebff;}#sk-container-id-1 div.sk-parallel-item::after {content: \"\";width: 100%;border-bottom: 1px solid gray;flex-grow: 1;}#sk-container-id-1 div.sk-label:hover label.sk-toggleable__label {background-color: #d4ebff;}#sk-container-id-1 div.sk-serial::before {content: \"\";position: absolute;border-left: 1px solid gray;box-sizing: border-box;top: 0;bottom: 0;left: 50%;z-index: 0;}#sk-container-id-1 div.sk-serial {display: flex;flex-direction: column;align-items: center;background-color: white;padding-right: 0.2em;padding-left: 0.2em;position: relative;}#sk-container-id-1 div.sk-item {position: relative;z-index: 1;}#sk-container-id-1 div.sk-parallel {display: flex;align-items: stretch;justify-content: center;background-color: white;position: relative;}#sk-container-id-1 div.sk-item::before, #sk-container-id-1 div.sk-parallel-item::before {content: \"\";position: absolute;border-left: 1px solid gray;box-sizing: border-box;top: 0;bottom: 0;left: 50%;z-index: -1;}#sk-container-id-1 div.sk-parallel-item {display: flex;flex-direction: column;z-index: 1;position: relative;background-color: white;}#sk-container-id-1 div.sk-parallel-item:first-child::after {align-self: flex-end;width: 50%;}#sk-container-id-1 div.sk-parallel-item:last-child::after {align-self: flex-start;width: 50%;}#sk-container-id-1 div.sk-parallel-item:only-child::after {width: 0;}#sk-container-id-1 div.sk-dashed-wrapped {border: 1px dashed gray;margin: 0 0.4em 0.5em 0.4em;box-sizing: border-box;padding-bottom: 0.4em;background-color: white;}#sk-container-id-1 div.sk-label label {font-family: monospace;font-weight: bold;display: inline-block;line-height: 1.2em;}#sk-container-id-1 div.sk-label-container {text-align: center;}#sk-container-id-1 div.sk-container {/* jupyter's `normalize.less` sets `[hidden] { display: none; }` but bootstrap.min.css set `[hidden] { display: none !important; }` so we also need the `!important` here to be able to override the default hidden behavior on the sphinx rendered scikit-learn.org. See: https://github.com/scikit-learn/scikit-learn/issues/21755 */display: inline-block !important;position: relative;}#sk-container-id-1 div.sk-text-repr-fallback {display: none;}</style><div id=\"sk-container-id-1\" class=\"sk-top-container\"><div class=\"sk-text-repr-fallback\"><pre>GradientBoostingClassifier(max_depth=4, random_state=42)</pre><b>In a Jupyter environment, please rerun this cell to show the HTML representation or trust the notebook. <br />On GitHub, the HTML representation is unable to render, please try loading this page with nbviewer.org.</b></div><div class=\"sk-container\" hidden><div class=\"sk-item\"><div class=\"sk-estimator sk-toggleable\"><input class=\"sk-toggleable__control sk-hidden--visually\" id=\"sk-estimator-id-1\" type=\"checkbox\" checked><label for=\"sk-estimator-id-1\" class=\"sk-toggleable__label sk-toggleable__label-arrow\">GradientBoostingClassifier</label><div class=\"sk-toggleable__content\"><pre>GradientBoostingClassifier(max_depth=4, random_state=42)</pre></div></div></div></div></div>"
      ],
      "text/plain": [
       "GradientBoostingClassifier(max_depth=4, random_state=42)"
      ]
     },
     "execution_count": 12,
     "metadata": {},
     "output_type": "execute_result"
    }
   ],
   "source": [
    "gbm.fit(R1[bemeno_valtozok],R1['target'])"
   ]
  },
  {
   "cell_type": "code",
   "execution_count": 13,
   "metadata": {},
   "outputs": [],
   "source": [
    "R2['p'] = gbm.predict_proba(R2[bemeno_valtozok])[:,1]"
   ]
  },
  {
   "cell_type": "code",
   "execution_count": 14,
   "metadata": {},
   "outputs": [
    {
     "data": {
      "text/plain": [
       "0.012633749047059807"
      ]
     },
     "execution_count": 14,
     "metadata": {},
     "output_type": "execute_result"
    }
   ],
   "source": [
    "R2['p'].mean()"
   ]
  },
  {
   "cell_type": "code",
   "execution_count": 15,
   "metadata": {},
   "outputs": [],
   "source": [
    "R2['p2'] = 1-R2['p']\n",
    "R2['p2'] = R2['p2']*(1-0.0148)/(R2['p2'].mean())\n",
    "R2['p3'] = 1-R2['p2']"
   ]
  },
  {
   "cell_type": "code",
   "execution_count": 19,
   "metadata": {},
   "outputs": [],
   "source": [
    "subm2 = subm.merge(R2[['BORROWER_ID','p3']],on = 'BORROWER_ID',how='left')\n",
    "subm2.loc[ ~subm2['p3'].isna(),'PRED']=subm2.loc[ ~subm2['p3'].isna(),'p3']\n",
    "del subm2['p3']"
   ]
  },
  {
   "cell_type": "code",
   "execution_count": 20,
   "metadata": {},
   "outputs": [
    {
     "data": {
      "text/plain": [
       "0.014496131398390644"
      ]
     },
     "execution_count": 20,
     "metadata": {},
     "output_type": "execute_result"
    }
   ],
   "source": [
    "subm2['PRED'].mean()"
   ]
  },
  {
   "cell_type": "code",
   "execution_count": 21,
   "metadata": {},
   "outputs": [
    {
     "data": {
      "text/plain": [
       "0.014800000000000115"
      ]
     },
     "execution_count": 21,
     "metadata": {},
     "output_type": "execute_result"
    }
   ],
   "source": [
    "# RESULT\n",
    "R2['p3'].mean()"
   ]
  },
  {
   "cell_type": "code",
   "execution_count": null,
   "metadata": {},
   "outputs": [],
   "source": [
    "subm2.to_csv(\"target_001.csv\",index=None)"
   ]
  }
 ],
 "metadata": {
  "kernelspec": {
   "display_name": "Python 3",
   "language": "python",
   "name": "python3"
  },
  "language_info": {
   "codemirror_mode": {
    "name": "ipython",
    "version": 3
   },
   "file_extension": ".py",
   "mimetype": "text/x-python",
   "name": "python",
   "nbconvert_exporter": "python",
   "pygments_lexer": "ipython3",
   "version": "3.9.1"
  }
 },
 "nbformat": 4,
 "nbformat_minor": 2
}
