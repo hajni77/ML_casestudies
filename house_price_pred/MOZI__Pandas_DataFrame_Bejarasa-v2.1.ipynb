{
 "cells": [
  {
   "cell_type": "code",
   "execution_count": 1,
   "metadata": {},
   "outputs": [],
   "source": [
    "import pandas as pd\n",
    "import numpy as np\n",
    "import matplotlib.pyplot as plt\n",
    "%matplotlib inline"
   ]
  },
  {
   "cell_type": "markdown",
   "metadata": {},
   "source": [
    "# Hogyan ne járjunk be egy Pandas DataFrame-et\n",
    "\n",
    "@dmlab2023.v2.1"
   ]
  },
  {
   "cell_type": "markdown",
   "metadata": {},
   "source": [
    "### Segedfüggvények"
   ]
  },
  {
   "cell_type": "code",
   "execution_count": 2,
   "metadata": {},
   "outputs": [],
   "source": [
    "def adathalmaz_generalo(oszlopszam, sorszam):\n",
    "    dataset={}\n",
    "    for oszlop in range(oszlopszam):\n",
    "        attributum_name=\"att\"+str(oszlop)\n",
    "        dataset[attributum_name]=np.random.randint(1,100,sorszam)\n",
    "    return pd.DataFrame(dataset)"
   ]
  },
  {
   "cell_type": "code",
   "execution_count": 3,
   "metadata": {},
   "outputs": [],
   "source": [
    "qs=adathalmaz_generalo(2,4)"
   ]
  },
  {
   "cell_type": "code",
   "execution_count": 4,
   "metadata": {},
   "outputs": [
    {
     "data": {
      "text/html": [
       "<div>\n",
       "<style scoped>\n",
       "    .dataframe tbody tr th:only-of-type {\n",
       "        vertical-align: middle;\n",
       "    }\n",
       "\n",
       "    .dataframe tbody tr th {\n",
       "        vertical-align: top;\n",
       "    }\n",
       "\n",
       "    .dataframe thead th {\n",
       "        text-align: right;\n",
       "    }\n",
       "</style>\n",
       "<table border=\"1\" class=\"dataframe\">\n",
       "  <thead>\n",
       "    <tr style=\"text-align: right;\">\n",
       "      <th></th>\n",
       "      <th>0</th>\n",
       "      <th>1</th>\n",
       "      <th>2</th>\n",
       "      <th>3</th>\n",
       "    </tr>\n",
       "  </thead>\n",
       "  <tbody>\n",
       "    <tr>\n",
       "      <th>att0</th>\n",
       "      <td>66</td>\n",
       "      <td>4</td>\n",
       "      <td>69</td>\n",
       "      <td>39</td>\n",
       "    </tr>\n",
       "    <tr>\n",
       "      <th>att1</th>\n",
       "      <td>29</td>\n",
       "      <td>85</td>\n",
       "      <td>39</td>\n",
       "      <td>21</td>\n",
       "    </tr>\n",
       "  </tbody>\n",
       "</table>\n",
       "</div>"
      ],
      "text/plain": [
       "       0   1   2   3\n",
       "att0  66   4  69  39\n",
       "att1  29  85  39  21"
      ]
     },
     "execution_count": 4,
     "metadata": {},
     "output_type": "execute_result"
    }
   ],
   "source": [
    "qs.T"
   ]
  },
  {
   "cell_type": "code",
   "execution_count": 5,
   "metadata": {},
   "outputs": [
    {
     "data": {
      "text/html": [
       "<div>\n",
       "<style scoped>\n",
       "    .dataframe tbody tr th:only-of-type {\n",
       "        vertical-align: middle;\n",
       "    }\n",
       "\n",
       "    .dataframe tbody tr th {\n",
       "        vertical-align: top;\n",
       "    }\n",
       "\n",
       "    .dataframe thead th {\n",
       "        text-align: right;\n",
       "    }\n",
       "</style>\n",
       "<table border=\"1\" class=\"dataframe\">\n",
       "  <thead>\n",
       "    <tr style=\"text-align: right;\">\n",
       "      <th></th>\n",
       "      <th>att0</th>\n",
       "      <th>att1</th>\n",
       "    </tr>\n",
       "  </thead>\n",
       "  <tbody>\n",
       "    <tr>\n",
       "      <th>0</th>\n",
       "      <td>66</td>\n",
       "      <td>29</td>\n",
       "    </tr>\n",
       "    <tr>\n",
       "      <th>1</th>\n",
       "      <td>4</td>\n",
       "      <td>85</td>\n",
       "    </tr>\n",
       "    <tr>\n",
       "      <th>2</th>\n",
       "      <td>69</td>\n",
       "      <td>39</td>\n",
       "    </tr>\n",
       "    <tr>\n",
       "      <th>3</th>\n",
       "      <td>39</td>\n",
       "      <td>21</td>\n",
       "    </tr>\n",
       "  </tbody>\n",
       "</table>\n",
       "</div>"
      ],
      "text/plain": [
       "   att0  att1\n",
       "0    66    29\n",
       "1     4    85\n",
       "2    69    39\n",
       "3    39    21"
      ]
     },
     "execution_count": 5,
     "metadata": {},
     "output_type": "execute_result"
    }
   ],
   "source": [
    "qs"
   ]
  },
  {
   "cell_type": "markdown",
   "metadata": {},
   "source": [
    "### Bejarasi strategiakat megvalosító függvények"
   ]
  },
  {
   "cell_type": "code",
   "execution_count": 6,
   "metadata": {},
   "outputs": [],
   "source": [
    "def egyszeru_forciklus(df,oszlopnev=\"att0\"):\n",
    "    df['new']=0\n",
    "    for i in range(len(df)):\n",
    "        adat = df.loc[i,oszlopnev]\n",
    "        if adat%2==0:\n",
    "            df.loc[i,'new']='paros'\n",
    "        else:\n",
    "            df.loc[i,'new']='paratlan'\n",
    "    return df"
   ]
  },
  {
   "cell_type": "code",
   "execution_count": 7,
   "metadata": {},
   "outputs": [],
   "source": [
    "def okos_forciklus(df,oszlopnev=\"att0\"):\n",
    "    result=[]\n",
    "    for i,r in df.iterrows():\n",
    "        adat = r[oszlopnev]\n",
    "        if adat%2==0:\n",
    "            result.append('paros')\n",
    "        else:\n",
    "            result.append('paratlan')\n",
    "    df['new']=result\n",
    "    return df\n",
    "    "
   ]
  },
  {
   "cell_type": "code",
   "execution_count": 8,
   "metadata": {},
   "outputs": [],
   "source": [
    "def pandas_apply(df,oszlopnev=\"att0\"):\n",
    "    def fv(adat):\n",
    "        if adat%2==0:\n",
    "            return 'paros'\n",
    "        else:\n",
    "            return 'paratlan'        \n",
    "    df['new']=df[oszlopnev].apply(fv)\n",
    "    return df"
   ]
  },
  {
   "cell_type": "markdown",
   "metadata": {},
   "source": [
    "# Futási idők különböző módszerek esetén"
   ]
  },
  {
   "cell_type": "code",
   "execution_count": 9,
   "metadata": {},
   "outputs": [],
   "source": [
    "#100 sor eseten\n",
    "df=adathalmaz_generalo(2,100)"
   ]
  },
  {
   "cell_type": "code",
   "execution_count": 10,
   "metadata": {},
   "outputs": [
    {
     "name": "stdout",
     "output_type": "stream",
     "text": [
      "41.8 ms ± 153 µs per loop (mean ± std. dev. of 7 runs, 10 loops each)\n"
     ]
    }
   ],
   "source": [
    "%timeit egyszeru_forciklus(df)"
   ]
  },
  {
   "cell_type": "code",
   "execution_count": 11,
   "metadata": {},
   "outputs": [
    {
     "name": "stdout",
     "output_type": "stream",
     "text": [
      "9.78 ms ± 24.3 µs per loop (mean ± std. dev. of 7 runs, 100 loops each)\n"
     ]
    }
   ],
   "source": [
    "%timeit okos_forciklus(df)"
   ]
  },
  {
   "cell_type": "code",
   "execution_count": 12,
   "metadata": {},
   "outputs": [
    {
     "name": "stdout",
     "output_type": "stream",
     "text": [
      "557 µs ± 674 ns per loop (mean ± std. dev. of 7 runs, 1000 loops each)\n"
     ]
    }
   ],
   "source": [
    "%timeit pandas_apply(df)"
   ]
  },
  {
   "cell_type": "code",
   "execution_count": 13,
   "metadata": {},
   "outputs": [],
   "source": [
    "#1000 sor eseten\n",
    "df=adathalmaz_generalo(2,1000)"
   ]
  },
  {
   "cell_type": "code",
   "execution_count": 14,
   "metadata": {},
   "outputs": [
    {
     "name": "stdout",
     "output_type": "stream",
     "text": [
      "435 ms ± 2.02 ms per loop (mean ± std. dev. of 7 runs, 1 loop each)\n"
     ]
    }
   ],
   "source": [
    "%timeit egyszeru_forciklus(df)"
   ]
  },
  {
   "cell_type": "code",
   "execution_count": 15,
   "metadata": {},
   "outputs": [
    {
     "name": "stdout",
     "output_type": "stream",
     "text": [
      "94.8 ms ± 102 µs per loop (mean ± std. dev. of 7 runs, 10 loops each)\n"
     ]
    }
   ],
   "source": [
    "%timeit okos_forciklus(df)"
   ]
  },
  {
   "cell_type": "code",
   "execution_count": 16,
   "metadata": {},
   "outputs": [
    {
     "name": "stdout",
     "output_type": "stream",
     "text": [
      "827 µs ± 6.21 µs per loop (mean ± std. dev. of 7 runs, 1000 loops each)\n"
     ]
    }
   ],
   "source": [
    "%timeit pandas_apply(df)"
   ]
  },
  {
   "cell_type": "code",
   "execution_count": 17,
   "metadata": {},
   "outputs": [],
   "source": [
    "#10000 sor eseten\n",
    "df=adathalmaz_generalo(2,10000)"
   ]
  },
  {
   "cell_type": "code",
   "execution_count": 18,
   "metadata": {},
   "outputs": [
    {
     "name": "stdout",
     "output_type": "stream",
     "text": [
      "6.15 s ± 7.6 ms per loop (mean ± std. dev. of 7 runs, 1 loop each)\n"
     ]
    }
   ],
   "source": [
    "%timeit egyszeru_forciklus(df)"
   ]
  },
  {
   "cell_type": "code",
   "execution_count": 19,
   "metadata": {},
   "outputs": [
    {
     "name": "stdout",
     "output_type": "stream",
     "text": [
      "943 ms ± 1.47 ms per loop (mean ± std. dev. of 7 runs, 1 loop each)\n"
     ]
    }
   ],
   "source": [
    "%timeit okos_forciklus(df)"
   ]
  },
  {
   "cell_type": "code",
   "execution_count": 20,
   "metadata": {},
   "outputs": [
    {
     "name": "stdout",
     "output_type": "stream",
     "text": [
      "3.33 ms ± 19.4 µs per loop (mean ± std. dev. of 7 runs, 100 loops each)\n"
     ]
    }
   ],
   "source": [
    "%timeit pandas_apply(df)"
   ]
  },
  {
   "cell_type": "code",
   "execution_count": 21,
   "metadata": {},
   "outputs": [],
   "source": [
    "# 1 millio sor eseten\n",
    "df=adathalmaz_generalo(2,1000000)"
   ]
  },
  {
   "cell_type": "markdown",
   "metadata": {},
   "source": [
    "Ez -n1 -r1 paraméterekkel itt azt érjük el, hogy a futtatás egyetlen egyszer fusson csak le.\n",
    "\n",
    "Ugyanakkor az egyszerű és okos megoldást itt már nem is érdemes elindítani, mert nem fog lefutni több perc alatt sem."
   ]
  },
  {
   "cell_type": "code",
   "execution_count": 22,
   "metadata": {},
   "outputs": [],
   "source": [
    "# %timeit -n1 -r1 egyszeru_forciklus(df)"
   ]
  },
  {
   "cell_type": "code",
   "execution_count": 23,
   "metadata": {},
   "outputs": [],
   "source": [
    "# %timeit -n1 -r1 okos_forciklus(df)"
   ]
  },
  {
   "cell_type": "code",
   "execution_count": 24,
   "metadata": {},
   "outputs": [
    {
     "name": "stdout",
     "output_type": "stream",
     "text": [
      "289 ms ± 0 ns per loop (mean ± std. dev. of 1 run, 1 loop each)\n"
     ]
    }
   ],
   "source": [
    "%timeit -n1 -r1 pandas_apply(df)"
   ]
  },
  {
   "cell_type": "markdown",
   "metadata": {},
   "source": [
    "# Konklúzió"
   ]
  },
  {
   "cell_type": "markdown",
   "metadata": {},
   "source": [
    "Ha mód van rá kerüljük el, hogy a dataframe elemeit nekünk kelljen egy ciklussal bejárni, hiszen ettől az műveletek extrém hosszú futási idejűek lesznek. Egy megfelelő pandas apply függvénynél kb. 600-szor leszel lassabb, ha a szintén beépített iterrows függvényt használod a tömb bejárására, de úgy 2500-szor leszel lassabb, ha simán bejárod egy for (vagy while) ciklussal a tömbödet. \n"
   ]
  },
  {
   "cell_type": "markdown",
   "metadata": {},
   "source": [
    "# A futási eredmények egy ábrára összerakva"
   ]
  },
  {
   "cell_type": "code",
   "execution_count": 27,
   "metadata": {},
   "outputs": [],
   "source": [
    "# Ez nagyon sokáig futhat, így ezt alapból nem futtatjuk le\n",
    "if False:\n",
    "    x_tengely=[]\n",
    "    y_tengely=[]\n",
    "    #maxtime=1\n",
    "    maxtime=5\n",
    "    for fv in [pandas_apply,okos_forciklus,egyszeru_forciklus]:\n",
    "        fvnev=(str(fv).split(\" \"))[1]\n",
    "        print(fvnev)\n",
    "        x_tengely=[]\n",
    "        y_tengely=[]\n",
    "        for i in range(10):\n",
    "            size = 10**(i+1)\n",
    "            df=adathalmaz_generalo(2,size)\n",
    "            if i<4:\n",
    "                result = %timeit -o fv(df) \n",
    "            else:\n",
    "                result = %timeit -n1 -r1 -o fv(df) \n",
    "            sec = result.best\n",
    "            #print(fvnev,size,sec)\n",
    "            x_tengely.append(size)\n",
    "            y_tengely.append(sec)\n",
    "            if maxtime<sec:\n",
    "                break\n",
    "        plt.plot(x_tengely,y_tengely,marker='.',label=fvnev)\n",
    "    plt.yscale(\"log\")\n",
    "    plt.ylabel(\"Futási idő (sec)\")\n",
    "    plt.xscale(\"log\")\n",
    "    plt.xlabel(\"Dataframe hossza (sor)\")\n",
    "    plt.legend()\n",
    "    plt.savefig(\"data/dataframe_bejaras\"+str(maxtime)+\".png\")\n"
   ]
  },
  {
   "cell_type": "markdown",
   "metadata": {
    "collapsed": true
   },
   "source": [
    "### Képfileból betöltve, mert sokáig futhat a fenti ábra generáló\n",
    "<img src=\"data/dataframe_bejaras5.png\">"
   ]
  },
  {
   "cell_type": "code",
   "execution_count": null,
   "metadata": {
    "collapsed": true
   },
   "outputs": [],
   "source": []
  }
 ],
 "metadata": {
  "kernelspec": {
   "display_name": "Python 3 (ipykernel)",
   "language": "python",
   "name": "python3"
  },
  "language_info": {
   "codemirror_mode": {
    "name": "ipython",
    "version": 3
   },
   "file_extension": ".py",
   "mimetype": "text/x-python",
   "name": "python",
   "nbconvert_exporter": "python",
   "pygments_lexer": "ipython3",
   "version": "3.9.7"
  }
 },
 "nbformat": 4,
 "nbformat_minor": 2
}
